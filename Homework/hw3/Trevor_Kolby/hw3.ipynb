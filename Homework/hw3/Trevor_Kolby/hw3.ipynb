{
 "cells": [
  {
   "cell_type": "code",
   "execution_count": 46,
   "metadata": {
    "collapsed": false
   },
   "outputs": [
    {
     "name": "stderr",
     "output_type": "stream",
     "text": [
      "/Users/kolbylyn/.julia/v0.4/Conda/deps/usr/lib/python2.7/site-packages/matplotlib/font_manager.py:273: UserWarning: Matplotlib is building the font cache using fc-list. This may take a moment.\n",
      "  warnings.warn('Matplotlib is building the font cache using fc-list. This may take a moment.')\n"
     ]
    }
   ],
   "source": [
    "using PyPlot"
   ]
  },
  {
   "cell_type": "code",
   "execution_count": 58,
   "metadata": {
    "collapsed": false
   },
   "outputs": [],
   "source": [
    "using LsqFit"
   ]
  },
  {
   "cell_type": "code",
   "execution_count": 53,
   "metadata": {
    "collapsed": false
   },
   "outputs": [
    {
     "data": {
      "text/plain": [
       "alpha (generic function with 1 method)"
      ]
     },
     "execution_count": 53,
     "metadata": {},
     "output_type": "execute_result"
    }
   ],
   "source": [
    "alpha(r::Float64,k::Float64,l::Float64) = acos((r^2.0 + k^2.0 - l^2.0)/(2.0*k*r))    "
   ]
  },
  {
   "cell_type": "code",
   "execution_count": 59,
   "metadata": {
    "collapsed": false
   },
   "outputs": [
    {
     "data": {
      "text/plain": [
       "beta2 (generic function with 1 method)"
      ]
     },
     "execution_count": 59,
     "metadata": {},
     "output_type": "execute_result"
    }
   ],
   "source": [
    "beta2(r::Float64,k::Float64,l::Float64) = acos((r^2.0 + l^2.0 - k^2.0)/(2.0*l*r))  "
   ]
  },
  {
   "cell_type": "code",
   "execution_count": 60,
   "metadata": {
    "collapsed": false
   },
   "outputs": [
    {
     "data": {
      "text/plain": [
       "r (generic function with 1 method)"
      ]
     },
     "execution_count": 60,
     "metadata": {},
     "output_type": "execute_result"
    }
   ],
   "source": [
    "function r(tau::Array{Float64},b::Float64,k::Float64,l::Float64,T::Float64)\n",
    "    v = 2.0*sqrt((k+l)^2.0-b^2.0)/T\n",
    "    return sqrt(b^2.0 .+ (v.*tau).^2.0)\n",
    "end"
   ]
  },
  {
   "cell_type": "code",
   "execution_count": 61,
   "metadata": {
    "collapsed": false
   },
   "outputs": [
    {
     "data": {
      "text/plain": [
       "tau (generic function with 1 method)"
      ]
     },
     "execution_count": 61,
     "metadata": {},
     "output_type": "execute_result"
    }
   ],
   "source": [
    "tau(t::Array{Float64},P::Float64,t_n::Float64) = mod(t.-t_n+(P/2),P)-(P/2.0)"
   ]
  },
  {
   "cell_type": "code",
   "execution_count": 62,
   "metadata": {
    "collapsed": false
   },
   "outputs": [
    {
     "data": {
      "text/plain": [
       "overlap (generic function with 1 method)"
      ]
     },
     "execution_count": 62,
     "metadata": {},
     "output_type": "execute_result"
    }
   ],
   "source": [
    "function overlap(rs::Array{Float64},k::Float64,l::Float64)\n",
    "    result = Float64[]\n",
    "    for r in rs\n",
    "        if r >= l+k\n",
    "            push!(result,0.0)\n",
    "        elseif r <= l-k\n",
    "            push!(result,pi*k^2.0)\n",
    "        else\n",
    "            push!(result,(k^2.0)*(alpha(r,k,l)-cos(alpha(r,k,l))*sin(alpha(r,k,l)))+(l^2.0)*(beta2(r,k,l)-cos(beta2(r,k,l))*sin(beta2(r,k,l))))\n",
    "        end\n",
    "    end\n",
    "    return result\n",
    "end"
   ]
  },
  {
   "cell_type": "code",
   "execution_count": 63,
   "metadata": {
    "collapsed": false
   },
   "outputs": [
    {
     "data": {
      "text/plain": [
       "transit (generic function with 1 method)"
      ]
     },
     "execution_count": 63,
     "metadata": {},
     "output_type": "execute_result"
    }
   ],
   "source": [
    "function transit(ts::Array{Float64},params::Array{Float64})\n",
    "    #params is [F_s,k,l,P,T,t_n,b]\n",
    "    taus = tau(ts,params[4],params[6])\n",
    "    rs = r(taus,params[7],params[2],params[3],params[5])\n",
    "    overlaps = overlap(rs,params[2],params[3])\n",
    "    return params[1]*(1.0.-overlaps./(pi*params[3]^2.0))\n",
    "end"
   ]
  },
  {
   "cell_type": "code",
   "execution_count": 64,
   "metadata": {
    "collapsed": false
   },
   "outputs": [
    {
     "data": {
      "text/plain": [
       "occultation (generic function with 1 method)"
      ]
     },
     "execution_count": 64,
     "metadata": {},
     "output_type": "execute_result"
    }
   ],
   "source": [
    "function occultation(ts::Array{Float64},params::Array{Float64})\n",
    "    #params is [F_p,k,l,P,T,t_n,b]\n",
    "    taus = tau(ts-(params[4]/2.0),params[4],params[6])\n",
    "    rs = r(taus,params[7],params[2],params[3],params[5])\n",
    "    overlaps = overlap(rs,params[2],params[3])\n",
    "    return params[1]*(1.0.-overlaps./(pi*params[2]^2.0))\n",
    "end"
   ]
  },
  {
   "cell_type": "code",
   "execution_count": 65,
   "metadata": {
    "collapsed": false
   },
   "outputs": [
    {
     "data": {
      "text/plain": [
       "transit_P_guess_init (generic function with 1 method)"
      ]
     },
     "execution_count": 65,
     "metadata": {},
     "output_type": "execute_result"
    }
   ],
   "source": [
    "# code to determine first guess at period. should search within 1 day period around P_guess\n",
    "# uses flux with ONLY transit (not second occult bc you probably wouldn't see that anyway)\n",
    "function transit_P_guess_init(x_data::Array{Float64},y_data::Array{Float64})\n",
    "    arr = hcat(x_data,y_data)\n",
    "    lowest = sortrows(arr, by=x->(x[2])) #sort all points by increasing flux\n",
    "    mins = sort(unique(round(lowest[1:50,1]))) #take the dimmest 50 points, sort by time rounded\n",
    "    return maximum(diff(mins)) \n",
    "end"
   ]
  },
  {
   "cell_type": "code",
   "execution_count": 66,
   "metadata": {
    "collapsed": false
   },
   "outputs": [
    {
     "data": {
      "text/plain": [
       "transit_tn_guess_init (generic function with 1 method)"
      ]
     },
     "execution_count": 66,
     "metadata": {},
     "output_type": "execute_result"
    }
   ],
   "source": [
    "#determines a best guess for the time of transit, assume its the time of minimum flux\n",
    "transit_tn_guess_init(x_data::Array{Float64},y_data::Array{Float64}) = x_data[findmin(y_data)[2]]"
   ]
  },
  {
   "cell_type": "code",
   "execution_count": 67,
   "metadata": {
    "collapsed": false
   },
   "outputs": [
    {
     "data": {
      "text/plain": [
       "transit_P_guess (generic function with 1 method)"
      ]
     },
     "execution_count": 67,
     "metadata": {},
     "output_type": "execute_result"
    }
   ],
   "source": [
    "function transit_P_guess(x_data::Array{Float64},y_data::Array{Float64},P_guess::Float64,t_n::Float64)\n",
    "    #period guess will be to the nearest day. Let's make an array of 100 points between the nearest two days\n",
    "    P_arr = linspace(P_guess-1,P_guess+1,100)\n",
    "    mean_arr = Float64[]\n",
    "    for P in P_arr\n",
    "        phases = (tau(x_data,P,t_n)/P)+0.5\n",
    "        push!(mean_arr,mean(y_data[0.495.<=phases.<=0.505]))\n",
    "    end\n",
    "    return P_arr[mean_arr.==minimum(mean_arr)][1]\n",
    "end"
   ]
  },
  {
   "cell_type": "code",
   "execution_count": 68,
   "metadata": {
    "collapsed": false
   },
   "outputs": [
    {
     "data": {
      "text/plain": [
       "transit_tn_guess (generic function with 1 method)"
      ]
     },
     "execution_count": 68,
     "metadata": {},
     "output_type": "execute_result"
    }
   ],
   "source": [
    "function transit_tn_guess(x_data::Array{Float64},y_data::Array{Float64},P::Float64,t_n::Float64)\n",
    "    phases = (tau(x_data,P,t_n)/P)+0.5\n",
    "    y_low = sort(y_data)[1:75]\n",
    "    return t_n+(median(phases[findin(y_low,y_data)])-0.5)*P\n",
    "end"
   ]
  },
  {
   "cell_type": "code",
   "execution_count": 69,
   "metadata": {
    "collapsed": false
   },
   "outputs": [
    {
     "data": {
      "text/plain": [
       "transit_Fs_guess (generic function with 1 method)"
      ]
     },
     "execution_count": 69,
     "metadata": {},
     "output_type": "execute_result"
    }
   ],
   "source": [
    "#determines a best guess for star flux\n",
    "transit_Fs_guess(y_data::Array{Float64}) = median(round(y_data))"
   ]
  },
  {
   "cell_type": "code",
   "execution_count": 70,
   "metadata": {
    "collapsed": false
   },
   "outputs": [
    {
     "data": {
      "text/plain": [
       "transit_k_guess (generic function with 1 method)"
      ]
     },
     "execution_count": 70,
     "metadata": {},
     "output_type": "execute_result"
    }
   ],
   "source": [
    "#Assume l~R_sun. Calculate a rough transit depth, which gives ratio of radii squared.\n",
    "#This will give an underestimate for when b>l-k (planet disk never fully overlaps the star)\n",
    "function transit_k_guess(y_data::Array{Float64},F_s::Float64)\n",
    "    l = 6.96e10\n",
    "    ysort = sort(y_data)\n",
    "    depth_guess = 1.0 - median(ysort[1:100])/F_s\n",
    "    return sqrt(depth_guess)*l\n",
    "end"
   ]
  },
  {
   "cell_type": "code",
   "execution_count": 71,
   "metadata": {
    "collapsed": false
   },
   "outputs": [
    {
     "data": {
      "text/plain": [
       "transit_T_guess (generic function with 1 method)"
      ]
     },
     "execution_count": 71,
     "metadata": {},
     "output_type": "execute_result"
    }
   ],
   "source": [
    "function transit_T_guess(x_data::Array{Float64},y_data::Array{Float64},t_i::Float64,F_s::Float64)\n",
    "    i_init = find(x_data .== t_i)[1]\n",
    "    i = i_init\n",
    "    av = 0.0\n",
    "    while (F_s - av) >= 0.0015*F_s\n",
    "        av = mean([y_data[i-1];y_data[i];y_data[i+1]])\n",
    "        i += 1\n",
    "    end\n",
    "    return 2.0*(x_data[i]-x_data[i_init])\n",
    "end"
   ]
  },
  {
   "cell_type": "code",
   "execution_count": 137,
   "metadata": {
    "collapsed": false
   },
   "outputs": [
    {
     "data": {
      "text/plain": [
       "fit_transit (generic function with 1 method)"
      ]
     },
     "execution_count": 137,
     "metadata": {},
     "output_type": "execute_result"
    }
   ],
   "source": [
    "function fit_transit(x_data::Array{Float64},y_data::Array{Float64},y_err::Array{Float64})\n",
    "    l_guess = 6.96e10\n",
    "    P_guess_init = transit_P_guess_init(x_data,y_data)\n",
    "    tn_guess_init = transit_tn_guess_init(x_data,y_data)\n",
    "    P_guess = transit_P_guess(x_data,y_data,P_guess_init,tn_guess_init)\n",
    "    tn_guess = transit_tn_guess(x_data,y_data,P_guess,tn_guess_init)\n",
    "    F_guess = transit_Fs_guess(y_data)\n",
    "    k_guess = transit_k_guess(y_data,F_guess)\n",
    "    T_guess = transit_T_guess(x_data,y_data,tn_guess_init,F_guess)\n",
    "    offset = (tn_guess-tn_guess_init)/tn_guess\n",
    "    p0 = [F_guess,k_guess,l_guess,P_guess,T_guess,tn_guess_init+abs(offset),0.0]\n",
    "    fit = curve_fit(transit,x_data,y_data,(1.0./y_err).^2.0,p0)\n",
    "    return fit\n",
    "end"
   ]
  },
  {
   "cell_type": "code",
   "execution_count": 138,
   "metadata": {
    "collapsed": false
   },
   "outputs": [],
   "source": [
    "#Read in data, separate into arrays\n",
    "data = readdlm(\"mystery_planet2.txt\",Float64) \n",
    "times = data[:,1]\n",
    "flux0 = data[:,2]\n",
    "flux = flux0/maximum(flux0)\n",
    "flux_err = data[:,3] ;"
   ]
  },
  {
   "cell_type": "code",
   "execution_count": 140,
   "metadata": {
    "collapsed": false
   },
   "outputs": [
    {
     "name": "stdout",
     "output_type": "stream",
     "text": [
      "  0.124596 seconds (608.00 k allocations: 105.203 MB, 11.33% gc time)\n"
     ]
    }
   ],
   "source": [
    "@time result = fit_transit(times,flux0,flux_err) ;"
   ]
  },
  {
   "cell_type": "code",
   "execution_count": 141,
   "metadata": {
    "collapsed": false
   },
   "outputs": [],
   "source": [
    "#fit_transit is pretty heavy on memory allocation. Seems like the most time is spent by curve_fit\n",
    "#and by the sorting...\n",
    "#Profile.print() ;"
   ]
  },
  {
   "cell_type": "code",
   "execution_count": 142,
   "metadata": {
    "collapsed": false
   },
   "outputs": [
    {
     "data": {
      "text/plain": [
       "plot_transit (generic function with 1 method)"
      ]
     },
     "execution_count": 142,
     "metadata": {},
     "output_type": "execute_result"
    }
   ],
   "source": [
    "function plot_transit(x_data::Array{Float64},y_data::Array{Float64},fit::LsqFit.LsqFitResult{Float64})\n",
    "    #Outputs a phase folded normalized plot of light curve (points) with best fit (line)\n",
    "    params = fit.param\n",
    "    P = params[4]\n",
    "    t_n = params[6]\n",
    "    T = params[5]\n",
    "    F0 = params[1]\n",
    "    norm_flux = y_data/F0\n",
    "    y_fit = transit(x_data,params)/F0\n",
    "    phases = (tau(x_data,P,t_n)/P)+0.5\n",
    "    \n",
    "    v = sortperm(phases)   \n",
    "    scatter(phases[v], norm_flux[v], color = \"k\", alpha=0.2)\n",
    "    plot(phases[v],y_fit[v],\"-r\") \n",
    "    #xlim(0.5-(0.75*T/P),0.5+(0.75*T/P));\n",
    "    xlim(0.43,.58);\n",
    "end"
   ]
  },
  {
   "cell_type": "code",
   "execution_count": 143,
   "metadata": {
    "collapsed": false
   },
   "outputs": [
    {
     "data": {
      "image/png": "[encoded data removed]",
      "text/plain": [
       "PyPlot.Figure(PyObject <matplotlib.figure.Figure object at 0x31d53d210>)"
      ]
     },
     "metadata": {},
     "output_type": "display_data"
    }
   ],
   "source": [
    "plot_transit(times,flux0,result);"
   ]
  },
  {
   "cell_type": "code",
   "execution_count": 144,
   "metadata": {
    "collapsed": false
   },
   "outputs": [
    {
     "data": {
      "text/plain": [
       "density (generic function with 1 method)"
      ]
     },
     "execution_count": 144,
     "metadata": {},
     "output_type": "execute_result"
    }
   ],
   "source": [
    "function density(x_data::Array{Float64},fit::LsqFit.LsqFitResult{Float64})\n",
    "    Msun = 1.9891e33  # g\n",
    "    Rsun = 6.955e10   # cm\n",
    "    \n",
    "    P = fit.param[4]+0.19\n",
    "    T = fit.param[5]\n",
    "    F0 = fit.param[1]\n",
    "    y_fit = transit(x_data,fit.param)/F0\n",
    "    b = fit.param[7]*Rsun\n",
    "    dflux = maximum(1.0-y_fit)\n",
    "    \n",
    "    # factor to put it in units of sun\n",
    "    factor = (365.25^2.0/215.^3.0)*(Msun / Rsun^3.0)\n",
    "    rho = (factor/P^2.0) * ((1+sqrt(dflux))^2.0 -(b^2.0*(1-(sinpi(T/P))^2.0))/(sinpi(T/P)^2.0))^1.5\n",
    "    return rho\n",
    "end"
   ]
  },
  {
   "cell_type": "code",
   "execution_count": 145,
   "metadata": {
    "collapsed": false
   },
   "outputs": [
    {
     "data": {
      "text/plain": [
       "0.0006020179209933032"
      ]
     },
     "execution_count": 145,
     "metadata": {},
     "output_type": "execute_result"
    }
   ],
   "source": [
    "density(times,result)"
   ]
  },
  {
   "cell_type": "code",
   "execution_count": null,
   "metadata": {
    "collapsed": true
   },
   "outputs": [],
   "source": []
  }
 ],
 "metadata": {
  "kernelspec": {
   "display_name": "Julia 0.4.5",
   "language": "julia",
   "name": "julia-0.4"
  },
  "language_info": {
   "file_extension": ".jl",
   "mimetype": "application/julia",
   "name": "julia",
   "version": "0.4.5"
  }
 },
 "nbformat": 4,
 "nbformat_minor": 0
}
