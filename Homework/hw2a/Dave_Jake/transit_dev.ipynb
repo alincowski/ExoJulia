{
 "cells": [
  {
   "cell_type": "code",
   "execution_count": 9,
   "metadata": {
    "collapsed": false
   },
   "outputs": [
    {
     "data": {
      "text/plain": [
       "overlap_area (generic function with 1 method)"
      ]
     },
     "execution_count": 9,
     "metadata": {},
     "output_type": "execute_result"
    }
   ],
   "source": [
    "function overlap_area(r::Float64,k::Float64,R::Float64)\n",
    "    # r: star - planet disk center separation\n",
    "    # k: rp\n",
    "    # R: rstar\n",
    "    # Works as long as units are same or nothing\n",
    "    \n",
    "    # No transit\n",
    "    if r >= k + R\n",
    "        return 0.0\n",
    "    end\n",
    "    \n",
    "    # Full transit\n",
    "    if r <= R - k\n",
    "        return (k*k)/(R*R)\n",
    "    end\n",
    "        \n",
    "    # Partial transit\n",
    "    A = k*k*acos((r*r + k*k - R*R)/(2.0*r*k)) + R*R*acos((r*r + R*R - k*k)/(2.0*r*R))\n",
    "    A -= 0.5*sqrt((-r + k + R)*(r + k - R)*(r - k + R)*(r + k + R))\n",
    "    \n",
    "    return A/(pi*R*R)\n",
    "end"
   ]
  },
  {
   "cell_type": "code",
   "execution_count": 13,
   "metadata": {
    "collapsed": false
   },
   "outputs": [
    {
     "data": {
      "text/plain": [
       "relative_flux (generic function with 1 method)"
      ]
     },
     "execution_count": 13,
     "metadata": {},
     "output_type": "execute_result"
    }
   ],
   "source": [
    "function relative_flux(r::Float64,k::Float64,R::Float64)\n",
    "    # Returns the relative flux observed for a planet - star system\n",
    "    # in or out of transit\n",
    "    # r: star - planet disk center separation\n",
    "    # k: rp\n",
    "    # R: rstar\n",
    "    # Works as long as units are same or nothing\n",
    "    \n",
    "    return 1.0 - overlap_area(r,k,R)\n",
    "end"
   ]
  },
  {
   "cell_type": "code",
   "execution_count": 8,
   "metadata": {
    "collapsed": false
   },
   "outputs": [
    {
     "data": {
      "text/plain": [
       "0.010000000000000002"
      ]
     },
     "execution_count": 8,
     "metadata": {},
     "output_type": "execute_result"
    }
   ],
   "source": [
    "overlap_area(0.0,0.05,0.5)"
   ]
  },
  {
   "cell_type": "code",
   "execution_count": 12,
   "metadata": {
    "collapsed": false
   },
   "outputs": [
    {
     "data": {
      "text/plain": [
       "0.99"
      ]
     },
     "execution_count": 12,
     "metadata": {},
     "output_type": "execute_result"
    }
   ],
   "source": [
    "relative_flux(0.0,0.05,0.5)"
   ]
  },
  {
   "cell_type": "code",
   "execution_count": null,
   "metadata": {
    "collapsed": true
   },
   "outputs": [],
   "source": []
  }
 ],
 "metadata": {
  "kernelspec": {
   "display_name": "Julia 0.4.5",
   "language": "julia",
   "name": "julia-0.4"
  },
  "language_info": {
   "file_extension": ".jl",
   "mimetype": "application/julia",
   "name": "julia",
   "version": "0.4.5"
  }
 },
 "nbformat": 4,
 "nbformat_minor": 0
}
