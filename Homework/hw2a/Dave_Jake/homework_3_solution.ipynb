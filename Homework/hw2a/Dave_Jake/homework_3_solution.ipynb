{
 "cells": [
  {
   "cell_type": "code",
   "execution_count": 1,
   "metadata": {
    "collapsed": false
   },
   "outputs": [],
   "source": [
    "push!(LOAD_PATH,\"../../../ExoJulia/\")\n",
    "push!(LOAD_PATH,\".\")\n",
    "\n",
    "\n",
    "using ExoJulia\n",
    "#using PyPlot\n",
    "#using Optim\n",
    "using Transit"
   ]
  },
  {
   "cell_type": "markdown",
   "metadata": {},
   "source": [
    "# Read in the data"
   ]
  },
  {
   "cell_type": "code",
   "execution_count": 4,
   "metadata": {
    "collapsed": false
   },
   "outputs": [
    {
     "name": "stdout",
     "output_type": "stream",
     "text": [
      "Set Transit.time\n",
      "Set Transit.flux\n",
      "Set Transit.err\n"
     ]
    }
   ],
   "source": [
    "data = readdlm(\"mystery_planet2.txt\");\n",
    "time = data[:,1];\n",
    "flux = data[:,2];\n",
    "mean_flux = flux/median(flux)\n",
    "err = data[:,3];\n",
    "\n",
    "# Inform transit of the transits\n",
    "Transit.set_time(time)\n",
    "Transit.set_flux(mean_flux)\n",
    "Transit.set_err(err)"
   ]
  },
  {
   "cell_type": "code",
   "execution_count": 5,
   "metadata": {
    "collapsed": false
   },
   "outputs": [
    {
     "name": "stdout",
     "output_type": "stream",
     "text": [
      "[0"
     ]
    },
    {
     "data": {
      "text/plain": [
       "-1"
      ]
     },
     "execution_count": 5,
     "metadata": {},
     "output_type": "execute_result"
    },
    {
     "name": "stdout",
     "output_type": "stream",
     "text": [
      ".0,0.007,0.014,0.021,0.028]"
     ]
    }
   ],
   "source": [
    "Transit.guess_params()"
   ]
  },
  {
   "cell_type": "markdown",
   "metadata": {},
   "source": [
    "# What's the data look like?"
   ]
  },
  {
   "cell_type": "code",
   "execution_count": null,
   "metadata": {
    "collapsed": false
   },
   "outputs": [],
   "source": [
    "scatter(time,mean_flux, color=\"blue\", alpha=0.1)\n",
    "ylim(0.995,1.005)"
   ]
  },
  {
   "cell_type": "markdown",
   "metadata": {},
   "source": [
    "# Use Agol Periodogram to estimate the period"
   ]
  },
  {
   "cell_type": "code",
   "execution_count": null,
   "metadata": {
    "collapsed": false
   },
   "outputs": [],
   "source": [
    "periods = collect(linspace(10.0,20.0,1000))\n",
    "\n",
    "best_period = agol_periodogram(data, periods)"
   ]
  },
  {
   "cell_type": "markdown",
   "metadata": {},
   "source": [
    "# Phase fold with the fitted period to see if it works."
   ]
  },
  {
   "cell_type": "code",
   "execution_count": null,
   "metadata": {
    "collapsed": false
   },
   "outputs": [],
   "source": [
    "data_fold = copy(data)\n",
    "data_fold[:,1] = mod(time - time[1], best_period);\n",
    "data_fold = fastsortrows(data_fold,[1]);"
   ]
  },
  {
   "cell_type": "code",
   "execution_count": null,
   "metadata": {
    "collapsed": false
   },
   "outputs": [],
   "source": [
    "scatter(data_fold[:,1],data_fold[:,2]/mean(data_fold[:,2]),color=\"blue\")\n",
    "ylim(0.995,1.005)\n",
    "#xlim(minimum(data_fold[:,1]),maximum(data_fold[:,1]))\n",
    "xlim(0.25,1.5)"
   ]
  },
  {
   "cell_type": "markdown",
   "metadata": {},
   "source": [
    "### We want to calculate the first time that elapses between the first observation and the center of the first transit, $t_{off}$."
   ]
  },
  {
   "cell_type": "code",
   "execution_count": null,
   "metadata": {
    "collapsed": false
   },
   "outputs": [],
   "source": [
    "function estimate_guess(time::Array{Float64,1},flux::Array{Float64,1},period::Float64)\n",
    "    # Estimate 1st transit center\n",
    "    best_ind = argmin(abs(time-period))\n",
    "    toff_est_ind = argmin(flux[1:best_ind]) # <- this index ~ 1st transit center\n",
    "    \"\"\"\n",
    "    #=\n",
    "    cadence = 5\n",
    "    avg_flux = [ mean(b[i:min(i+cadence-1,end)]) for i=1:cadence:length(b) ]\n",
    "    \n",
    "    # Estimate transit duration\n",
    "    mf = median(flux)\n",
    "    iter = 1\n",
    "    T_right_ind = 1\n",
    "    T_left_ind = 1\n",
    "    \n",
    "    # Find right edge of transit\n",
    "    while abs(1.0 - flux[toff_est_ind+iter]/mf) > 0.001 && iter < length(flux)\n",
    "        T_right_ind = toff_est_ind + iter\n",
    "        iter = iter + 1\n",
    "    end\n",
    "    \n",
    "    # Find left edge of transit\n",
    "    while abs(1.0 - flux[toff_est_ind-iter]/mf) > 0.001 && iter > 0\n",
    "        T_left_ind = toff_est_ind - iter\n",
    "        iter = iter - 1\n",
    "    end\n",
    "    \n",
    "    # Better estimate for transit center ind\n",
    "    toff_est_ind = convert(Int,round((T_left_ind + T_right_ind)/2.0))\n",
    "    \n",
    "    \n",
    "    \"\"\"\n",
    "    # Use this to estimate depth assuming i ~ 90 degrees\n",
    "    df_guess = 1.0 - flux[toff_est_ind]/mean(flux)\n",
    "    \n",
    "    return time[toff_est_ind], df_guess\n",
    "end"
   ]
  },
  {
   "cell_type": "code",
   "execution_count": null,
   "metadata": {
    "collapsed": false
   },
   "outputs": [],
   "source": [
    "best_toff, best_df = estimate_guess(time,mean_flux,best_period)"
   ]
  },
  {
   "cell_type": "code",
   "execution_count": null,
   "metadata": {
    "collapsed": false
   },
   "outputs": [],
   "source": [
    "scatter(time,mean_flux, color=\"blue\", alpha=0.1)\n",
    "scatter(best_toff, 1.0, alpha=1.0, color=\"k\", label=\"First Transit Center\")\n",
    "ylim(0.995,1.005)\n",
    "xlim(0.0, 3.0)\n",
    "legend(loc=0)"
   ]
  },
  {
   "cell_type": "markdown",
   "metadata": {},
   "source": [
    "# Try fitting this model with optim"
   ]
  },
  {
   "cell_type": "code",
   "execution_count": null,
   "metadata": {
    "collapsed": false
   },
   "outputs": [],
   "source": [
    "best_optim = optimum.minimum"
   ]
  },
  {
   "cell_type": "markdown",
   "metadata": {
    "collapsed": true
   },
   "source": [
    "# Fit to Seager 2003 formalization"
   ]
  },
  {
   "cell_type": "markdown",
   "metadata": {},
   "source": [
    "## Run with `Optim`"
   ]
  },
  {
   "cell_type": "code",
   "execution_count": null,
   "metadata": {
    "collapsed": false
   },
   "outputs": [],
   "source": [
    "# params [ dF, tT, tF, P, tE ]\n",
    "params = [best_df, 0.5, 0.2, best_period, best_toff]\n",
    "\n",
    "optimum = optimize(transit_loglike_observables_optim, params, iterations=5000, method=:gradient_descent)"
   ]
  },
  {
   "cell_type": "code",
   "execution_count": null,
   "metadata": {
    "collapsed": false
   },
   "outputs": [],
   "source": [
    "best_optim = optimum.minimum"
   ]
  },
  {
   "cell_type": "code",
   "execution_count": null,
   "metadata": {
    "collapsed": false
   },
   "outputs": [],
   "source": [
    "plot_results_full(best_optim)"
   ]
  },
  {
   "cell_type": "code",
   "execution_count": null,
   "metadata": {
    "collapsed": false
   },
   "outputs": [],
   "source": [
    "plot_results_folded(best_optim)"
   ]
  },
  {
   "cell_type": "code",
   "execution_count": null,
   "metadata": {
    "collapsed": true
   },
   "outputs": [],
   "source": []
  }
 ],
 "metadata": {
  "kernelspec": {
   "display_name": "Julia 0.4.5",
   "language": "julia",
   "name": "julia-0.4"
  },
  "language_info": {
   "file_extension": ".jl",
   "mimetype": "application/julia",
   "name": "julia",
   "version": "0.4.5"
  }
 },
 "nbformat": 4,
 "nbformat_minor": 0
}
