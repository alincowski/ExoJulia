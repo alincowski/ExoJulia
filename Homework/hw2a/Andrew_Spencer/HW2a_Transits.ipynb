{
 "cells": [
  {
   "cell_type": "markdown",
   "metadata": {},
   "source": [
    "# ExoJulia\n",
    "## Andrew Lincowski & Spencer Wallace\n",
    "## Homework 2a: Exoplanet Transits"
   ]
  },
  {
   "cell_type": "code",
   "execution_count": 43,
   "metadata": {
    "collapsed": true
   },
   "outputs": [],
   "source": [
    "# Required packages\n",
    "#using LsqFit\n",
    "using PyPlot"
   ]
  },
  {
   "cell_type": "code",
   "execution_count": 75,
   "metadata": {
    "collapsed": false
   },
   "outputs": [
    {
     "data": {
      "text/plain": [
       "fastsortrows (generic function with 1 method)"
      ]
     },
     "execution_count": 75,
     "metadata": {},
     "output_type": "execute_result"
    }
   ],
   "source": [
    "# Functions\n",
    "\n",
    "# 1. Compute overlap of two circles as function of their center-center separation (use law of cosines!)\n",
    "\n",
    "\n",
    "\n",
    "# 2. Compute transit/secondary eclipse of body (no limb darkening)\n",
    "\n",
    "\n",
    "function pi_crust(delta::Float64,r::Float64)\n",
    "    # Calculates overlaps of two circles (the sums of their respective pie crusts)\n",
    "    #r = sqrt(a*a+b*b): separation of circles center-to-center\n",
    "    #delta = (Rpl/R*)^2\n",
    "    # r >= 0\n",
    "    \n",
    "    #ingress/egress\n",
    "    \n",
    "    if(r >= (1 + sqrt(delta)))\n",
    "        # outside of transit\n",
    "        return 0.0\n",
    "    elseif(r <= (1 - sqrt(delta)))\n",
    "        # Fully in transit\n",
    "        return 1.0\n",
    "    else\n",
    "        # ingress / egress\n",
    "        th_st = 2*acos((1+ r*r - delta)/(2*r))\n",
    "        th_pl = 2*acos((r*r+delta-1)/(2*r*sqrt(delta)))\n",
    "        alpha = (0.5*th_st - 0.5*sin(th_st) + 0.5*th_pl*delta - 0.5*delta*sin(th_pl))/(pi*delta)\n",
    "        return alpha\n",
    "    end\n",
    "end\n",
    "\n",
    "\n",
    "# 3. Fit model to mystery_planet2.txt.\n",
    "#    Calculate planet period P, transit depth K, impact parameter b, and duration of transit T\n",
    "#    Calculate density of star\n",
    "\n",
    "function light_curve()\n",
    "    #uses transit() at array of times to produce light curve \n",
    "    \n",
    "end\n",
    "\n",
    "\n",
    "function transit(delta::Float64,b::Float64,t::Float64,t0::Float64,v::Float64)\n",
    "    # delta = (Rpl/R*)^2\n",
    "    # b = impact parameter\n",
    "    # t = time\n",
    "    # t0 = time of contact I\n",
    "    # v = velocity\n",
    "    \n",
    "    #fit: t0, v, b, delta\n",
    "    \n",
    "    a = v*(t-t0)\n",
    "    r = sqrt(a*a+b*b)\n",
    "    retval = 1 - pi_crust(delta,r)*delta\n",
    "    return retval\n",
    "end\n",
    "\n",
    "\n",
    "# 4. EXTRA: layer cake modelth\n",
    "\n",
    "# Random functions\n",
    "function fastsortrows(B::AbstractMatrix,cols::Array; kws...)\n",
    "  \"\"\"\n",
    "  Solution by: abhishekmalali (gihub)\n",
    "  See: https://github.com/JuliaLang/julia/issues/9832\n",
    "  \"\"\"\n",
    "       for i = 1:length(cols)\n",
    "        if i == 1\n",
    "            p =sortperm(B[:,cols[i]]; kws...);\n",
    "            B = B[p,:];\n",
    "        else\n",
    "            i0_old = 0;\n",
    "            i1_old = 0;\n",
    "            i0_new = 0;\n",
    "            i1_new = 0;\n",
    "            for j = 1:size(B,1)-1\n",
    "                if B[j,cols[1:i-1]] == B[j+1,cols[1:i-1]] && i0_old == i0_new\n",
    "                    i0_new = j;\n",
    "                elseif B[j,cols[1:i-1]] != B[j+1,cols[1:i-1]] && i0_old != i0_new && i1_new == i1_old\n",
    "                    i1_new = j;\n",
    "                elseif i0_old != i0_new && j == size(B,1)-1\n",
    "                    i1_new = j+1;\n",
    "                end\n",
    "                if i0_new != i0_old && i1_new != i1_old\n",
    "                    p = sortperm(B[i0_new:i1_new,cols[i]]; kws...);\n",
    "                    B[i0_new:i1_new,:] = B[i0_new:i1_new,:][p,:];\n",
    "                    i0_old = i0_new;\n",
    "                    i1_old = i1_new;\n",
    "                end\n",
    "            end\n",
    "            end\n",
    "    end\n",
    "    return B\n",
    "end\n"
   ]
  },
  {
   "cell_type": "code",
   "execution_count": 76,
   "metadata": {
    "collapsed": false
   },
   "outputs": [
    {
     "data": {
      "text/plain": [
       "10000-element Array{Float64,1}:\n",
       " 11.467\n",
       " 11.467\n",
       " 11.467\n",
       " 11.467\n",
       " 11.467\n",
       " 11.467\n",
       " 11.467\n",
       " 11.467\n",
       " 11.467\n",
       " 11.467\n",
       " 11.467\n",
       " 11.467\n",
       " 11.467\n",
       "  ⋮    \n",
       " 11.467\n",
       " 11.467\n",
       " 11.467\n",
       " 11.467\n",
       " 11.467\n",
       " 11.467\n",
       " 11.467\n",
       " 11.467\n",
       " 11.467\n",
       " 11.467\n",
       " 11.467\n",
       " 11.467"
      ]
     },
     "execution_count": 76,
     "metadata": {},
     "output_type": "execute_result"
    }
   ],
   "source": [
    "# Data import\n",
    "pldata = readdlm(\"mystery_planet2.txt\")\n",
    "time_data = pldata[:,1]\n",
    "flux_data = pldata[:,2]\n",
    "err_data = pldata[:,3]"
   ]
  },
  {
   "cell_type": "code",
   "execution_count": 72,
   "metadata": {
    "collapsed": false
   },
   "outputs": [
    {
     "data": {
      "text/plain": [
       "1000000-element Array{Float64,1}:\n",
       " 0.0     \n",
       " 0.0     \n",
       " 0.0     \n",
       " 0.0     \n",
       " 0.0     \n",
       " 0.0     \n",
       " 0.0     \n",
       " 0.0     \n",
       " 0.0     \n",
       " 0.0     \n",
       " 0.0     \n",
       " 0.0     \n",
       " 0.0     \n",
       " ⋮       \n",
       " 0.466603\n",
       " 0.466581\n",
       " 0.466559\n",
       " 0.466538\n",
       " 0.466516\n",
       " 0.466494\n",
       " 0.466472\n",
       " 0.46645 \n",
       " 0.466428\n",
       " 0.466406\n",
       " 0.466384\n",
       " 0.466363"
      ]
     },
     "execution_count": 72,
     "metadata": {},
     "output_type": "execute_result"
    }
   ],
   "source": [
    "delta = 0.1\n",
    "Rst = 1.0\n",
    "Rpl = 0.1\n",
    "r = linspace(-10,1,1000000)\n",
    "alpha = Array(Float64,length(r))\n",
    "for i in 1:(length(r))\n",
    "    alpha[i]=pi_crust(delta,abs(r[i]))\n",
    "end\n",
    "alpha"
   ]
  },
  {
   "cell_type": "code",
   "execution_count": 73,
   "metadata": {
    "collapsed": false
   },
   "outputs": [
    {
     "data": {
      "image/png": "[encoded data removed]",
      "text/plain": [
       "PyPlot.Figure(PyObject <matplotlib.figure.Figure object at 0x7f042a9e4450>)"
      ]
     },
     "metadata": {},
     "output_type": "display_data"
    },
    {
     "data": {
      "text/plain": [
       "1-element Array{Any,1}:\n",
       " PyObject <matplotlib.lines.Line2D object at 0x7f042a8df950>"
      ]
     },
     "execution_count": 73,
     "metadata": {},
     "output_type": "execute_result"
    }
   ],
   "source": [
    "plot(r,alpha)"
   ]
  },
  {
   "cell_type": "code",
   "execution_count": null,
   "metadata": {
    "collapsed": true
   },
   "outputs": [],
   "source": [
    "#Sort by phase given period\n",
    "phase = Array(Float64,length(time_data))\n",
    "phase = mod(time_data,P)\n",
    "phase_data_arr = [phase RV_data] #combine arrays\n",
    "phase_sorted = fastsortrows(phase_data_arr, [1]) #sort by phase\n"
   ]
  }
 ],
 "metadata": {
  "kernelspec": {
   "display_name": "Julia 0.4.5",
   "language": "julia",
   "name": "julia-0.4"
  },
  "language_info": {
   "file_extension": ".jl",
   "mimetype": "application/julia",
   "name": "julia",
   "version": "0.4.5"
  }
 },
 "nbformat": 4,
 "nbformat_minor": 0
}
