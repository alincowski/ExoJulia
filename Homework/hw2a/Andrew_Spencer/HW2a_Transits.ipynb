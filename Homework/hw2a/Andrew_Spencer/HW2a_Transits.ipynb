{
 "cells": [
  {
   "cell_type": "code",
   "execution_count": null,
   "metadata": {
    "collapsed": true
   },
   "outputs": [],
   "source": [
    "# ExoJulia\n",
    "## Andrew Lincowski & Spencer Wallace\n",
    "## Homework 2a: Exoplanet Transits"
   ]
  },
  {
   "cell_type": "code",
   "execution_count": 41,
   "metadata": {
    "collapsed": true
   },
   "outputs": [],
   "source": [
    "# Required packages\n",
    "using LsqFit\n",
    "using PyPlot"
   ]
  },
  {
   "cell_type": "code",
   "execution_count": 190,
   "metadata": {
    "collapsed": false
   },
   "outputs": [
    {
     "data": {
      "text/plain": [
       "fastsortrows (generic function with 1 method)"
      ]
     },
     "execution_count": 190,
     "metadata": {},
     "output_type": "execute_result"
    }
   ],
   "source": [
    "# Functions\n",
    "\n",
    "# 1. Compute overlap of two circles as function of their center-center separation (use law of cosines!)\n",
    "\n",
    "\n",
    "\n",
    "# 2. Compute transit/secondary eclipse of body (no limb darkening)\n",
    "\n",
    "\n",
    "function pi_crust(delta::Float64,r::Float64)\n",
    "    # Calculates overlaps of two circles (the sums of their respective pie crusts)\n",
    "    #r = sqrt(a*a+b*b): separation of circles center-to-center\n",
    "    #delta = (Rpl/R*)^2\n",
    "    # r >= 0\n",
    "    #@printf \"r = %f, delta = %f\\n\" r delta\n",
    "    #ingress/egress\n",
    "    if(delta > 1.0)\n",
    "        println(\"Delta large\\n\")\n",
    "        return 1.0\n",
    "    end\n",
    "    if(r < 0.0)\n",
    "        println(r)\n",
    "        return\n",
    "    end\n",
    "    if(r >= (1 + sqrt(delta)))\n",
    "        # outside of transit\n",
    "        return 0.0\n",
    "    elseif(r <= (1 - sqrt(delta)))\n",
    "        # Fully in transit\n",
    "        return 1.0\n",
    "    else\n",
    "        # ingress / egress\n",
    "        th_st = 2*acos((1+ r*r - delta)/(2*r))\n",
    "        th_pl = 2*acos((r*r+delta-1)/(2*r*sqrt(delta)))\n",
    "        alpha = (0.5*th_st - 0.5*sin(th_st) + 0.5*th_pl*delta - 0.5*delta*sin(th_pl))/(pi*delta)\n",
    "        return alpha\n",
    "    end\n",
    "end\n",
    "\n",
    "\n",
    "# 3. Fit model to mystery_planet2.txt.\n",
    "#    Calculate planet period P, transit depth K, impact parameter b, and duration of transit T\n",
    "#    Calculate density of star\n",
    "\n",
    "function light_curve()\n",
    "    #uses transit() at array of times to produce light curve \n",
    "    \n",
    "end\n",
    "\n",
    "\n",
    "function transit(delta::Float64,b::Float64,t,t0::Float64,v::Float64,period::Float64)\n",
    "    # delta = (Rpl/R*)^2\n",
    "    # b = impact parameter\n",
    "    # t = time\n",
    "    # t0 = center of transit\n",
    "    # v = velocity\n",
    "    \n",
    "    #fit: t0, v, b, delta\n",
    "    \n",
    "    a = v*(mod(t,period)-t0)\n",
    "    r = sqrt(a*a+b*b)\n",
    "    \n",
    "    retval = Array(Float64,length(r))\n",
    "    for i in 1:length(retval)\n",
    "        retval[i] = 1 - pi_crust(delta,r[i])*delta\n",
    "    end\n",
    "    \n",
    "\n",
    "    retval = 1 - pi_crust(delta,r)*delta\n",
    "    #retval = pi_crust(delta,r)\n",
    "    #println(pi_crust(delta,r))\n",
    "    return retval\n",
    "end\n",
    "\n",
    "\n",
    "function transit_model(x,p)\n",
    "    \n",
    "    delta = (p[1])\n",
    "    b = p[2]\n",
    "    t0 = p[3]\n",
    "    v = p[4]\n",
    "    period = p[5]\n",
    "\n",
    "    \n",
    "    # delta = (Rpl/R*)^2\n",
    "    # b = impact parameter\n",
    "    # t = time\n",
    "    # t0 = center of transit\n",
    "    # v = velocity\n",
    "    \n",
    "    #fit: t0, v, b, delta\n",
    "    \n",
    "    #println(\"x = \")\n",
    "    #println(x)\n",
    "    #println(\"period = \")\n",
    "    #println(period)\n",
    "    #println(\"mod = \")\n",
    "    #println(mod(x,period))\n",
    "    a = v*(mod(x-t0,period)-t0)# + sqrt(1+b*b)\n",
    "    #a = v*(x-t0)\n",
    "    #println(\"a = \")\n",
    "    #println(a)\n",
    "\n",
    "    r = sqrt(a.*a+b.*b)\n",
    "    retval = Array(Float64,length(r))\n",
    "    for i in 1:length(retval)\n",
    "        retval[i] = 1 - pi_crust(delta,r[i])*delta\n",
    "    end\n",
    "    #retval = pi_crust(delta,r)\n",
    "    #println(pi_crust(delta,r))\n",
    "    return retval\n",
    "end\n",
    "\n",
    "\n",
    "# 4. EXTRA: layer cake modelth\n",
    "\n",
    "# Random functions\n",
    "function fastsortrows(B::AbstractMatrix,cols::Array; kws...)\n",
    "  \"\"\"\n",
    "  Solution by: abhishekmalali (gihub)\n",
    "  See: https://github.com/JuliaLang/julia/issues/9832\n",
    "  \"\"\"\n",
    "       for i = 1:length(cols)\n",
    "        if i == 1\n",
    "            p =sortperm(B[:,cols[i]]; kws...);\n",
    "            B = B[p,:];\n",
    "        else\n",
    "            i0_old = 0;\n",
    "            i1_old = 0;\n",
    "            i0_new = 0;\n",
    "            i1_new = 0;\n",
    "            for j = 1:size(B,1)-1\n",
    "                if B[j,cols[1:i-1]] == B[j+1,cols[1:i-1]] && i0_old == i0_new\n",
    "                    i0_new = j;\n",
    "                elseif B[j,cols[1:i-1]] != B[j+1,cols[1:i-1]] && i0_old != i0_new && i1_new == i1_old\n",
    "                    i1_new = j;\n",
    "                elseif i0_old != i0_new && j == size(B,1)-1\n",
    "                    i1_new = j+1;\n",
    "                end\n",
    "                if i0_new != i0_old && i1_new != i1_old\n",
    "                    p = sortperm(B[i0_new:i1_new,cols[i]]; kws...);\n",
    "                    B[i0_new:i1_new,:] = B[i0_new:i1_new,:][p,:];\n",
    "                    i0_old = i0_new;\n",
    "                    i1_old = i1_new;\n",
    "                end\n",
    "            end\n",
    "            end\n",
    "    end\n",
    "    return B\n",
    "end\n"
   ]
  },
  {
   "cell_type": "code",
   "execution_count": 139,
   "metadata": {
    "collapsed": false
   },
   "outputs": [
    {
     "data": {
      "text/plain": [
       "10000-element Array{Float64,1}:\n",
       " 11.467\n",
       " 11.467\n",
       " 11.467\n",
       " 11.467\n",
       " 11.467\n",
       " 11.467\n",
       " 11.467\n",
       " 11.467\n",
       " 11.467\n",
       " 11.467\n",
       " 11.467\n",
       " 11.467\n",
       " 11.467\n",
       "  ⋮    \n",
       " 11.467\n",
       " 11.467\n",
       " 11.467\n",
       " 11.467\n",
       " 11.467\n",
       " 11.467\n",
       " 11.467\n",
       " 11.467\n",
       " 11.467\n",
       " 11.467\n",
       " 11.467\n",
       " 11.467"
      ]
     },
     "execution_count": 139,
     "metadata": {},
     "output_type": "execute_result"
    }
   ],
   "source": [
    "# Data import\n",
    "pldata = readdlm(\"mystery_planet2.txt\")\n",
    "time_data = pldata[:,1]\n",
    "flux_data = pldata[:,2]\n",
    "err_data = pldata[:,3]"
   ]
  },
  {
   "cell_type": "code",
   "execution_count": 140,
   "metadata": {
    "collapsed": false
   },
   "outputs": [],
   "source": [
    "Rst = 1.0\n",
    "Rpl = 0.1\n",
    "delta = (Rpl/Rst)^2\n",
    "b = 1.0\n",
    "r = linspace(-10,1,1000000)\n",
    "alpha = Array(Float64,length(r))\n",
    "#for i in 1:(length(r))\n",
    "#    alpha[i]=pi_crust(delta,abs(r[i]))\n",
    "#end\n",
    "\n",
    "t = linspace(0.0,4.0,100)\n",
    "v = 1.0\n",
    "t0 = 2.0\n",
    "\n",
    "tr_test = Array(Float64,length(t))\n",
    "\n",
    "for i in 1:length(t)\n",
    "    tr_test[i] = transit(delta,b,t[i],t0,v)\n",
    "end"
   ]
  },
  {
   "cell_type": "code",
   "execution_count": 191,
   "metadata": {
    "collapsed": false
   },
   "outputs": [
    {
     "data": {
      "text/plain": [
       "10000-element Array{Float64,1}:\n",
       " 1.0\n",
       " 1.0\n",
       " 1.0\n",
       " 1.0\n",
       " 1.0\n",
       " 1.0\n",
       " 1.0\n",
       " 1.0\n",
       " 1.0\n",
       " 1.0\n",
       " 1.0\n",
       " 1.0\n",
       " 1.0\n",
       " ⋮  \n",
       " 1.0\n",
       " 1.0\n",
       " 1.0\n",
       " 1.0\n",
       " 1.0\n",
       " 1.0\n",
       " 1.0\n",
       " 1.0\n",
       " 1.0\n",
       " 1.0\n",
       " 1.0\n",
       " 1.0"
      ]
     },
     "execution_count": 191,
     "metadata": {},
     "output_type": "execute_result"
    }
   ],
   "source": [
    "#transit(delta,b,t[i],t0,v)\n",
    "time_data_test = linspace(-100,100,1000)\n",
    "tr_test = transit_model(time_data,[0.1,0.0,1.0,1.0,10.0])"
   ]
  },
  {
   "cell_type": "code",
   "execution_count": 192,
   "metadata": {
    "collapsed": false
   },
   "outputs": [
    {
     "data": {
      "image/png": "[encoded data removed]",
      "text/plain": [
       "PyPlot.Figure(PyObject <matplotlib.figure.Figure object at 0x7f4e56a6ead0>)"
      ]
     },
     "metadata": {},
     "output_type": "display_data"
    },
    {
     "data": {
      "text/plain": [
       "(0.0,20.0)"
      ]
     },
     "execution_count": 192,
     "metadata": {},
     "output_type": "execute_result"
    }
   ],
   "source": [
    "plot(time_data,tr_test)\n",
    "ylim([0.85,1.1])\n",
    "xlim([0.0,20.0])\n",
    "#tr_test"
   ]
  },
  {
   "cell_type": "code",
   "execution_count": 9,
   "metadata": {
    "collapsed": false
   },
   "outputs": [],
   "source": [
    "#Probe useful parameter space for period of planet orbit\n",
    "period = linspace(10,25,1000)\n",
    "sum = Array(Float64,length(period))\n",
    "\n",
    "for (j,P) in enumerate(period)\n",
    "    sum[j] = 0.0\n",
    "    \n",
    "    #Sort by phase, given period\n",
    "    phase = Array(Real,length(time_data))\n",
    "    phase = mod(time_data,P)\n",
    "    phase_data_arr = [phase flux_data] #combine arrays\n",
    "    phase_sorted = fastsortrows(phase_data_arr, [1]) #sort by phase\n",
    "    for i in 2:length(time_data)\n",
    "        sum[j] += (phase_sorted[i,2]-phase_sorted[i-1,2])*(phase_sorted[i,2]-phase_sorted[i-1,2])\n",
    "    end\n",
    "end"
   ]
  },
  {
   "cell_type": "code",
   "execution_count": null,
   "metadata": {
    "collapsed": true
   },
   "outputs": [],
   "source": []
  },
  {
   "cell_type": "code",
   "execution_count": 10,
   "metadata": {
    "collapsed": false
   },
   "outputs": [
    {
     "data": {
      "image/png": "[encoded data removed]",
      "text/plain": [
       "PyPlot.Figure(PyObject <matplotlib.figure.Figure object at 0x7f4e3d8bf750>)"
      ]
     },
     "metadata": {},
     "output_type": "display_data"
    },
    {
     "data": {
      "text/plain": [
       "1-element Array{Any,1}:\n",
       " PyObject <matplotlib.lines.Line2D object at 0x7f4e3d639050>"
      ]
     },
     "execution_count": 10,
     "metadata": {},
     "output_type": "execute_result"
    }
   ],
   "source": [
    "#Plot residuals vs period\n",
    "plot(period,log10(sum))"
   ]
  },
  {
   "cell_type": "code",
   "execution_count": 11,
   "metadata": {
    "collapsed": false
   },
   "outputs": [
    {
     "data": {
      "text/plain": [
       "12.162162162162161"
      ]
     },
     "execution_count": 11,
     "metadata": {},
     "output_type": "execute_result"
    }
   ],
   "source": [
    "#Plot region around minimum of residuals\n",
    "min_index=indmin(sum)\n",
    "min_per=period[min_index]\n",
    "\n",
    "# Period fit (days)\n",
    "min_per"
   ]
  },
  {
   "cell_type": "code",
   "execution_count": 136,
   "metadata": {
    "collapsed": false
   },
   "outputs": [
    {
     "data": {
      "text/plain": [
       "5-element Array{Float64,1}:\n",
       "  0.235821\n",
       "  2.90784 \n",
       "  6.33529 \n",
       "  0.219742\n",
       " 12.4433  "
      ]
     },
     "execution_count": 136,
     "metadata": {},
     "output_type": "execute_result"
    }
   ],
   "source": [
    "# Initial values for curve_fit\n",
    "delta = 0.5\n",
    "b = 0.1\n",
    "t0 = 6.0\n",
    "v = 0.1\n",
    "\n",
    "\n",
    "p = [delta,b,t0,v,min_per] #period P from phase folding estimate\n",
    "\n",
    "# Run fitting routine for eccentricity & time of periastron\n",
    "fit = curve_fit(transit_model,time_data,flux_data,err_data,p)\n",
    "fit.param"
   ]
  },
  {
   "cell_type": "code",
   "execution_count": 96,
   "metadata": {
    "collapsed": false
   },
   "outputs": [
    {
     "data": {
      "text/plain": [
       "5-element Array{Float64,1}:\n",
       "  0.001 \n",
       "  0.0   \n",
       "  6.0   \n",
       "  0.1   \n",
       " 12.1622"
      ]
     },
     "execution_count": 96,
     "metadata": {},
     "output_type": "execute_result"
    }
   ],
   "source": [
    "#a = v*(mod(t,period)-t0)\n",
    "#r = sqrt(a*a+b*b)\n",
    "p"
   ]
  },
  {
   "cell_type": "code",
   "execution_count": 80,
   "metadata": {
    "collapsed": false
   },
   "outputs": [
    {
     "data": {
      "text/plain": [
       "linspace(0.0,100.0,50)"
      ]
     },
     "execution_count": 80,
     "metadata": {},
     "output_type": "execute_result"
    }
   ],
   "source": [
    "x = linspace(0,100.0)"
   ]
  },
  {
   "cell_type": "code",
   "execution_count": 89,
   "metadata": {
    "collapsed": false
   },
   "outputs": [
    {
     "ename": "LoadError",
     "evalue": "LoadError: TypeError: non-boolean (BitArray{1}) used in boolean context\nwhile loading In[89], in expression starting on line 1",
     "output_type": "error",
     "traceback": [
      "LoadError: TypeError: non-boolean (BitArray{1}) used in boolean context\nwhile loading In[89], in expression starting on line 1",
      ""
     ]
    }
   ],
   "source": [
    "if(10 .< x)\n",
    "    println(x)\n",
    "end"
   ]
  },
  {
   "cell_type": "code",
   "execution_count": null,
   "metadata": {
    "collapsed": true
   },
   "outputs": [],
   "source": []
  }
 ],
 "metadata": {
  "kernelspec": {
   "display_name": "Julia 0.4.5",
   "language": "julia",
   "name": "julia-0.4"
  },
  "language_info": {
   "file_extension": ".jl",
   "mimetype": "application/julia",
   "name": "julia",
   "version": "0.4.5"
  }
 },
 "nbformat": 4,
 "nbformat_minor": 0
}
