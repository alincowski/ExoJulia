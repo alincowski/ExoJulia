{
 "cells": [
  {
   "cell_type": "code",
   "execution_count": 1,
   "metadata": {
    "collapsed": false
   },
   "outputs": [],
   "source": [
    "using PyPlot"
   ]
  },
  {
   "cell_type": "code",
   "execution_count": 2,
   "metadata": {
    "collapsed": true
   },
   "outputs": [],
   "source": [
    "#We need an object that has two methods: the parameters, which are its location in parameter space\n",
    "#and chi2 of the model calculated from the walker's position compared to the data\n",
    "type walker\n",
    "    params::Array{Float64}\n",
    "    chi2::Float64\n",
    "end"
   ]
  },
  {
   "cell_type": "code",
   "execution_count": 3,
   "metadata": {
    "collapsed": false
   },
   "outputs": [
    {
     "data": {
      "text/plain": [
       "walker_record"
      ]
     },
     "execution_count": 3,
     "metadata": {},
     "output_type": "execute_result"
    }
   ],
   "source": [
    "#This is an object that records a given walker's position and chi2 across multiple steps \n",
    "type walker_record\n",
    "    walkers::Array{walker}\n",
    "    nsteps::Int64\n",
    "end\n",
    "walker_record(ws::Array{walker}) = walker_record(ws,length(ws))"
   ]
  },
  {
   "cell_type": "code",
   "execution_count": 4,
   "metadata": {
    "collapsed": false
   },
   "outputs": [
    {
     "data": {
      "text/plain": [
       "walker_array"
      ]
     },
     "execution_count": 4,
     "metadata": {},
     "output_type": "execute_result"
    }
   ],
   "source": [
    "#enter each walker's record as an element of an array, one entry for each walker\n",
    "type walker_array\n",
    "    recs::Array{walker_record}\n",
    "    nwalkers::Int8\n",
    "end\n",
    "walker_array(recs::Array{walker_record}) = walker_array(recs,length(recs))"
   ]
  },
  {
   "cell_type": "code",
   "execution_count": 5,
   "metadata": {
    "collapsed": true
   },
   "outputs": [],
   "source": [
    "type model #contains a function, f(x,p), as well as nparams === length(p)\n",
    "    f::Function\n",
    "    nparams::Int8\n",
    "end"
   ]
  },
  {
   "cell_type": "code",
   "execution_count": 6,
   "metadata": {
    "collapsed": false
   },
   "outputs": [
    {
     "data": {
      "text/plain": [
       "push! (generic function with 21 methods)"
      ]
     },
     "execution_count": 6,
     "metadata": {},
     "output_type": "execute_result"
    }
   ],
   "source": [
    "#how to add a walker into a walker_record, and a walker_record into a walker_array,\n",
    "#while keeping track of the number of steps taken/ the number of total walkers\n",
    "import Base.push!\n",
    "function push!(rec::walker_record,w::walker)\n",
    "    push!(rec.walkers,w)\n",
    "    rec.nsteps += 1\n",
    "end\n",
    "function push!(arr::walker_array,rec::walker_record)\n",
    "    push!(arr.recs,rec)\n",
    "    arr.nwalkers += 1\n",
    "end"
   ]
  },
  {
   "cell_type": "code",
   "execution_count": 110,
   "metadata": {
    "collapsed": false
   },
   "outputs": [
    {
     "data": {
      "text/plain": [
       "chi2 (generic function with 1 method)"
      ]
     },
     "execution_count": 110,
     "metadata": {},
     "output_type": "execute_result"
    }
   ],
   "source": [
    "#returns chi2 at a position in parameter space\n",
    "chi2(modl::model,params::Array{Float64},data::Array{Float64,2}) = sum(((modl.f(data[:,1],params).-data[:,2])./data[:,3]).^2)"
   ]
  },
  {
   "cell_type": "code",
   "execution_count": 111,
   "metadata": {
    "collapsed": false
   },
   "outputs": [
    {
     "data": {
      "text/plain": [
       "init_walkers (generic function with 1 method)"
      ]
     },
     "execution_count": 111,
     "metadata": {},
     "output_type": "execute_result"
    }
   ],
   "source": [
    "#Initialize a walker_array. nwalkers = nparams*3.0, nsteps=1, at the moment\n",
    "function init_walkers(modl::model,p0::Array{Float64},p_err::Array{Float64},data::Array{Float64,2})\n",
    "    nparam = modl.nparams\n",
    "    nwalker = nparam*3.0\n",
    "    chi_best = chi2(modl,p0,data)\n",
    "    w_array = walker_array(walker_record[])\n",
    "    for j=1:nwalker\n",
    "        chi_trial = 1.0e100\n",
    "        par_trial = p0\n",
    "        while chi_trial > (chi_best + 1000)\n",
    "            par_trial = p0 + p_err.*randn(nparam)\n",
    "            chi_trial = chi2(modl,par_trial,data)\n",
    "        end\n",
    "        w = walker(par_trial,chi_trial)\n",
    "        push!(w_array,walker_record([w]))\n",
    "    end\n",
    "    return w_array\n",
    "end"
   ]
  },
  {
   "cell_type": "code",
   "execution_count": 112,
   "metadata": {
    "collapsed": false
   },
   "outputs": [
    {
     "data": {
      "text/plain": [
       "walk (generic function with 1 method)"
      ]
     },
     "execution_count": 112,
     "metadata": {},
     "output_type": "execute_result"
    }
   ],
   "source": [
    "function walk(w::walker,partner::walker,ascale::Float64,modl::model,data::Array{Float64,2})\n",
    "    #Takes a walker and a partner, picks a new trial step based on parameters\n",
    "    z=(rand()*(sqrt(ascale)-1.0/sqrt(ascale))+1.0/sqrt(ascale))^2\n",
    "    par_trial = z.*w.params.+(1.0-z).*partner.params\n",
    "    # Compute chi-square:    \n",
    "    chi_trial=chi2(modl,par_trial,data)\n",
    "    alp = z^(modl.nparams-1.0)*exp(-0.5*(chi_trial - w.chi2))\n",
    "    return walker(par_trial,chi_trial),alp\n",
    "end"
   ]
  },
  {
   "cell_type": "code",
   "execution_count": 113,
   "metadata": {
    "collapsed": false
   },
   "outputs": [
    {
     "data": {
      "text/plain": [
       "mcmc (generic function with 1 method)"
      ]
     },
     "execution_count": 113,
     "metadata": {},
     "output_type": "execute_result"
    }
   ],
   "source": [
    "function mcmc(data::Array{Float64,2},modl::model,p0::Array{Float64},p_err::Array{Float64},nstep::Int64)\n",
    "    w_array = init_walkers(modl,p0,p_err,data)\n",
    "    nparam = modl.nparams\n",
    "    nwalker = w_array.nwalkers\n",
    "    ascale = 2.0\n",
    "    accept = 0\n",
    "    for i=2:nstep\n",
    "        #Like j = nwalkers, but now we can access the walkers directly!\n",
    "        for (j,rec) in enumerate(w_array.recs)\n",
    "            current_w = rec.walkers[end]\n",
    "            ipartner = j\n",
    "            while ipartner == j\n",
    "                ipartner = ceil(Int,rand()*nwalker)\n",
    "            end\n",
    "            partner_w = w_array.recs[ipartner].walkers[end]\n",
    "            # Now, make a trial walker\n",
    "            (trial_w,alp) = walk(current_w,partner_w,ascale,modl,data)\n",
    "            if alp >= rand()\n",
    "            # If step is accepted, add it to the chains!\n",
    "                push!(rec,trial_w)\n",
    "                accept = accept + 1\n",
    "            else\n",
    "            # Otherwise, copy the current walker\n",
    "                push!(rec,current_w)\n",
    "            end\n",
    "        end\n",
    "        if i%1000 == 0\n",
    "            frac_acc = accept/(1000*nwalker)\n",
    "            println(\"Number of steps: $i, acceptance rate: $frac_acc\")\n",
    "            ascale = 1.0 + (frac_acc/0.25)*(ascale-1.0)\n",
    "            accept = 0\n",
    "        end\n",
    "    end\n",
    "    return w_array\n",
    "end"
   ]
  },
  {
   "cell_type": "code",
   "execution_count": 114,
   "metadata": {
    "collapsed": false
   },
   "outputs": [
    {
     "data": {
      "text/plain": [
       "get_history (generic function with 1 method)"
      ]
     },
     "execution_count": 114,
     "metadata": {},
     "output_type": "execute_result"
    }
   ],
   "source": [
    "get_history(w_array::walker_array,nwalk::Int64,p1::Int64,nstart::Int64) = [w.params[p1] for w in w_array.recs[nwalk].walkers[nstart:end]]"
   ]
  },
  {
   "cell_type": "code",
   "execution_count": 115,
   "metadata": {
    "collapsed": false
   },
   "outputs": [
    {
     "data": {
      "text/plain": [
       "get_median (generic function with 1 method)"
      ]
     },
     "execution_count": 115,
     "metadata": {},
     "output_type": "execute_result"
    }
   ],
   "source": [
    "function get_median(w_array::walker_array,p1::Int64,nstart::Int64)\n",
    "    plist = Float64[]\n",
    "    for i=1:w_array.nwalkers\n",
    "        append!(plist,get_history(w_array,i,p1,nstart))\n",
    "    end\n",
    "    return median(plist)\n",
    "end"
   ]
  },
  {
   "cell_type": "code",
   "execution_count": 116,
   "metadata": {
    "collapsed": false
   },
   "outputs": [
    {
     "data": {
      "text/plain": [
       "get_mean (generic function with 1 method)"
      ]
     },
     "execution_count": 116,
     "metadata": {},
     "output_type": "execute_result"
    }
   ],
   "source": [
    "function get_mean(w_array::walker_array,p1::Int64,nstart::Int64)\n",
    "    plist = Float64[]\n",
    "    for i=1:w_array.nwalkers\n",
    "        append!(plist,get_history(w_array,i,p1,nstart))\n",
    "    end\n",
    "    return mean(plist)\n",
    "end"
   ]
  },
  {
   "cell_type": "code",
   "execution_count": 117,
   "metadata": {
    "collapsed": false
   },
   "outputs": [
    {
     "data": {
      "text/plain": [
       "get_std (generic function with 1 method)"
      ]
     },
     "execution_count": 117,
     "metadata": {},
     "output_type": "execute_result"
    }
   ],
   "source": [
    "function get_std(w_array::walker_array,p1::Int64,nstart::Int64)\n",
    "    plist = Float64[]\n",
    "    for i=1:w_array.nwalkers\n",
    "        append!(plist,get_history(w_array,i,p1,nstart))\n",
    "    end\n",
    "    return std(plist)\n",
    "end"
   ]
  },
  {
   "cell_type": "code",
   "execution_count": 132,
   "metadata": {
    "collapsed": false
   },
   "outputs": [
    {
     "data": {
      "text/plain": [
       "calc_iburn (generic function with 1 method)"
      ]
     },
     "execution_count": 132,
     "metadata": {},
     "output_type": "execute_result"
    }
   ],
   "source": [
    "function calc_iburn(w_array::walker_array)\n",
    "    # Now, determine time of burn-in by calculating first time median is crossed:\n",
    "    iburn = 0\n",
    "    nparam = length(w_array.recs[1].walkers[1].params)\n",
    "    nwalker = w_array.nwalkers\n",
    "    nstep = w_array.recs[1].nsteps\n",
    "    for i=1:nparam\n",
    "        med_param=get_median(w_array,i,1)\n",
    "        for rec in w_array.recs\n",
    "            istep=2\n",
    "            while (rec.walkers[istep].params[i] > med_param) == (rec.walkers[istep-1].params[i] > med_param) && (istep < nstep)\n",
    "              istep=istep+1\n",
    "            end\n",
    "            if istep >= iburn\n",
    "              iburn = istep\n",
    "            end\n",
    "        end\n",
    "    end\n",
    "    return iburn\n",
    "end"
   ]
  },
  {
   "cell_type": "code",
   "execution_count": 141,
   "metadata": {
    "collapsed": false
   },
   "outputs": [
    {
     "data": {
      "text/plain": [
       "get_params (generic function with 2 methods)"
      ]
     },
     "execution_count": 141,
     "metadata": {},
     "output_type": "execute_result"
    }
   ],
   "source": [
    "function get_params(w_array::walker_array,iburn::Int64)\n",
    "    nparam = length(w_array.recs[1].walkers[1].params)\n",
    "    params = Float64[get_mean(w_array,i,iburn) for i=1:nparam]\n",
    "    stds = Float64[get_std(w_array,i,iburn) for i=1:nparam]\n",
    "    return params,stds\n",
    "end"
   ]
  },
  {
   "cell_type": "code",
   "execution_count": 142,
   "metadata": {
    "collapsed": false
   },
   "outputs": [
    {
     "data": {
      "text/plain": [
       "plot_walkers (generic function with 2 methods)"
      ]
     },
     "execution_count": 142,
     "metadata": {},
     "output_type": "execute_result"
    }
   ],
   "source": [
    "function plot_walkers(w_array::walker_array,p1::Int64,p2::Int64,nstart::Int64)\n",
    "    pones = Float64[]\n",
    "    ptwos = Float64[]\n",
    "    for w=1:w_array.nwalkers\n",
    "        append!(pones,get_history(w_array,w,p1,nstart))\n",
    "        append!(ptwos,get_history(w_array,w,p2,nstart))\n",
    "    end\n",
    "    scatter(pones,ptwos)\n",
    "end"
   ]
  },
  {
   "cell_type": "code",
   "execution_count": 143,
   "metadata": {
    "collapsed": false
   },
   "outputs": [
    {
     "data": {
      "text/plain": [
       "plot_histories (generic function with 1 method)"
      ]
     },
     "execution_count": 143,
     "metadata": {},
     "output_type": "execute_result"
    }
   ],
   "source": [
    "function plot_histories(w_array::walker_array,p1::Int64,nstart::Int64)\n",
    "    for w=1:w_array.nwalkers\n",
    "        eyes = collect(1:w_array.recs[w].nsteps)\n",
    "        vals = get_history(w_array,w,p1,nstart)\n",
    "        plot(eyes,vals)\n",
    "    end\n",
    "    show()\n",
    "end"
   ]
  },
  {
   "cell_type": "code",
   "execution_count": 144,
   "metadata": {
    "collapsed": false
   },
   "outputs": [
    {
     "data": {
      "text/plain": [
       "drop_the_mic (generic function with 1 method)"
      ]
     },
     "execution_count": 144,
     "metadata": {},
     "output_type": "execute_result"
    }
   ],
   "source": [
    "function drop_the_mic(data::Array{Float64,2},modl::model,p0::Array{Float64},p_err::Array{Float64},nstep::Int64)\n",
    "    final_walkers = mcmc(data,modl,p0,p_err,nstep)\n",
    "    iburn = calc_iburn(final_walkers)\n",
    "    for (par,std) in zip(get_params(final_walkers,iburn))\n",
    "        println(\"$param +/- $std\")\n",
    "    end\n",
    "    for i=2:modl.nparams\n",
    "        for j=1:i-1\n",
    "            plot_walkers(final_walkers,i,j,iburn)\n",
    "            #show() #.jl file only\n",
    "            clf()\n",
    "        end\n",
    "    end\n",
    "    for i=1:modl.nparams\n",
    "        plot_histories(final_walkers,i,1)\n",
    "        #show() #.jl file only\n",
    "        clf()\n",
    "    end\n",
    "end"
   ]
  },
  {
   "cell_type": "code",
   "execution_count": 145,
   "metadata": {
    "collapsed": false
   },
   "outputs": [
    {
     "name": "stdout",
     "output_type": "stream",
     "text": [
      "Number of steps: 1000, acceptance rate: 0.6756666666666666\n",
      "Number of steps: 2000, acceptance rate: 0.5225\n",
      "Number of steps: 3000, acceptance rate: 0.3715\n",
      "Number of steps: 4000, acceptance rate: 0.3263333333333333\n",
      "Number of steps: 5000, acceptance rate: 0.27466666666666667\n",
      "Number of steps: 6000, acceptance rate: 0.2718333333333333\n",
      "Number of steps: 7000, acceptance rate: 0.24116666666666667\n",
      "Number of steps: 8000, acceptance rate: 0.25783333333333336\n",
      "Number of steps: 9000, acceptance rate: 0.24433333333333335\n",
      "Number of steps: 10000, acceptance rate: 0.25483333333333336\n"
     ]
    },
    {
     "ename": "LoadError",
     "evalue": "LoadError: BoundsError: attempt to access ([0.9587817225090444,1.0965489193794284],)\n  at index [2]\nwhile loading In[145], in expression starting on line 1",
     "output_type": "error",
     "traceback": [
      "LoadError: BoundsError: attempt to access ([0.9587817225090444,1.0965489193794284],)\n  at index [2]\nwhile loading In[145], in expression starting on line 1",
      "",
      " in drop_the_mic at In[144]:4"
     ]
    }
   ],
   "source": [
    "drop_the_mic(data,modl,p0,perr,10000)"
   ]
  },
  {
   "cell_type": "code",
   "execution_count": 126,
   "metadata": {
    "collapsed": false,
    "scrolled": true
   },
   "outputs": [
    {
     "name": "stdout",
     "output_type": "stream",
     "text": [
      "Number of steps: 1000, acceptance rate: 0.6953333333333334\n",
      "Number of steps: 2000, acceptance rate: 0.5081666666666667\n",
      "Number of steps: 3000, acceptance rate: 0.37766666666666665\n",
      "Number of steps: 4000, acceptance rate: 0.31516666666666665\n",
      "Number of steps: 5000, acceptance rate: 0.27416666666666667\n",
      "Number of steps: 6000, acceptance rate: 0.2633333333333333\n",
      "Number of steps: 7000, acceptance rate: 0.25366666666666665\n",
      "Number of steps: 8000, acceptance rate: 0.242\n",
      "Number of steps: 9000, acceptance rate: 0.24733333333333332\n",
      "Number of steps: 10000, acceptance rate: 0.2585\n",
      "done\n"
     ]
    }
   ],
   "source": [
    "mod_trial(x,p) = p[1].*x.+p[2]\n",
    "modl = model(mod_trial,2)\n",
    "xdata = collect(linspace(0,1,100))\n",
    "ydata = mod_trial(xdata,[1.,1.])+rand(length(xdata))/10\n",
    "yerr = rand(length(xdata))/10\n",
    "data = hcat(xdata,ydata,yerr)\n",
    "p0 = [0.9,1.1]\n",
    "perr = [0.01,0.01]\n",
    "foo = init_walkers(modl,p0,perr,data)\n",
    "for rec in foo.recs\n",
    "    push!(rec,walker([rand(),rand()],15.0))\n",
    "end\n",
    "results = mcmc(data,modl,p0,perr,10000) ;\n",
    "println(\"done\")\n",
    "#errorbar(xdata,ydata,yerr=yerr,fmt=\"xb\")\n",
    "#This gives a walker_array object to test the following out on if you so choose"
   ]
  },
  {
   "cell_type": "code",
   "execution_count": 127,
   "metadata": {
    "collapsed": false
   },
   "outputs": [
    {
     "data": {
      "image/png": "[encoded data removed]",
      "text/plain": [
       "PyPlot.Figure(PyObject <matplotlib.figure.Figure object at 0x320356110>)"
      ]
     },
     "metadata": {},
     "output_type": "display_data"
    },
    {
     "data": {
      "text/plain": [
       "PyObject <matplotlib.collections.PathCollection object at 0x32282c890>"
      ]
     },
     "execution_count": 127,
     "metadata": {},
     "output_type": "execute_result"
    }
   ],
   "source": [
    "plot_walkers(results,1,2)"
   ]
  },
  {
   "cell_type": "code",
   "execution_count": 129,
   "metadata": {
    "collapsed": false
   },
   "outputs": [
    {
     "data": {
      "image/png": "[encoded data removed]",
      "text/plain": [
       "PyPlot.Figure(PyObject <matplotlib.figure.Figure object at 0x32282c9d0>)"
      ]
     },
     "metadata": {},
     "output_type": "display_data"
    }
   ],
   "source": [
    "plot_histories(results,2,1)"
   ]
  },
  {
   "cell_type": "code",
   "execution_count": 102,
   "metadata": {
    "collapsed": false
   },
   "outputs": [
    {
     "data": {
      "text/plain": [
       "100x3 Array{Float64,2}:\n",
       " 0.0        1.02815  0.0810807 \n",
       " 0.010101   1.03638  0.0114192 \n",
       " 0.020202   1.10224  0.0343615 \n",
       " 0.030303   1.06313  0.0652    \n",
       " 0.040404   1.06397  0.0848287 \n",
       " 0.0505051  1.05475  0.0302012 \n",
       " 0.0606061  1.10938  0.0707363 \n",
       " 0.0707071  1.1021   0.0898795 \n",
       " 0.0808081  1.08375  0.00724207\n",
       " 0.0909091  1.14181  0.0723807 \n",
       " 0.10101    1.11224  0.0804241 \n",
       " 0.111111   1.20045  0.0157322 \n",
       " 0.121212   1.13463  0.0675996 \n",
       " ⋮                             \n",
       " 0.888889   1.9853   0.048922  \n",
       " 0.89899    1.93797  0.0529963 \n",
       " 0.909091   1.99355  0.0707362 \n",
       " 0.919192   1.95993  0.0955384 \n",
       " 0.929293   2.01353  0.0418393 \n",
       " 0.939394   1.97035  0.0240161 \n",
       " 0.949495   1.96164  0.0415525 \n",
       " 0.959596   2.02628  0.0251162 \n",
       " 0.969697   2.06823  0.0619237 \n",
       " 0.979798   2.00081  0.0197    \n",
       " 0.989899   2.03026  0.0867496 \n",
       " 1.0        2.06734  0.0112236 "
      ]
     },
     "execution_count": 102,
     "metadata": {},
     "output_type": "execute_result"
    }
   ],
   "source": [
    "data"
   ]
  },
  {
   "cell_type": "code",
   "execution_count": 109,
   "metadata": {
    "collapsed": false
   },
   "outputs": [
    {
     "data": {
      "text/plain": [
       "100-element Array{Float64,1}:\n",
       " 0.0810807 \n",
       " 0.0114192 \n",
       " 0.0343615 \n",
       " 0.0652    \n",
       " 0.0848287 \n",
       " 0.0302012 \n",
       " 0.0707363 \n",
       " 0.0898795 \n",
       " 0.00724207\n",
       " 0.0723807 \n",
       " 0.0804241 \n",
       " 0.0157322 \n",
       " 0.0675996 \n",
       " ⋮         \n",
       " 0.048922  \n",
       " 0.0529963 \n",
       " 0.0707362 \n",
       " 0.0955384 \n",
       " 0.0418393 \n",
       " 0.0240161 \n",
       " 0.0415525 \n",
       " 0.0251162 \n",
       " 0.0619237 \n",
       " 0.0197    \n",
       " 0.0867496 \n",
       " 0.0112236 "
      ]
     },
     "execution_count": 109,
     "metadata": {},
     "output_type": "execute_result"
    }
   ],
   "source": [
    "data[:,3]"
   ]
  },
  {
   "cell_type": "code",
   "execution_count": null,
   "metadata": {
    "collapsed": true
   },
   "outputs": [],
   "source": []
  }
 ],
 "metadata": {
  "kernelspec": {
   "display_name": "Julia 0.4.5",
   "language": "julia",
   "name": "julia-0.4"
  },
  "language_info": {
   "file_extension": ".jl",
   "mimetype": "application/julia",
   "name": "julia",
   "version": "0.4.5"
  }
 },
 "nbformat": 4,
 "nbformat_minor": 0
}
