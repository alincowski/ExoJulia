{
 "cells": [
  {
   "cell_type": "code",
   "execution_count": 1,
   "metadata": {
    "collapsed": true
   },
   "outputs": [],
   "source": [
    "#We need an object that has two methods: the parameters, which are its location in parameter space\n",
    "#and chi2 of the model calculated from the walker's position compared to the data\n",
    "type walker\n",
    "    params::Array{Float64}\n",
    "    chi2::Float64\n",
    "end"
   ]
  },
  {
   "cell_type": "code",
   "execution_count": 2,
   "metadata": {
    "collapsed": false
   },
   "outputs": [],
   "source": [
    "#This is an object that records a given walker's position and chi2 across multiple steps \n",
    "type walker_record\n",
    "    walkers::Array{walker}\n",
    "end"
   ]
  },
  {
   "cell_type": "code",
   "execution_count": 5,
   "metadata": {
    "collapsed": true
   },
   "outputs": [],
   "source": [
    "#enter each walker's record as an element of an array, one entry for each walker\n",
    "type walker_array\n",
    "    recs::Array{walker_record}\n",
    "end"
   ]
  },
  {
   "cell_type": "code",
   "execution_count": 7,
   "metadata": {
    "collapsed": false
   },
   "outputs": [
    {
     "data": {
      "text/plain": [
       "push! (generic function with 17 methods)"
      ]
     },
     "execution_count": 7,
     "metadata": {},
     "output_type": "execute_result"
    }
   ],
   "source": [
    "#how to add a walker into a walker record, and a walker record into an array of walkers\n",
    "import Base.push!\n",
    "function push!(rec::walker_record,w::walker)\n",
    "    push!(rec.walkers,w)\n",
    "end\n",
    "function push!(arr::walker_array,rec::walker_record)\n",
    "    push!(arr.recs,rec)\n",
    "end"
   ]
  },
  {
   "cell_type": "code",
   "execution_count": 8,
   "metadata": {
    "collapsed": false
   },
   "outputs": [
    {
     "data": {
      "text/plain": [
       "walker_array([walker_record([walker([1.0],1.0),walker([1.0],1.0),walker([1.0],1.0)]),walker_record([walker([1.0],1.0),walker([1.0],1.0),walker([1.0],1.0)])])"
      ]
     },
     "execution_count": 8,
     "metadata": {},
     "output_type": "execute_result"
    }
   ],
   "source": [
    "#Types are all working!\n",
    "foo = walker([1.0],1)\n",
    "bar = walker([1.0],1)\n",
    "baz = walker_record([foo,bar])\n",
    "baz.walkers\n",
    "push!(baz,walker([1.0],1))\n",
    "bash = walker_array([baz])\n",
    "push!(bash,baz)\n",
    "bash"
   ]
  },
  {
   "cell_type": "code",
   "execution_count": null,
   "metadata": {
    "collapsed": true
   },
   "outputs": [],
   "source": [
    "function chi2() #figures out the chi^2 value at a walker's position\n",
    "end"
   ]
  },
  {
   "cell_type": "code",
   "execution_count": 2,
   "metadata": {
    "collapsed": false
   },
   "outputs": [
    {
     "data": {
      "text/plain": [
       "walk! (generic function with 1 method)"
      ]
     },
     "execution_count": 2,
     "metadata": {},
     "output_type": "execute_result"
    }
   ],
   "source": [
    "function walk!(w::walker,partner::walker,params)\n",
    "    #Takes a walker and a partner, picks a new trial step based on parameters\n",
    "end"
   ]
  },
  {
   "cell_type": "code",
   "execution_count": 5,
   "metadata": {
    "collapsed": true
   },
   "outputs": [],
   "source": [
    "type model #contains a function, from which we can calculate our parameters\n",
    "    f::Function\n",
    "end"
   ]
  },
  {
   "cell_type": "markdown",
   "metadata": {},
   "source": [
    "# To do: make all the necessary types. Model/data types?\n",
    "# Make all the necessary functions to compute chi2, burnin, whatever\n",
    "# Make a function that runs mcmc, returns list of walker positions"
   ]
  }
 ],
 "metadata": {
  "kernelspec": {
   "display_name": "Julia 0.4.5",
   "language": "julia",
   "name": "julia-0.4"
  },
  "language_info": {
   "file_extension": ".jl",
   "mimetype": "application/julia",
   "name": "julia",
   "version": "0.4.5"
  }
 },
 "nbformat": 4,
 "nbformat_minor": 0
}
