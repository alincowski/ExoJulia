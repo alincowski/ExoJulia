{
 "cells": [
  {
   "cell_type": "code",
   "execution_count": 56,
   "metadata": {
    "collapsed": false
   },
   "outputs": [
    {
     "name": "stderr",
     "output_type": "stream",
     "text": [
      "WARNING: using PyPlot.bar in module Main conflicts with an existing identifier.\n"
     ]
    }
   ],
   "source": [
    "using PyPlot"
   ]
  },
  {
   "cell_type": "code",
   "execution_count": 1,
   "metadata": {
    "collapsed": true
   },
   "outputs": [],
   "source": [
    "#We need an object that has two methods: the parameters, which are its location in parameter space\n",
    "#and chi2 of the model calculated from the walker's position compared to the data\n",
    "type walker\n",
    "    params::Array{Float64}\n",
    "    chi2::Float64\n",
    "end"
   ]
  },
  {
   "cell_type": "code",
   "execution_count": 2,
   "metadata": {
    "collapsed": false
   },
   "outputs": [],
   "source": [
    "#This is an object that records a given walker's position and chi2 across multiple steps \n",
    "type walker_record\n",
    "    walkers::Array{walker}\n",
    "end"
   ]
  },
  {
   "cell_type": "code",
   "execution_count": 3,
   "metadata": {
    "collapsed": true
   },
   "outputs": [],
   "source": [
    "#enter each walker's record as an element of an array, one entry for each walker\n",
    "type walker_array\n",
    "    recs::Array{walker_record}\n",
    "end"
   ]
  },
  {
   "cell_type": "code",
   "execution_count": 4,
   "metadata": {
    "collapsed": false
   },
   "outputs": [
    {
     "data": {
      "text/plain": [
       "push! (generic function with 17 methods)"
      ]
     },
     "execution_count": 4,
     "metadata": {},
     "output_type": "execute_result"
    }
   ],
   "source": [
    "#how to add a walker into a walker record, and a walker record into an array of walkers\n",
    "import Base.push!\n",
    "function push!(rec::walker_record,w::walker)\n",
    "    push!(rec.walkers,w)\n",
    "end\n",
    "function push!(arr::walker_array,rec::walker_record)\n",
    "    push!(arr.recs,rec)\n",
    "end"
   ]
  },
  {
   "cell_type": "code",
   "execution_count": 5,
   "metadata": {
    "collapsed": false
   },
   "outputs": [
    {
     "data": {
      "text/plain": [
       "walker_array([walker_record([walker([1.0],1.0),walker([1.0],1.0),walker([1.0],1.0)]),walker_record([walker([1.0],1.0),walker([1.0],1.0),walker([1.0],1.0)])])"
      ]
     },
     "execution_count": 5,
     "metadata": {},
     "output_type": "execute_result"
    }
   ],
   "source": [
    "#Types are all working!\n",
    "foo = walker([1.0],1)\n",
    "bar = walker([1.0],1)\n",
    "baz = walker_record([foo,bar])\n",
    "baz.walkers\n",
    "push!(baz,walker([1.0],1))\n",
    "bash = walker_array([baz])\n",
    "push!(bash,baz)\n",
    "bash"
   ]
  },
  {
   "cell_type": "code",
   "execution_count": 6,
   "metadata": {
    "collapsed": true
   },
   "outputs": [],
   "source": [
    "type model #contains a function, from which we can calculate our parameters\n",
    "    f::Function\n",
    "    nparams::Int8\n",
    "end"
   ]
  },
  {
   "cell_type": "code",
   "execution_count": 137,
   "metadata": {
    "collapsed": false
   },
   "outputs": [
    {
     "data": {
      "text/plain": [
       "chi2 (generic function with 2 methods)"
      ]
     },
     "execution_count": 137,
     "metadata": {},
     "output_type": "execute_result"
    }
   ],
   "source": [
    "#returns chi2 at a position in parameter space\n",
    "chi2(modl::model,params::Array{Float64},data::Array{Float64,2}) = sum(((modl.f(data[1],params)-data[2])/data[3]).^2)"
   ]
  },
  {
   "cell_type": "code",
   "execution_count": 138,
   "metadata": {
    "collapsed": false
   },
   "outputs": [
    {
     "data": {
      "text/plain": [
       "init_walkers (generic function with 2 methods)"
      ]
     },
     "execution_count": 138,
     "metadata": {},
     "output_type": "execute_result"
    }
   ],
   "source": [
    "function init_walkers(modl::model,p0::Array{Float64},p_err::Array{Float64},data::Array{Float64,2})\n",
    "    nparam = modl.nparams\n",
    "    nwalkers::Float64 = nparam*3.0\n",
    "    chi_best = chi2(modl,p0,data)\n",
    "    w_array = walker_array(walker_record[])\n",
    "    for j=1:nwalkers\n",
    "        chi_trial = 1.0e100\n",
    "        par_trial = p0\n",
    "        while chi_trial > (chi_best + 1000)\n",
    "            par_trial = p0 + p_err.*randn(nparam)\n",
    "            chi_trial = chi2(modl,par_trial,data)\n",
    "        end\n",
    "        w = walker(par_trial,chi_trial)\n",
    "        push!(w_array,walker_record([w]))\n",
    "    end\n",
    "    return w_array\n",
    "end"
   ]
  },
  {
   "cell_type": "code",
   "execution_count": 139,
   "metadata": {
    "collapsed": false
   },
   "outputs": [
    {
     "data": {
      "text/plain": [
       "plot_walkers (generic function with 2 methods)"
      ]
     },
     "execution_count": 139,
     "metadata": {},
     "output_type": "execute_result"
    }
   ],
   "source": [
    "function plot_walkers(w_array::walker_array,p1::Int64,p2::Int64)\n",
    "    pones = Float64[]\n",
    "    ptwos = Float64[]\n",
    "    for rec in w_array.recs\n",
    "        push!(pones,rec.walkers[end].params[p1])\n",
    "        push!(ptwos,rec.walkers[end].params[p2])\n",
    "    end\n",
    "    scatter(pones,ptwos)\n",
    "end"
   ]
  },
  {
   "cell_type": "code",
   "execution_count": 140,
   "metadata": {
    "collapsed": false
   },
   "outputs": [
    {
     "data": {
      "text/plain": [
       "walk (generic function with 1 method)"
      ]
     },
     "execution_count": 140,
     "metadata": {},
     "output_type": "execute_result"
    }
   ],
   "source": [
    "function walk(w::walker,partner::walker,ascale::Float64,modl::model,data::Array{Float64,2})\n",
    "    #Takes a walker and a partner, picks a new trial step based on parameters\n",
    "    z=(rand()*(sqrt(ascale)-1.0/sqrt(ascale))+1.0/sqrt(ascale))^2\n",
    "    par_trial = z.*w.params.+(1.0-z).*partner.params\n",
    "    # Compute chi-square:    \n",
    "    chi_trial=chi2(modl,par_trial,data)\n",
    "    alp = z^(modl.nparams-1)*exp(-0.5*(chi_trial - w.chi2))\n",
    "    return walker(par_trial,chi_trial),alp\n",
    "end"
   ]
  },
  {
   "cell_type": "code",
   "execution_count": 135,
   "metadata": {
    "collapsed": false
   },
   "outputs": [
    {
     "data": {
      "text/plain": [
       "mcmc (generic function with 1 method)"
      ]
     },
     "execution_count": 135,
     "metadata": {},
     "output_type": "execute_result"
    }
   ],
   "source": [
    "function mcmc(data::Array{Float64,2},modl::model,p0::Array{Float64},p_err::Array{Float64},nsteps::Int64)\n",
    "    w_array = init_walkers(modl,p0,p_err,data)\n",
    "    nparam = modl.nparams\n",
    "    nwalkers = nparam*3.0\n",
    "    ascale = 2.0\n",
    "    accept = 0\n",
    "    for i=2:nsteps\n",
    "        println(typeof(i))\n",
    "        #Like j = nwalkers, but now we can access the walkers directly!\n",
    "        for (j,rec) in enumerate(w_array.recs)\n",
    "            current_w = rec.walkers[end]\n",
    "            ipartner = j\n",
    "            while ipartner == j\n",
    "                ipartner = ceil(Int,rand()*nwalkers)\n",
    "            end\n",
    "            partner_w = w_array.recs[ipartner].walkers[end]\n",
    "            # Now, make a trial walker\n",
    "            (trial_w,alp) = walk(current_w,partner_w,ascale,modl,data)\n",
    "            if alp >= rand()\n",
    "            # If step is accepted, add it to the chains!\n",
    "                push!(rec,trial_w)\n",
    "                accept = accept + 1\n",
    "            else\n",
    "            # Otherwise, copy the current walker\n",
    "                push!(rec,current_w)\n",
    "            end\n",
    "        end\n",
    "        if mod(i,1000) == 0\n",
    "            frac_acc = accept/(1000*nwalkers)\n",
    "            println(\"Number of steps: $i, acceptance rate: $frac_acc\")\n",
    "            ascale = 1.0 + (frac_acc/0.25)*(ascale-1.0)\n",
    "            accept = 0\n",
    "        end\n",
    "    end\n",
    "    plot_walkers(w_array,1,2)\n",
    "# Now, determine time of burn-in by calculating first time median is crossed:\n",
    "    #iburn = 0\n",
    "    #for i=1:nparam\n",
    "    #  med_param=median(par_mcmc[1:nwalkers,1:nsteps,i])\n",
    "    #  for j=1:nwalkers\n",
    "    #    istep=2\n",
    "    #    while (par_mcmc[j,istep,i] > med_param) == (par_mcmc[j,istep-1,i] > med_param) && (istep < nsteps)\n",
    "    #      istep=istep+1\n",
    "    #    end\n",
    "    #    if istep >= iburn\n",
    "    #      iburn = istep\n",
    "    #    end\n",
    "    #  end\n",
    "   # end\n",
    "end"
   ]
  },
  {
   "cell_type": "code",
   "execution_count": 136,
   "metadata": {
    "collapsed": false
   },
   "outputs": [
    {
     "name": "stdout",
     "output_type": "stream",
     "text": [
      "Int64\n"
     ]
    },
    {
     "data": {
      "image/png": "[encoded data removed]",
      "text/plain": [
       "PyPlot.Figure(PyObject <matplotlib.figure.Figure object at 0x31f148a90>)"
      ]
     },
     "metadata": {},
     "output_type": "display_data"
    },
    {
     "data": {
      "text/plain": [
       "PyObject <matplotlib.collections.PathCollection object at 0x31f30ded0>"
      ]
     },
     "execution_count": 136,
     "metadata": {},
     "output_type": "execute_result"
    },
    {
     "name": "stdout",
     "output_type": "stream",
     "text": [
      "Int64\n",
      "Int64\n",
      "Int64\n",
      "Int64\n",
      "Int64\n",
      "Int64\n",
      "Int64\n",
      "Int64\n",
      "Int64\n",
      "Int64\n",
      "Int64\n",
      "Int64\n",
      "Int64\n",
      "Int64\n",
      "Int64\n",
      "Int64\n",
      "Int64\n",
      "Int64\n",
      "Int64\n",
      "Int64\n",
      "Int64\n",
      "Int64\n",
      "Int64\n",
      "Int64\n",
      "Int64\n",
      "Int64\n",
      "Int64\n",
      "Int64\n",
      "Int64\n",
      "Int64\n",
      "Int64\n",
      "Int64\n",
      "Int64\n",
      "Int64\n",
      "Int64\n",
      "Int64\n",
      "Int64\n",
      "Int64\n",
      "Int64\n",
      "Int64\n",
      "Int64\n",
      "Int64\n",
      "Int64\n",
      "Int64\n",
      "Int64\n",
      "Int64\n",
      "Int64\n",
      "Int64\n",
      "Int64\n",
      "Int64\n",
      "Int64\n",
      "Int64\n",
      "Int64\n",
      "Int64\n",
      "Int64\n",
      "Int64\n",
      "Int64\n",
      "Int64\n",
      "Int64\n",
      "Int64\n",
      "Int64\n",
      "Int64\n",
      "Int64\n",
      "Int64\n",
      "Int64\n",
      "Int64\n",
      "Int64\n",
      "Int64\n",
      "Int64\n",
      "Int64\n",
      "Int64\n",
      "Int64\n",
      "Int64\n",
      "Int64\n",
      "Int64\n",
      "Int64\n",
      "Int64\n",
      "Int64\n",
      "Int64\n",
      "Int64\n",
      "Int64\n",
      "Int64\n",
      "Int64\n",
      "Int64\n",
      "Int64\n",
      "Int64\n",
      "Int64\n",
      "Int64\n",
      "Int64\n",
      "Int64\n",
      "Int64\n",
      "Int64\n",
      "Int64\n",
      "Int64\n",
      "Int64\n",
      "Int64\n",
      "Int64\n",
      "Int64\n",
      "Int64\n",
      "Int64\n",
      "Int64\n",
      "Int64\n",
      "Int64\n",
      "Int64\n",
      "Int64\n",
      "Int64\n",
      "Int64\n",
      "Int64\n",
      "Int64\n",
      "Int64\n",
      "Int64\n",
      "Int64\n",
      "Int64\n",
      "Int64\n",
      "Int64\n",
      "Int64\n",
      "Int64\n",
      "Int64\n",
      "Int64\n",
      "Int64\n",
      "Int64\n",
      "Int64\n",
      "Int64\n",
      "Int64\n",
      "Int64\n",
      "Int64\n",
      "Int64\n",
      "Int64\n",
      "Int64\n",
      "Int64\n",
      "Int64\n",
      "Int64\n",
      "Int64\n",
      "Int64\n",
      "Int64\n",
      "Int64\n",
      "Int64\n",
      "Int64\n",
      "Int64\n",
      "Int64\n",
      "Int64\n",
      "Int64\n",
      "Int64\n",
      "Int64\n",
      "Int64\n",
      "Int64\n",
      "Int64\n",
      "Int64\n",
      "Int64\n",
      "Int64\n",
      "Int64\n",
      "Int64\n",
      "Int64\n",
      "Int64\n",
      "Int64\n",
      "Int64\n",
      "Int64\n",
      "Int64\n",
      "Int64\n",
      "Int64\n",
      "Int64\n",
      "Int64\n",
      "Int64\n",
      "Int64\n",
      "Int64\n",
      "Int64\n",
      "Int64\n",
      "Int64\n",
      "Int64\n",
      "Int64\n",
      "Int64\n",
      "Int64\n",
      "Int64\n",
      "Int64\n",
      "Int64\n",
      "Int64\n",
      "Int64\n",
      "Int64\n",
      "Int64\n",
      "Int64\n",
      "Int64\n",
      "Int64\n",
      "Int64\n",
      "Int64\n",
      "Int64\n",
      "Int64\n",
      "Int64\n",
      "Int64\n",
      "Int64\n",
      "Int64\n",
      "Int64\n",
      "Int64\n",
      "Int64\n",
      "Int64\n",
      "Int64\n",
      "Int64\n",
      "Int64\n"
     ]
    }
   ],
   "source": [
    "mcmc(data,mod,p0,perr,100)"
   ]
  },
  {
   "cell_type": "code",
   "execution_count": 100,
   "metadata": {
    "collapsed": false
   },
   "outputs": [
    {
     "data": {
      "text/plain": [
       "walker_array([walker_record([walker([1.0547769481783962,1.0641736171448413],18.393644843247706),walker([1.106029547537563,1.0858663335596213],19.240491809735556),walker([1.106029547537563,1.0858663335596213],19.240491809735556)]),walker_record([walker([0.849555716536769,1.0777914272736715],18.923034381536993),walker([0.5959161788548364,1.0698057568089647],18.611682329717095),walker([0.5959161788548364,1.0698057568089647],18.611682329717095)]),walker_record([walker([0.7866075417973944,0.9631777277350361],14.701854763090092),walker([0.6950190546615742,0.8215558906676025],10.220818642181204),walker([0.6950190546615742,0.8215558906676025],10.220818642181204)]),walker_record([walker([0.9940802349028559,1.0384836696132334],17.415402210821135),walker([1.0061383892421387,1.047230203138226],17.74545882776781),walker([1.0061383892421387,1.047230203138226],17.74545882776781)]),walker_record([walker([0.9631221305588276,1.2361194599477947],25.629286645282882),walker([0.9710023529686838,1.2015165121310116],24.076924756110742),walker([0.9710023529686838,1.2015165121310116],24.076924756110742)]),walker_record([walker([0.7871189828492219,0.9849270163819002],15.461973285160225),walker([0.5837967088046576,0.9270891022895121],13.482856662272663),walker([0.5837967088046576,0.9270891022895121],13.482856662272663)])])"
      ]
     },
     "execution_count": 100,
     "metadata": {},
     "output_type": "execute_result"
    }
   ],
   "source": [
    "for (j,rec) in enumerate(foo.recs)\n",
    "    current_w = rec.walkers[end]\n",
    "    ipartner = j\n",
    "    while ipartner == j\n",
    "        ipartner = ceil(Int,rand()*6.0)\n",
    "    end\n",
    "    partner_w = foo.recs[ipartner].walkers[end]\n",
    "    \n",
    "# Now, choose a new set of parameters for the trial step:\n",
    "    z=(rand()*(sqrt(2.0)-1.0/sqrt(2.0))+1.0/sqrt(2.0))^2\n",
    "    \n",
    "    par_trial = z.*current_w.params.+(1.0-z).*partner_w.params\n",
    "# Compute chi-square:    \n",
    "    chi_trial=chi2(modl,par_trial,data)\n",
    "# Next, determine whether to accept this trial step:\n",
    "    alp = z^(2.0-1)*exp(-0.5*(chi_trial - current_w.chi2))\n",
    "#if alp >= rand()\n",
    "# If step is accepted, add it to the chains!\n",
    "    push!(rec,current_w)\n",
    "#accept = accept + 1\n",
    "#else\n",
    "# If step is rejected, then copy last step:\n",
    "#par_mcmc[j,i,:] = par_mcmc[j,i-1,:]\n",
    "#chi_mcmc[j,i,:] = chi_mcmc[j,i-1]\n",
    "#end\n",
    "end\n",
    "foo"
   ]
  },
  {
   "cell_type": "code",
   "execution_count": 86,
   "metadata": {
    "collapsed": false
   },
   "outputs": [
    {
     "name": "stdout",
     "output_type": "stream",
     "text": [
      "1walker_record"
     ]
    },
    {
     "ename": "LoadError",
     "evalue": "LoadError: BoundsError: attempt to access 6-element Array{walker_record,1}:\n walker_record([walker([1.0547769481783962,1.0641736171448413],18.393644843247706)])\n walker_record([walker([0.849555716536769,1.0777914272736715],18.923034381536993)]) \n walker_record([walker([0.7866075417973944,0.9631777277350361],14.701854763090092)])\n walker_record([walker([0.9940802349028559,1.0384836696132334],17.415402210821135)])\n walker_record([walker([0.9631221305588276,1.2361194599477947],25.629286645282882)])\n walker_record([walker([0.7871189828492219,0.9849270163819002],15.461973285160225)])\n  at index [7]\nwhile loading In[86], in expression starting on line 10",
     "output_type": "error",
     "traceback": [
      "LoadError: BoundsError: attempt to access 6-element Array{walker_record,1}:\n walker_record([walker([1.0547769481783962,1.0641736171448413],18.393644843247706)])\n walker_record([walker([0.849555716536769,1.0777914272736715],18.923034381536993)]) \n walker_record([walker([0.7866075417973944,0.9631777277350361],14.701854763090092)])\n walker_record([walker([0.9940802349028559,1.0384836696132334],17.415402210821135)])\n walker_record([walker([0.9631221305588276,1.2361194599477947],25.629286645282882)])\n walker_record([walker([0.7871189828492219,0.9849270163819002],15.461973285160225)])\n  at index [7]\nwhile loading In[86], in expression starting on line 10",
      "",
      " in getindex at array.jl:282",
      " [inlined code] from In[86]:11",
      " in anonymous at no file:0"
     ]
    },
    {
     "name": "stdout",
     "output_type": "stream",
     "text": [
      "([walker([0.849555716536769,1.0777914272736715],18.923034381536993)])\n",
      "2walker_record([walker([0.7866075417973944,0.9631777277350361],14.701854763090092)])\n",
      "3walker_record([walker([0.9940802349028559,1.0384836696132334],17.415402210821135)])\n",
      "4walker_record([walker([0.9631221305588276,1.2361194599477947],25.629286645282882)])\n",
      "5walker_record([walker([0.7871189828492219,0.9849270163819002],15.461973285160225)])\n"
     ]
    }
   ],
   "source": [
    "mod_trial(x,p) = p[1].*x+p[2]\n",
    "modl = model(mod_trial,2)\n",
    "xdata = collect(linspace(0,1,10))\n",
    "ydata = mod_trial(x_data,[1.,1.])+rand(10)\n",
    "yerr = rand(10)\n",
    "data = hcat(xdata,ydata,yerr)\n",
    "p0 = [0.9,1.1]\n",
    "perr = [0.1,0.1]\n",
    "foo = init_walkers(modl,p0,perr,data)"
   ]
  },
  {
   "cell_type": "markdown",
   "metadata": {},
   "source": [
    "# To do: make all the necessary types. Model/data types?\n",
    "# Make all the necessary functions to compute chi2, burnin, whatever\n",
    "# Make a function that runs mcmc, returns list of walker positions"
   ]
  }
 ],
 "metadata": {
  "kernelspec": {
   "display_name": "Julia 0.4.5",
   "language": "julia",
   "name": "julia-0.4"
  },
  "language_info": {
   "file_extension": ".jl",
   "mimetype": "application/julia",
   "name": "julia",
   "version": "0.4.5"
  }
 },
 "nbformat": 4,
 "nbformat_minor": 0
}
