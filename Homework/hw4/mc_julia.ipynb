{
 "cells": [
  {
   "cell_type": "code",
   "execution_count": 1,
   "metadata": {
    "collapsed": false
   },
   "outputs": [],
   "source": [
    "using PyPlot"
   ]
  },
  {
   "cell_type": "code",
   "execution_count": 2,
   "metadata": {
    "collapsed": true
   },
   "outputs": [],
   "source": [
    "#We need an object that has two methods: the parameters, which are its location in parameter space\n",
    "#and chi2 of the model calculated from the walker's position compared to the data\n",
    "type walker\n",
    "    params::Array{Float64}\n",
    "    chi2::Float64\n",
    "end"
   ]
  },
  {
   "cell_type": "code",
   "execution_count": 3,
   "metadata": {
    "collapsed": false
   },
   "outputs": [
    {
     "data": {
      "text/plain": [
       "walker_record"
      ]
     },
     "execution_count": 3,
     "metadata": {},
     "output_type": "execute_result"
    }
   ],
   "source": [
    "#This is an object that records a given walker's position and chi2 across multiple steps \n",
    "type walker_record\n",
    "    walkers::Array{walker}\n",
    "    nsteps::Int64\n",
    "end\n",
    "walker_record(ws::Array{walker}) = walker_record(ws,length(ws))"
   ]
  },
  {
   "cell_type": "code",
   "execution_count": 4,
   "metadata": {
    "collapsed": false
   },
   "outputs": [
    {
     "data": {
      "text/plain": [
       "walker_array"
      ]
     },
     "execution_count": 4,
     "metadata": {},
     "output_type": "execute_result"
    }
   ],
   "source": [
    "#enter each walker's record as an element of an array, one entry for each walker\n",
    "type walker_array\n",
    "    recs::Array{walker_record}\n",
    "    nwalkers::Int8\n",
    "end\n",
    "walker_array(recs::Array{walker_record}) = walker_array(recs,length(recs))"
   ]
  },
  {
   "cell_type": "code",
   "execution_count": 20,
   "metadata": {
    "collapsed": false
   },
   "outputs": [
    {
     "data": {
      "text/plain": [
       "chi2 (generic function with 1 method)"
      ]
     },
     "execution_count": 20,
     "metadata": {},
     "output_type": "execute_result"
    }
   ],
   "source": [
    "#returns chi2 at a position in parameter space\n",
    "chi2(f::Function,params::Array{Float64},data::Array{Float64,2}) = sum(((f(data[:,1],params).-data[:,2])./data[:,3]).^2)"
   ]
  },
  {
   "cell_type": "code",
   "execution_count": 5,
   "metadata": {
    "collapsed": false
   },
   "outputs": [
    {
     "data": {
      "text/plain": [
       "ploglike"
      ]
     },
     "execution_count": 5,
     "metadata": {},
     "output_type": "execute_result"
    }
   ],
   "source": [
    "#contains a model, f(x,p), number of parameters (length(p)), data (Nx3 Array), and how to \n",
    "# calculate a likelihood, chi(f,params,data). Defaults to chi2 if not specified\n",
    "type ploglike \n",
    "    model::Function\n",
    "    nparams::Int64\n",
    "    data::Array{Float64,2}\n",
    "    chi::Function\n",
    "end\n",
    "ploglike(func::Function,nparams::Int64,data::Array{Float64,2}) = ploglike(func,nparams,data,chi2)\n",
    "\n",
    "#type model #contains a function, f(x,p), as well as nparams === length(p)\n",
    "#    f::Function\n",
    "#    nparams::Int8\n",
    "#end"
   ]
  },
  {
   "cell_type": "code",
   "execution_count": 6,
   "metadata": {
    "collapsed": false
   },
   "outputs": [
    {
     "data": {
      "text/plain": [
       "push! (generic function with 21 methods)"
      ]
     },
     "execution_count": 6,
     "metadata": {},
     "output_type": "execute_result"
    }
   ],
   "source": [
    "#how to add a walker into a walker_record, and a walker_record into a walker_array,\n",
    "#while keeping track of the number of steps taken/ the number of total walkers\n",
    "import Base.push!\n",
    "function push!(rec::walker_record,w::walker)\n",
    "    push!(rec.walkers,w)\n",
    "    rec.nsteps += 1\n",
    "end\n",
    "function push!(arr::walker_array,rec::walker_record)\n",
    "    push!(arr.recs,rec)\n",
    "    arr.nwalkers += 1\n",
    "end"
   ]
  },
  {
   "cell_type": "code",
   "execution_count": 7,
   "metadata": {
    "collapsed": false
   },
   "outputs": [
    {
     "data": {
      "text/plain": [
       "init_walkers (generic function with 1 method)"
      ]
     },
     "execution_count": 7,
     "metadata": {},
     "output_type": "execute_result"
    }
   ],
   "source": [
    "#Initialize a walker_array. nwalkers = nparams*3.0, nsteps=1, at the moment\n",
    "function init_walkers(plog::ploglike,p0::Array{Float64},p_err::Array{Float64})\n",
    "    nparam = plog.nparams\n",
    "    nwalker = nparam*3.0\n",
    "    chi_best = plog.chi(plog.model,p0,plog.data)\n",
    "    w_array = walker_array(walker_record[])\n",
    "    for j=1:nwalker\n",
    "        chi_trial = 1.0e100\n",
    "        par_trial = p0\n",
    "        while chi_trial > (chi_best + 1000)\n",
    "            par_trial = p0 + p_err.*randn(nparam)\n",
    "            chi_trial = plog.chi(plog.model,par_trial,plog.data)\n",
    "        end\n",
    "        w = walker(par_trial,chi_trial)\n",
    "        push!(w_array,walker_record([w]))\n",
    "    end\n",
    "    return w_array\n",
    "end"
   ]
  },
  {
   "cell_type": "code",
   "execution_count": 34,
   "metadata": {
    "collapsed": false
   },
   "outputs": [
    {
     "data": {
      "text/plain": [
       "walk (generic function with 1 method)"
      ]
     },
     "execution_count": 34,
     "metadata": {},
     "output_type": "execute_result"
    }
   ],
   "source": [
    "function walk(w::walker,partner::walker,ascale::Float64,accept::Int64,plog::ploglike)\n",
    "    #Takes a walker and a partner, picks a new trial step based on parameters\n",
    "    z=(rand()*(sqrt(ascale)-1.0/sqrt(ascale))+1.0/sqrt(ascale))^2\n",
    "    par_trial = z.*w.params.+(1.0-z).*partner.params\n",
    "    # Compute chi-square:    \n",
    "    chi_trial=plog.chi(plog.model,par_trial,plog.data)\n",
    "    alp = z^(plog.nparams-1.0)*exp(-0.5*(chi_trial - w.chi2)) #Assumes chi2 as well, needs to be generalized\n",
    "    if alp >= rand()\n",
    "        # If step is accepted, add it to the chains!\n",
    "        return walker(par_trial,chi_trial)\n",
    "        accept+=1\n",
    "    else\n",
    "        # Otherwise, copy the current walker\n",
    "        return w\n",
    "    end\n",
    "end"
   ]
  },
  {
   "cell_type": "code",
   "execution_count": 35,
   "metadata": {
    "collapsed": false
   },
   "outputs": [
    {
     "data": {
      "text/plain": [
       "mcmc (generic function with 1 method)"
      ]
     },
     "execution_count": 35,
     "metadata": {},
     "output_type": "execute_result"
    }
   ],
   "source": [
    "function mcmc(plog::ploglike,p0::Array{Float64},p_err::Array{Float64},nstep::Int64)\n",
    "    w_array = init_walkers(plog,p0,p_err)\n",
    "    nparam = plog.nparams\n",
    "    nwalker = w_array.nwalkers\n",
    "    ascale = 2.0\n",
    "    accept = 0\n",
    "    for i=2:nstep\n",
    "        #Like j = nwalkers, but now we can access the walkers directly!\n",
    "        for (j,rec) in enumerate(w_array.recs)\n",
    "            current_w = rec.walkers[end]\n",
    "            ipartner = j\n",
    "            while ipartner == j\n",
    "                ipartner = ceil(Int,rand()*nwalker)\n",
    "            end\n",
    "            partner_w = w_array.recs[ipartner].walkers[end]\n",
    "            # Now, make a trial walker\n",
    "            push!(rec,walk(current_w,partner_w,ascale,accept,plog))\n",
    "        end\n",
    "        if i%1000 == 0\n",
    "            frac_acc = accept/(1000*nwalker)\n",
    "            println(\"Number of steps: $i, acceptance rate: $frac_acc\")\n",
    "            ascale = 1.0 + (frac_acc/0.25)*(ascale-1.0)\n",
    "            accept = 0\n",
    "        end\n",
    "    end\n",
    "    return w_array\n",
    "end"
   ]
  },
  {
   "cell_type": "code",
   "execution_count": 36,
   "metadata": {
    "collapsed": false
   },
   "outputs": [
    {
     "data": {
      "text/plain": [
       "get_history (generic function with 1 method)"
      ]
     },
     "execution_count": 36,
     "metadata": {},
     "output_type": "execute_result"
    }
   ],
   "source": [
    "get_history(w_array::walker_array,nwalk::Int64,p1::Int64,nstart::Int64) = [w.params[p1] for w in w_array.recs[nwalk].walkers[nstart:end]]"
   ]
  },
  {
   "cell_type": "code",
   "execution_count": 37,
   "metadata": {
    "collapsed": false
   },
   "outputs": [
    {
     "data": {
      "text/plain": [
       "get_median (generic function with 1 method)"
      ]
     },
     "execution_count": 37,
     "metadata": {},
     "output_type": "execute_result"
    }
   ],
   "source": [
    "function get_median(w_array::walker_array,p1::Int64,nstart::Int64)\n",
    "    plist = Float64[]\n",
    "    for i=1:w_array.nwalkers\n",
    "        append!(plist,get_history(w_array,i,p1,nstart))\n",
    "    end\n",
    "    return median(plist)\n",
    "end"
   ]
  },
  {
   "cell_type": "code",
   "execution_count": 38,
   "metadata": {
    "collapsed": false
   },
   "outputs": [
    {
     "data": {
      "text/plain": [
       "get_mean (generic function with 1 method)"
      ]
     },
     "execution_count": 38,
     "metadata": {},
     "output_type": "execute_result"
    }
   ],
   "source": [
    "function get_mean(w_array::walker_array,p1::Int64,nstart::Int64)\n",
    "    plist = Float64[]\n",
    "    for i=1:w_array.nwalkers\n",
    "        append!(plist,get_history(w_array,i,p1,nstart))\n",
    "    end\n",
    "    return mean(plist)\n",
    "end"
   ]
  },
  {
   "cell_type": "code",
   "execution_count": 39,
   "metadata": {
    "collapsed": false
   },
   "outputs": [
    {
     "data": {
      "text/plain": [
       "get_std (generic function with 1 method)"
      ]
     },
     "execution_count": 39,
     "metadata": {},
     "output_type": "execute_result"
    }
   ],
   "source": [
    "function get_std(w_array::walker_array,p1::Int64,nstart::Int64)\n",
    "    plist = Float64[]\n",
    "    for i=1:w_array.nwalkers\n",
    "        append!(plist,get_history(w_array,i,p1,nstart))\n",
    "    end\n",
    "    return std(plist)\n",
    "end"
   ]
  },
  {
   "cell_type": "code",
   "execution_count": 40,
   "metadata": {
    "collapsed": false
   },
   "outputs": [
    {
     "data": {
      "text/plain": [
       "calc_iburn (generic function with 1 method)"
      ]
     },
     "execution_count": 40,
     "metadata": {},
     "output_type": "execute_result"
    }
   ],
   "source": [
    "function calc_iburn(w_array::walker_array)\n",
    "    # Now, determine time of burn-in by calculating first time median is crossed:\n",
    "    iburn = 0\n",
    "    nparam = length(w_array.recs[1].walkers[1].params)\n",
    "    nwalker = w_array.nwalkers\n",
    "    nstep = w_array.recs[1].nsteps\n",
    "    for i=1:nparam\n",
    "        med_param=get_median(w_array,i,1)\n",
    "        for rec in w_array.recs\n",
    "            istep=2\n",
    "            while (rec.walkers[istep].params[i] > med_param) == (rec.walkers[istep-1].params[i] > med_param) && (istep < nstep)\n",
    "              istep=istep+1\n",
    "            end\n",
    "            if istep >= iburn\n",
    "              iburn = istep\n",
    "            end\n",
    "        end\n",
    "    end\n",
    "    return iburn\n",
    "end"
   ]
  },
  {
   "cell_type": "code",
   "execution_count": 41,
   "metadata": {
    "collapsed": false
   },
   "outputs": [
    {
     "data": {
      "text/plain": [
       "get_params (generic function with 1 method)"
      ]
     },
     "execution_count": 41,
     "metadata": {},
     "output_type": "execute_result"
    }
   ],
   "source": [
    "function get_params(w_array::walker_array,iburn::Int64)\n",
    "    nparam = length(w_array.recs[1].walkers[1].params)\n",
    "    params = Float64[get_mean(w_array,i,iburn) for i=1:nparam]\n",
    "    stds = Float64[get_std(w_array,i,iburn) for i=1:nparam]\n",
    "    return params,stds\n",
    "end"
   ]
  },
  {
   "cell_type": "code",
   "execution_count": 42,
   "metadata": {
    "collapsed": false
   },
   "outputs": [
    {
     "data": {
      "text/plain": [
       "plot_walkers (generic function with 1 method)"
      ]
     },
     "execution_count": 42,
     "metadata": {},
     "output_type": "execute_result"
    }
   ],
   "source": [
    "function plot_walkers(w_array::walker_array,p1::Int64,p2::Int64,nstart::Int64)\n",
    "    pones = Float64[]\n",
    "    ptwos = Float64[]\n",
    "    for w=1:w_array.nwalkers\n",
    "        append!(pones,get_history(w_array,w,p1,nstart))\n",
    "        append!(ptwos,get_history(w_array,w,p2,nstart))\n",
    "    end\n",
    "    scatter(pones,ptwos)\n",
    "end"
   ]
  },
  {
   "cell_type": "code",
   "execution_count": 43,
   "metadata": {
    "collapsed": false
   },
   "outputs": [
    {
     "data": {
      "text/plain": [
       "plot_trace (generic function with 1 method)"
      ]
     },
     "execution_count": 43,
     "metadata": {},
     "output_type": "execute_result"
    }
   ],
   "source": [
    "function plot_trace(w_array::walker_array,p1::Int64,nstart::Int64)\n",
    "    for w=1:w_array.nwalkers\n",
    "        eyes = collect(1:w_array.recs[w].nsteps)\n",
    "        vals = get_history(w_array,w,p1,nstart)\n",
    "        plot(eyes,vals)\n",
    "    end\n",
    "    show()\n",
    "end"
   ]
  },
  {
   "cell_type": "code",
   "execution_count": 64,
   "metadata": {
    "collapsed": false
   },
   "outputs": [
    {
     "data": {
      "text/plain": [
       "drop_the_mic (generic function with 1 method)"
      ]
     },
     "execution_count": 64,
     "metadata": {},
     "output_type": "execute_result"
    }
   ],
   "source": [
    "function drop_the_mic(plog::ploglike,p0::Array{Float64},p_err::Array{Float64},nstep::Int64)\n",
    "    final_walkers = mcmc(plog,p0,p_err,nstep)\n",
    "    iburn = calc_iburn(final_walkers)\n",
    "    vals,errs = get_params(results,iburn)\n",
    "    for (val,err) in zip(vals,errs)\n",
    "        println(\"$val +/- $err\")\n",
    "    end\n",
    "    for i=2:plog.nparams\n",
    "        for j=1:i-1\n",
    "            plot_walkers(final_walkers,i,j,iburn)\n",
    "            #show() #.jl file only\n",
    "            clf()\n",
    "        end\n",
    "    end\n",
    "    for i=1:plog.nparams\n",
    "        plot_trace(final_walkers,i,1)\n",
    "        #show() #.jl file only\n",
    "        clf()\n",
    "    end\n",
    "end"
   ]
  },
  {
   "cell_type": "code",
   "execution_count": 65,
   "metadata": {
    "collapsed": false
   },
   "outputs": [
    {
     "name": "stdout",
     "output_type": "stream",
     "text": [
      "Number of steps: 1000, acceptance rate: 0.0\n",
      "Number of steps: 2000, acceptance rate: 0.0\n",
      "Number of steps: 3000, acceptance rate: 0.0\n",
      "Number of steps: 4000, acceptance rate: 0.0\n",
      "Number of steps: 5000, acceptance rate: 0.0\n",
      "Number of steps: 6000, acceptance rate: 0.0\n",
      "Number of steps: 7000, acceptance rate: 0.0\n",
      "Number of steps: 8000, acceptance rate: 0.0\n",
      "Number of steps: 9000, acceptance rate: 0.0\n",
      "Number of steps: 10000, acceptance rate: 0.0\n"
     ]
    },
    {
     "data": {
      "image/png": "[encoded data removed]",
      "text/plain": [
       "PyPlot.Figure(PyObject <matplotlib.figure.Figure object at 0x31b753b90>)"
      ]
     },
     "metadata": {},
     "output_type": "display_data"
    },
    {
     "name": "stdout",
     "output_type": "stream",
     "text": [
      "0.9132270411595099 +/- 0.0037463354148648226\n",
      "1.1006328664225853 +/- 0.0024847040589718442\n"
     ]
    }
   ],
   "source": [
    "drop_the_mic(plog,p0,perr,10000)"
   ]
  },
  {
   "cell_type": "code",
   "execution_count": 45,
   "metadata": {
    "collapsed": false,
    "scrolled": true
   },
   "outputs": [
    {
     "name": "stdout",
     "output_type": "stream",
     "text": [
      "Number of steps: 1000, acceptance rate: 0.0\n",
      "Number of steps: 2000, acceptance rate: 0.0\n",
      "Number of steps: 3000, acceptance rate: 0.0\n",
      "Number of steps: 4000, acceptance rate: 0.0\n",
      "Number of steps: 5000, acceptance rate: 0.0\n",
      "Number of steps: 6000, acceptance rate: 0.0\n",
      "Number of steps: 7000, acceptance rate: 0.0\n",
      "Number of steps: 8000, acceptance rate: 0.0\n",
      "Number of steps: 9000, acceptance rate: 0.0\n",
      "Number of steps: 10000, acceptance rate: 0.0\n",
      "done\n"
     ]
    }
   ],
   "source": [
    "mod_trial(x,p) = p[1].*x.+p[2]\n",
    "xdata = collect(linspace(0,1,100))\n",
    "ydata = mod_trial(xdata,[1.,1.])+rand(length(xdata))/10\n",
    "yerr = rand(length(xdata))/10\n",
    "data = hcat(xdata,ydata,yerr)\n",
    "plog = ploglike(mod_trial,2,data)\n",
    "p0 = [0.9,1.1]\n",
    "perr = [0.01,0.01]\n",
    "foo = init_walkers(plog,p0,perr)\n",
    "for rec in foo.recs\n",
    "    push!(rec,walker([rand(),rand()],15.0))\n",
    "end\n",
    "results = mcmc(plog,p0,perr,10000) ;\n",
    "println(\"done\")\n",
    "#errorbar(xdata,ydata,yerr=yerr,fmt=\"xb\")\n",
    "#This gives a walker_array object to test the following out on if you so choose"
   ]
  },
  {
   "cell_type": "code",
   "execution_count": 47,
   "metadata": {
    "collapsed": false
   },
   "outputs": [
    {
     "data": {
      "image/png": "[encoded data removed]",
      "text/plain": [
       "PyPlot.Figure(PyObject <matplotlib.figure.Figure object at 0x317e78c50>)"
      ]
     },
     "metadata": {},
     "output_type": "display_data"
    },
    {
     "data": {
      "text/plain": [
       "PyObject <matplotlib.collections.PathCollection object at 0x318201910>"
      ]
     },
     "execution_count": 47,
     "metadata": {},
     "output_type": "execute_result"
    }
   ],
   "source": [
    "plot_walkers(results,1,2,1)"
   ]
  },
  {
   "cell_type": "code",
   "execution_count": 50,
   "metadata": {
    "collapsed": false
   },
   "outputs": [
    {
     "data": {
      "image/png": "[encoded data removed]",
      "text/plain": [
       "PyPlot.Figure(PyObject <matplotlib.figure.Figure object at 0x318298350>)"
      ]
     },
     "metadata": {},
     "output_type": "display_data"
    }
   ],
   "source": [
    "plot_trace(results,2,1)"
   ]
  },
  {
   "cell_type": "markdown",
   "metadata": {
    "collapsed": true
   },
   "source": [
    "# This is an attempt at generalizing the functionality of the \"model\" type into a \"ploglike\" type which contains a model, number of parameters, data and a chi^2-like function. As you can see above: something is wrong with the walk function/could be anything else. Note: the previous version (with models objects) worked, so something is broken here. I haven't had time to test everything in depth. So we'll see."
   ]
  }
 ],
 "metadata": {
  "kernelspec": {
   "display_name": "Julia 0.4.5",
   "language": "julia",
   "name": "julia-0.4"
  },
  "language_info": {
   "file_extension": ".jl",
   "mimetype": "application/julia",
   "name": "julia",
   "version": "0.4.5"
  }
 },
 "nbformat": 4,
 "nbformat_minor": 0
}
