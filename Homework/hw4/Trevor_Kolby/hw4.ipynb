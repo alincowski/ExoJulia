{
 "cells": [
  {
   "cell_type": "code",
   "execution_count": 14,
   "metadata": {
    "collapsed": false
   },
   "outputs": [
    {
     "name": "stderr",
     "output_type": "stream",
     "text": [
      "WARNING: replacing module TTVFaster\n",
      "WARNING: import of TTVFaster.Planet_plane_hk into Main conflicts with an existing identifier; ignored.\n"
     ]
    }
   ],
   "source": [
    "include(\"../compute_ttv.jl\")\n",
    "importall TTVFaster"
   ]
  },
  {
   "cell_type": "code",
   "execution_count": 4,
   "metadata": {
    "collapsed": false
   },
   "outputs": [
    {
     "data": {
      "text/plain": [
       "ttv_pairs (generic function with 1 method)"
      ]
     },
     "execution_count": 4,
     "metadata": {},
     "output_type": "execute_result"
    }
   ],
   "source": [
    "function compute_ttv_pairs(n_p::Int64,planets::Array{Planet_plane_hk},times::Array{Vector})\n",
    "    ttvs = Array{Array{Float64}}(n_p)\n",
    "    for i=1:n_p-1 #for each planet\n",
    "        for j=i:n_p #go to each other planet\n",
    "            if i!= j #make sure its not this planet\n",
    "                compute_ttv!(jmax,planets[i],planets[j],times[i],times[j],ttvs[i],ttvs[j]) #compute ttvs, add to array\n",
    "            end\n",
    "        end\n",
    "    end\n",
    "    return ttvs\n",
    "end"
   ]
  },
  {
   "cell_type": "code",
   "execution_count": null,
   "metadata": {
    "collapsed": true
   },
   "outputs": [],
   "source": []
  }
 ],
 "metadata": {
  "kernelspec": {
   "display_name": "Julia 0.4.5",
   "language": "julia",
   "name": "julia-0.4"
  },
  "language_info": {
   "file_extension": ".jl",
   "mimetype": "application/julia",
   "name": "julia",
   "version": "0.4.5"
  }
 },
 "nbformat": 4,
 "nbformat_minor": 0
}
