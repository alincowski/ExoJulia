{
 "cells": [
  {
   "cell_type": "code",
   "execution_count": 1,
   "metadata": {
    "collapsed": false
   },
   "outputs": [
    {
     "data": {
      "text/plain": [
       "4-element Array{ByteString,1}:\n",
       " \"/Applications/Julia-0.4.5.app/Contents/Resources/julia/local/share/julia/site/v0.4\"\n",
       " \"/Applications/Julia-0.4.5.app/Contents/Resources/julia/share/julia/site/v0.4\"      \n",
       " \"../../../ExoJulia/\"                                                                \n",
       " \".\"                                                                                 "
      ]
     },
     "execution_count": 1,
     "metadata": {},
     "output_type": "execute_result"
    }
   ],
   "source": [
    "push!(LOAD_PATH,\"../../../ExoJulia/\")\n",
    "push!(LOAD_PATH,\".\")"
   ]
  },
  {
   "cell_type": "code",
   "execution_count": 2,
   "metadata": {
    "collapsed": false
   },
   "outputs": [],
   "source": [
    "using ExoJulia\n",
    "using Optim"
   ]
  },
  {
   "cell_type": "code",
   "execution_count": null,
   "metadata": {
    "collapsed": true
   },
   "outputs": [],
   "source": [
    "using PyPlot"
   ]
  },
  {
   "cell_type": "markdown",
   "metadata": {},
   "source": [
    "# Read-in TTV data"
   ]
  },
  {
   "cell_type": "code",
   "execution_count": 3,
   "metadata": {
    "collapsed": false
   },
   "outputs": [],
   "source": [
    "ttv1_data = readdlm(\"../ttv_planet1.txt\");\n",
    "ttv2_data = readdlm(\"../ttv_planet2.txt\");"
   ]
  },
  {
   "cell_type": "code",
   "execution_count": 9,
   "metadata": {
    "collapsed": false
   },
   "outputs": [],
   "source": [
    "# Reshape into 1d arrays\n",
    "time1 = reshape(ttv1_data, length(ttv1_data));\n",
    "time2 = reshape(ttv2_data, length(ttv2_data));"
   ]
  },
  {
   "cell_type": "markdown",
   "metadata": {},
   "source": [
    "# Wrapper for `compute_ttv.jl`"
   ]
  },
  {
   "cell_type": "code",
   "execution_count": 5,
   "metadata": {
    "collapsed": false
   },
   "outputs": [
    {
     "data": {
      "text/plain": [
       "TTVFaster"
      ]
     },
     "execution_count": 5,
     "metadata": {},
     "output_type": "execute_result"
    }
   ],
   "source": [
    "include(\"../compute_ttv.jl\")"
   ]
  },
  {
   "cell_type": "code",
   "execution_count": 6,
   "metadata": {
    "collapsed": false
   },
   "outputs": [
    {
     "data": {
      "text/plain": [
       "TTVFaster.Planet_plane_hk{Float64}(0.01,10.0,1.0,0.5,0.5)"
      ]
     },
     "execution_count": 6,
     "metadata": {},
     "output_type": "execute_result"
    }
   ],
   "source": [
    "#planet1\n",
    "MpMs1 = 0.01\n",
    "P1 = 10.0\n",
    "t01 = 1.0\n",
    "esw1 = 0.5\n",
    "ecw1 = 0.5\n",
    "\n",
    "p1 = TTVFaster.Planet_plane_hk(MpMs1, P1, t01, esw1, ecw1)"
   ]
  },
  {
   "cell_type": "code",
   "execution_count": 14,
   "metadata": {
    "collapsed": false
   },
   "outputs": [
    {
     "data": {
      "text/plain": [
       "TTVFaster.Planet_plane_hk{Float64}(0.01,100.0,1.0,0.5,0.5)"
      ]
     },
     "execution_count": 14,
     "metadata": {},
     "output_type": "execute_result"
    }
   ],
   "source": [
    "#planet2\n",
    "MpMs2 = 0.01\n",
    "P2 = 100.0\n",
    "t02 = 1.0\n",
    "esw2 = 0.5\n",
    "ecw2 = 0.5\n",
    "\n",
    "p2 = TTVFaster.Planet_plane_hk(MpMs2, P2, t02, esw2, ecw2)"
   ]
  },
  {
   "cell_type": "code",
   "execution_count": 12,
   "metadata": {
    "collapsed": false
   },
   "outputs": [],
   "source": [
    "ttv1 = zeros(length(time1));\n",
    "ttv2 = zeros(length(time2));"
   ]
  },
  {
   "cell_type": "code",
   "execution_count": 17,
   "metadata": {
    "collapsed": false
   },
   "outputs": [],
   "source": [
    "TTVFaster.compute_ttv!(3, p1, p2, time1, time2, ttv1, ttv2)"
   ]
  },
  {
   "cell_type": "code",
   "execution_count": 19,
   "metadata": {
    "collapsed": false
   },
   "outputs": [
    {
     "data": {
      "text/plain": [
       "ttv_model (generic function with 1 method)"
      ]
     },
     "execution_count": 19,
     "metadata": {},
     "output_type": "execute_result"
    }
   ],
   "source": [
    "function ttv_model(time1::Array{Float64, 1}, time2::Array{Float64, 1}, params::Vector)\n",
    "    \n",
    "    # Planet 1 params\n",
    "    MpMs1 = params[1]\n",
    "    P1    = params[2]\n",
    "    t01   = params[3]\n",
    "    esw1  = params[4]\n",
    "    ecw1  = params[5]\n",
    "    \n",
    "    # Planet 2 params\n",
    "    MpMs2 = params[6]\n",
    "    P2    = params[7]\n",
    "    t02   = params[8]\n",
    "    esw2  = params[9]\n",
    "    ecw2  = params[10]\n",
    "    \n",
    "    # System params\n",
    "    jmax  = params[11] \n",
    "    \n",
    "    # Create Planet type for inner planet\n",
    "    planet1 = TTVFaster.Planet_plane_hk(MpMs1, P1, t01, esw1, ecw1)\n",
    "    \n",
    "    # Create Planet type for outer planet\n",
    "    planet2 = TTVFaster.Planet_plane_hk(MpMs2, P2, t02, esw2, ecw2)\n",
    "    \n",
    "    # Allocate memory for ttv's\n",
    "    ttv1 = zeros(length(time1));\n",
    "    ttv2 = zeros(length(time2));\n",
    "    \n",
    "    # Call compute_ttv! Note: modifies ttv1, ttv2 in place\n",
    "    TTVFaster.compute_ttv!(jmax, planet1, planet2, time1, time2, ttv1, ttv2)\n",
    "\n",
    "    return ttv1, ttv2\n",
    "end "
   ]
  },
  {
   "cell_type": "code",
   "execution_count": null,
   "metadata": {
    "collapsed": true
   },
   "outputs": [],
   "source": []
  }
 ],
 "metadata": {
  "kernelspec": {
   "display_name": "Julia 0.4.5",
   "language": "julia",
   "name": "julia-0.4"
  },
  "language_info": {
   "file_extension": ".jl",
   "mimetype": "application/julia",
   "name": "julia",
   "version": "0.4.5"
  }
 },
 "nbformat": 4,
 "nbformat_minor": 0
}
