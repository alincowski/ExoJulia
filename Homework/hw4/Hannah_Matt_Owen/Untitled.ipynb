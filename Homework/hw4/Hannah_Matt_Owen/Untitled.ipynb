{
 "cells": [
  {
   "cell_type": "code",
   "execution_count": 6,
   "metadata": {
    "collapsed": false
   },
   "outputs": [],
   "source": [
    "using LsqFit\n",
    "using PyPlot\n",
    "\n",
    "include(\"../compute_ttv.jl\")\n",
    "using TTVFaster"
   ]
  },
  {
   "cell_type": "code",
   "execution_count": 5,
   "metadata": {
    "collapsed": false
   },
   "outputs": [
    {
     "data": {
      "text/plain": [
       "24x1 Array{Float64,2}:\n",
       "  8461.76\n",
       "  8827.02\n",
       "  9192.27\n",
       "  9557.53\n",
       "  9922.79\n",
       " 10288.0 \n",
       " 10653.3 \n",
       " 11018.6 \n",
       " 11383.8 \n",
       " 11749.1 \n",
       " 12114.3 \n",
       " 12479.6 \n",
       " 12844.8 \n",
       " 13210.1 \n",
       " 13575.4 \n",
       " 13940.6 \n",
       " 14305.9 \n",
       " 14671.1 \n",
       " 15036.4 \n",
       " 15401.6 \n",
       " 15766.9 \n",
       " 16132.1 \n",
       " 16497.4 \n",
       " 16862.7 "
      ]
     },
     "execution_count": 5,
     "metadata": {},
     "output_type": "execute_result"
    }
   ],
   "source": [
    "p1 = readdlm(\"../ttv_planet1.txt\")\n",
    "p2 = readdlm(\"../ttv_planet2.txt\")"
   ]
  },
  {
   "cell_type": "code",
   "execution_count": 7,
   "metadata": {
    "collapsed": false
   },
   "outputs": [
    {
     "data": {
      "text/plain": [
       "model_func (generic function with 1 method)"
      ]
     },
     "execution_count": 7,
     "metadata": {},
     "output_type": "execute_result"
    }
   ],
   "source": [
    "function model_func(blah, params)\n",
    "\n",
    "    blah = collect(1:1:length(p1))\n",
    "\n",
    "    compute_ttv!(ttv1,ttv2)\n",
    "\n",
    "    return \n",
    "end"
   ]
  },
  {
   "cell_type": "code",
   "execution_count": null,
   "metadata": {
    "collapsed": true
   },
   "outputs": [],
   "source": []
  }
 ],
 "metadata": {
  "kernelspec": {
   "display_name": "Julia 0.4.5",
   "language": "julia",
   "name": "julia-0.4"
  },
  "language_info": {
   "file_extension": ".jl",
   "mimetype": "application/julia",
   "name": "julia",
   "version": "0.4.5"
  }
 },
 "nbformat": 4,
 "nbformat_minor": 0
}
