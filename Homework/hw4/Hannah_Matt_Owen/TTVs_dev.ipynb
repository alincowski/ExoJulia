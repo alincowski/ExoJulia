{
 "cells": [
  {
   "cell_type": "code",
   "execution_count": 11,
   "metadata": {
    "collapsed": false
   },
   "outputs": [
    {
     "name": "stderr",
     "output_type": "stream",
     "text": [
      "WARNING: replacing module TTVFaster\n",
      "WARNING: using TTVFaster.compute_ttv! in module Main conflicts with an existing identifier.\n",
      "WARNING: using TTVFaster.Planet_plane_hk in module Main conflicts with an existing identifier.\n"
     ]
    }
   ],
   "source": [
    "using LsqFit\n",
    "using PyPlot\n",
    "\n",
    "include(\"../compute_ttv.jl\")\n",
    "using TTVFaster"
   ]
  },
  {
   "cell_type": "markdown",
   "metadata": {},
   "source": [
    "## 2 planets"
   ]
  },
  {
   "cell_type": "code",
   "execution_count": 2,
   "metadata": {
    "collapsed": false
   },
   "outputs": [],
   "source": [
    "p1 = readdlm(\"../ttv_planet1.txt\");\n",
    "p2 = readdlm(\"../ttv_planet2.txt\");"
   ]
  },
  {
   "cell_type": "code",
   "execution_count": 3,
   "metadata": {
    "collapsed": false
   },
   "outputs": [],
   "source": [
    "data = [p1;p2][:]\n",
    "function model_func(useless_input_x, params) #curve fit makes us take the first parameter\n",
    "    \n",
    "    planet1 = Planet_plane_hk(params[1],params[2],params[3],params[4],params[5]);\n",
    "    planet2 = Planet_plane_hk(params[6],params[7],params[8],params[9],params[10]);\n",
    "\n",
    "    ttv1 = zeros(length(p1));\n",
    "    ttv2 = zeros(length(p2));\n",
    "    \n",
    "    ttv_data_p1 = planet1.period.*collect(1:1:length(p1)) + planet1.trans0\n",
    "    ttv_data_p2 = planet2.period.*collect(1:1:length(p2)) + planet2.trans0\n",
    "\n",
    "    # compute_ttv!(5, planet1, planet2, p1[:], p2[:], ttv1, ttv2);\n",
    "    compute_ttv!(25, planet1, planet2, ttv_data_p1, ttv_data_p2, ttv1, ttv2);\n",
    "\n",
    "    results1 = zeros(length(p1))\n",
    "    results2 = zeros(length(p2))\n",
    "    for j=1:length(p1)\n",
    "        results1[j] = results1[j] + (j-1)*planet1.period + planet1.trans0\n",
    "    end\n",
    "\n",
    "    for j=1:length(p2)\n",
    "        results2[j] = results2[j] + (j-1)*planet2.period + planet2.trans0\n",
    "    end\n",
    "\n",
    "    results2 = results2 + ttv2;\n",
    "    results1 = results1 + ttv1;\n",
    "\n",
    "    results = [results1;results2]\n",
    "    return results\n",
    "end;"
   ]
  },
  {
   "cell_type": "code",
   "execution_count": 4,
   "metadata": {
    "collapsed": false
   },
   "outputs": [],
   "source": [
    "p0 = [2.44e-6, 224.7008, 8445, 0.5, 0.5, 3e-6, 365.256, 8461, 0.5, 0.5]\n",
    "fit = curve_fit(model_func, [], data, p0);"
   ]
  },
  {
   "cell_type": "markdown",
   "metadata": {},
   "source": [
    "# curve fit returns:\n",
    "- mass_ratio\n",
    "- period\n",
    "- trans0\n",
    "- ecosw\n",
    "- esinw\n",
    "\n",
    "note: e times cos or sin of longitude of periastron measured from line of sight, in radians:"
   ]
  },
  {
   "cell_type": "code",
   "execution_count": 5,
   "metadata": {
    "collapsed": false,
    "scrolled": true
   },
   "outputs": [
    {
     "data": {
      "text/plain": [
       "10-element Array{Float64,1}:\n",
       "   -3.77575e-8\n",
       "  224.701     \n",
       " 8445.5       \n",
       "   -9.9815    \n",
       "   -0.130602  \n",
       "   -1.17061e-7\n",
       "  365.256     \n",
       " 8461.76      \n",
       "   -7.60067   \n",
       "    0.344813  "
      ]
     },
     "execution_count": 5,
     "metadata": {},
     "output_type": "execute_result"
    }
   ],
   "source": [
    "fit.param"
   ]
  },
  {
   "cell_type": "code",
   "execution_count": 14,
   "metadata": {
    "collapsed": false
   },
   "outputs": [
    {
     "name": "stdout",
     "output_type": "stream",
     "text": [
      "Best-fit parameters: [-3.77574851073471e-8,224.70076795666418,8445.499590841526,-9.981500967638935,-0.13060234272648255,-1.1706098250151344e-7,365.2563663180399,8461.759145231861,-7.600671158033065,0.34481296815456314]\n"
     ]
    },
    {
     "ename": "LoadError",
     "evalue": "LoadError: UndefVarError: chi_best not defined\nwhile loading In[14], in expression starting on line 9",
     "output_type": "error",
     "traceback": [
      "LoadError: UndefVarError: chi_best not defined\nwhile loading In[14], in expression starting on line 9",
      ""
     ]
    }
   ],
   "source": [
    "weight = 1./0.00001^2\n",
    "nparam = length(fit.param)\n",
    "println(\"Best-fit parameters: \",fit.param)\n",
    "\n",
    "\n",
    "pname = [\"mass ratio\",\"period (d)\", \"t0 (d)\",\"ecosw (d)\", \"esinw\", \n",
    "    \"mass ratio\", \"period (d)\", \"t0 (d)\",\"ecosw (d)\",\"esinw\"]\n",
    "\n",
    "println(\"Chi-square: \",chi_best)\n",
    "period = fit.param[2]\n"
   ]
  },
  {
   "cell_type": "code",
   "execution_count": 12,
   "metadata": {
    "collapsed": false
   },
   "outputs": [
    {
     "ename": "LoadError",
     "evalue": "LoadError: UndefVarError: errors not defined\nwhile loading In[12], in expression starting on line 15",
     "output_type": "error",
     "traceback": [
      "LoadError: UndefVarError: errors not defined\nwhile loading In[12], in expression starting on line 15",
      ""
     ]
    }
   ],
   "source": [
    "\n",
    "# Now, run an affine-invariant markov chain:\n",
    "# Foreman-Mackey et al. (2014) - 'emc' 'mcmc hammer'\n",
    "\n",
    "nparam = length(fit.param)\n",
    "\n",
    "nwalkers = nparam * 3\n",
    "nsteps = 10000\n",
    "#nsteps = 100\n",
    "# Set up arrays to hold the results:\n",
    "par_mcmc = zeros(nwalkers,nsteps,nparam)\n",
    "chi_mcmc = zeros(nwalkers,nsteps)\n",
    "# Initialize walkers:\n",
    "par_trial = fit.param\n",
    "for j=1:nwalkers\n",
    "# Select from within uncertainties:\n",
    "  chi_trial = 1e100\n",
    "    chi_best = 10\n",
    "# Only initiate models with reasonable chi-square values:\n",
    "  while chi_trial > (chi_best + 1000)\n",
    "    par_trial = fit.param + errors.*randn(nparam)\n",
    "    model =transit_model(time,par_trial)\n",
    "    chi_trial = sum(((flux-model)./eflx).^2)\n",
    "  end\n",
    "  chi_mcmc[j,1]=chi_trial\n",
    "  par_mcmc[j,1,:]=par_trial\n",
    "  println(\"Success: \",par_trial,chi_trial)\n",
    "end\n",
    "# Initialize scale length & acceptance counter:\n",
    "ascale = 2.0\n",
    "accept = 0\n",
    "# Next, loop over steps in markov chain:\n",
    "for i=2:nsteps\n",
    "  for j=1:nwalkers\n",
    "    ipartner = j\n",
    "# Choose another walker to 'breed' a trial step with:\n",
    "    while ipartner == j\n",
    "      ipartner = ceil(Int,rand()*nwalkers)\n",
    "    end\n",
    "# Now, choose a new set of parameters for the trial step:\n",
    "    z=(rand()*(sqrt(ascale)-1.0/sqrt(ascale))+1.0/sqrt(ascale))^2\n",
    "    par_trial=vec(z*par_mcmc[j,i-1,:]+(1.0-z)*par_mcmc[ipartner,i-1,:])\n",
    "# Compute model & chi-square:    \n",
    "    model_trial =transit_model(time,par_trial)\n",
    "    chi_trial=sum(((flux-model_trial)./eflx).^2)\n",
    "# Next, determine whether to accept this trial step:\n",
    "    alp = z^(nparam-1)*exp(-0.5*(chi_trial - chi_mcmc[j,i-1]))\n",
    "    if alp >= rand()\n",
    "# If step is accepted, add it to the chains!\n",
    "      par_mcmc[j,i,:] = par_trial\n",
    "      chi_mcmc[j,i,:] = chi_trial\n",
    "      accept = accept + 1\n",
    "    else\n",
    "# If step is rejected, then copy last step:\n",
    "      par_mcmc[j,i,:] = par_mcmc[j,i-1,:]\n",
    "      chi_mcmc[j,i,:] = chi_mcmc[j,i-1]\n",
    "    end\n",
    "  end\n",
    "  if mod(i,1000) == 0\n",
    "    frac_acc = accept/(1000*nwalkers)\n",
    "    println(\"Number of steps: \",i,\" acceptance rate: \",frac_acc)\n",
    "    ascale = 1.0 + (frac_acc/0.25)*(ascale-1.0)\n",
    "    accept = 0\n",
    "  end\n",
    "end\n",
    "\n",
    "# Now, determine time of burn-in by calculating first time median is crossed:\n",
    "iburn = 0\n",
    "for i=1:nparam\n",
    "  med_param=median(par_mcmc[1:nwalkers,1:nsteps,i])\n",
    "  for j=1:nwalkers\n",
    "    istep=2\n",
    "    while (par_mcmc[j,istep,i] > med_param) == (par_mcmc[j,istep-1,i] > med_param) && (istep < nsteps)\n",
    "      istep=istep+1\n",
    "    end\n",
    "    if istep >= iburn\n",
    "      iburn = istep\n",
    "    end\n",
    "  end\n",
    "end\n",
    "\n",
    "println(\"Burn-in ends: \",iburn)\n",
    "\n",
    "# Also need trace plots & compute autocorrelation length [ ]\n",
    "\n",
    "# Compute the various parameters:\n",
    "\n",
    "pavg = mean(vec(par_mcmc[1:nwalkers,iburn:nsteps,1]));\n",
    "psig = std(vec(par_mcmc[1:nwalkers,iburn:nsteps,1]));\n",
    "@printf \"Period: %8.4f +/- %8.4f\\n\" pavg psig\n",
    "\n",
    "b=vec(par_mcmc[1:nwalkers,iburn:nsteps,4]);\n",
    "bavg = mean(b)\n",
    "bsig = std(b)\n",
    "@printf \"Impact par: %5.2f +/- %5.2f\\n\" bavg bsig\n",
    "\n",
    "davg = mean(vec(par_mcmc[1:nwalkers,iburn:nsteps,5].^2*100));\n",
    "dsig = std(vec(par_mcmc[1:nwalkers,iburn:nsteps,5].^2*100));\n",
    "@printf \"Depth (pct):   %5.2f +/- %5.2f\\n\" davg dsig\n",
    "\n",
    "tdur = vec(par_mcmc[1:nwalkers,iburn:nsteps,3]);\n",
    "tavg = mean(tdur*24)\n",
    "tsig = std(tdur*24)\n",
    "@printf \"Duration (hr):   %5.2f +/- %5.2f\\n\" tavg tsig\n",
    "\n",
    "using CGS\n",
    "rho = 3/pi^2./(tdur.*24*3600).^3.*(1-b.^2).*(period.*24*3600)/GRAV;\n",
    "#rho = 3/pi^2./(tdur.*24*3600).^3.*(period.*24*3600)/GRAV;\n",
    "ravg = mean(rho)\n",
    "rsig = std(rho)\n",
    "@printf \"Stellar density (g/cc):   %5.2f +/- %5.2f\\n\" ravg rsig\n",
    "\n",
    "for i=1:nparam\n",
    "  for j=1:nwalkers\n",
    "    plot(vec(par_mcmc[j,1:nsteps,i]))\n",
    "  end\n",
    "  xlabel(\"MCMC step\")\n",
    "  ylabel(pname[i])\n",
    "  println(\"Hit return to continue\")\n",
    "  read(STDIN,Char)\n",
    "  clf()\n",
    "end\n",
    "\n",
    "for i=2:nparam\n",
    "  for j=1:i-1\n",
    "    scatter(vec(par_mcmc[1:nwalkers,iburn:nsteps,i]),vec(par_mcmc[1:nwalkers,iburn:nsteps,j]))\n",
    "    xlabel(pname[i])\n",
    "    ylabel(pname[j])\n",
    "    println(\"Hit return to continue\")\n",
    "    read(STDIN,Char)\n",
    "    clf()\n",
    "  end\n",
    "end"
   ]
  },
  {
   "cell_type": "code",
   "execution_count": null,
   "metadata": {
    "collapsed": true
   },
   "outputs": [],
   "source": []
  }
 ],
 "metadata": {
  "kernelspec": {
   "display_name": "Julia 0.4.5",
   "language": "julia",
   "name": "julia-0.4"
  },
  "language_info": {
   "file_extension": ".jl",
   "mimetype": "application/julia",
   "name": "julia",
   "version": "0.4.5"
  }
 },
 "nbformat": 4,
 "nbformat_minor": 0
}
