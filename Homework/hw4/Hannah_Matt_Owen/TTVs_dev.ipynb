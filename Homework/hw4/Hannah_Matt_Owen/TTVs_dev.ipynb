{
 "cells": [
  {
   "cell_type": "code",
   "execution_count": 1,
   "metadata": {
    "collapsed": false
   },
   "outputs": [],
   "source": [
    "using LsqFit\n",
    "using PyPlot\n",
    "\n",
    "include(\"../compute_ttv.jl\")\n",
    "using TTVFaster"
   ]
  },
  {
   "cell_type": "markdown",
   "metadata": {},
   "source": [
    "## 2 planets"
   ]
  },
  {
   "cell_type": "code",
   "execution_count": 9,
   "metadata": {
    "collapsed": false
   },
   "outputs": [],
   "source": [
    "p1 = readdlm(\"../ttv_planet1.txt\");\n",
    "p2 = readdlm(\"../ttv_planet2.txt\");"
   ]
  },
  {
   "cell_type": "code",
   "execution_count": 85,
   "metadata": {
    "collapsed": false
   },
   "outputs": [],
   "source": [
    "data = [p1;p2][:]\n",
    "function model_func(useless_input_x, params) #curve fit makes us take the first parameter\n",
    "    \n",
    "    planet1 = Planet_plane_hk(params[1],params[2],params[3],params[4],params[5]);\n",
    "    planet2 = Planet_plane_hk(params[6],params[7],params[8],params[9],params[10]);\n",
    "\n",
    "    ttv1 = zeros(length(p1));\n",
    "    ttv2 = zeros(length(p2));\n",
    "\n",
    "    compute_ttv!(5, planet1, planet2, p1[:], p2[:], ttv1, ttv2);\n",
    "\n",
    "    results1 = zeros(length(p1))\n",
    "    results2 = zeros(length(p2))\n",
    "    for j=1:length(p1)\n",
    "        results1[j] = results1[j] + (j-1)*planet1.period + planet1.trans0\n",
    "    end\n",
    "\n",
    "    for j=1:length(p2)\n",
    "        results2[j] = results2[j] + (j-1)*planet2.period + planet2.trans0\n",
    "    end\n",
    "\n",
    "    results2 = results2 + ttv2;\n",
    "    results1 = results1 + ttv1;\n",
    "\n",
    "    results = [results1;results2]\n",
    "    return results\n",
    "end;"
   ]
  },
  {
   "cell_type": "code",
   "execution_count": 90,
   "metadata": {
    "collapsed": false
   },
   "outputs": [],
   "source": [
    "p0 = [0.000003, 225, 8445, 0.0001, 0.0001, 0.000003, 365, 8461, 0.0001, 0.0001]\n",
    "fit = curve_fit(model_func, [], data, p0);"
   ]
  },
  {
   "cell_type": "markdown",
   "metadata": {},
   "source": [
    "# curve fit returns:\n",
    "- mass_ratio\n",
    "- period\n",
    "- trans0\n",
    "- ecosw\n",
    "- esinw\n",
    "\n",
    "note: e times cos or sin of longitude of periastron measured from line of sight, in radians:"
   ]
  },
  {
   "cell_type": "code",
   "execution_count": 91,
   "metadata": {
    "collapsed": false,
    "scrolled": true
   },
   "outputs": [
    {
     "data": {
      "text/plain": [
       "10-element Array{Float64,1}:\n",
       "   -1.29999e-9\n",
       "  224.701     \n",
       " 8445.5       \n",
       " -454.417     \n",
       "   -1.65201   \n",
       "   -2.72711e-9\n",
       "  365.256     \n",
       " 8461.76      \n",
       " -339.282     \n",
       "   -0.0261478 "
      ]
     },
     "execution_count": 91,
     "metadata": {},
     "output_type": "execute_result"
    }
   ],
   "source": [
    "fit.param"
   ]
  }
 ],
 "metadata": {
  "kernelspec": {
   "display_name": "Julia 0.4.5",
   "language": "julia",
   "name": "julia-0.4"
  },
  "language_info": {
   "file_extension": ".jl",
   "mimetype": "application/julia",
   "name": "julia",
   "version": "0.4.5"
  }
 },
 "nbformat": 4,
 "nbformat_minor": 0
}
