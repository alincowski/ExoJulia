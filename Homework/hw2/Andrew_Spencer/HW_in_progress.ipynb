{
 "cells": [
  {
   "cell_type": "code",
   "execution_count": 1,
   "metadata": {
    "collapsed": false
   },
   "outputs": [],
   "source": [
    "using LsqFit\n",
    "using PyPlot"
   ]
  },
  {
   "cell_type": "code",
   "execution_count": 69,
   "metadata": {
    "collapsed": false
   },
   "outputs": [
    {
     "data": {
      "text/plain": [
       "quicksort2D (generic function with 1 method)"
      ]
     },
     "execution_count": 69,
     "metadata": {},
     "output_type": "execute_result"
    }
   ],
   "source": [
    "# QUICKSORT FOR A traditional row-based array with multiple columns\n",
    "function quicksort2D(a)#,left,right)\n",
    "    \n",
    "    lena = length(a[:,1])\n",
    "#    a0 = zeros(Float64,1,lena)\n",
    "    \n",
    "    if(lena < 2)\n",
    "        return a\n",
    "    end\n",
    "    \n",
    "    if(lena == 2)\n",
    "        if(a[1,1] > a[2,1])\n",
    "            a[1,:],a[2,:] = a[2,:],a[1,:]\n",
    "        end\n",
    "        return a\n",
    "    end\n",
    "         \n",
    "    if(lena > 2)\n",
    "        pivot = a[div(lena,2)]\n",
    "        i = 1\n",
    "        j = lena\n",
    "\n",
    "        while(i <= j)\n",
    "            \n",
    "            while(a[i,1] < pivot)\n",
    "                i = i + 1\n",
    "            end\n",
    "            \n",
    "            while(a[j,1] > pivot)\n",
    "                j = j - 1\n",
    "            end\n",
    "\n",
    "            if(i <= j)\n",
    "                a[i,:], a[j,:] = a[j,:], a[i,:]\n",
    "                i = i + 1\n",
    "                j = j - 1\n",
    "            end\n",
    "        end\n",
    "\n",
    "        a[1:i,:] = quicksort2D(a[1:i,:])\n",
    "        a[i:end,:] = quicksort2D(a[i:end,:]) \n",
    "\n",
    "    end\n",
    "   \n",
    "    return a\n",
    "    \n",
    "end"
   ]
  },
  {
   "cell_type": "code",
   "execution_count": 64,
   "metadata": {
    "collapsed": false
   },
   "outputs": [],
   "source": [
    "a = zeros(Float64,1000000,2)\n",
    "for i in 1:1000000\n",
    "    a[i,1] = rand()\n",
    "end\n",
    "\n",
    "b = zeros(Float64,1000000,2)\n",
    "for i in 1:1000000\n",
    "    b[i,1] = rand()\n",
    "end"
   ]
  },
  {
   "cell_type": "code",
   "execution_count": 65,
   "metadata": {
    "collapsed": false
   },
   "outputs": [
    {
     "data": {
      "text/plain": [
       "1000000x2 Array{Float64,2}:\n",
       " 0.953329   0.0\n",
       " 0.938848   0.0\n",
       " 0.12966    0.0\n",
       " 0.0367689  0.0\n",
       " 0.0880469  0.0\n",
       " 0.828386   0.0\n",
       " 0.768748   0.0\n",
       " 0.152484   0.0\n",
       " 0.609848   0.0\n",
       " 0.575182   0.0\n",
       " 0.852282   0.0\n",
       " 0.15094    0.0\n",
       " 0.802884   0.0\n",
       " ⋮             \n",
       " 0.125223   0.0\n",
       " 0.919907   0.0\n",
       " 0.573447   0.0\n",
       " 0.690217   0.0\n",
       " 0.765555   0.0\n",
       " 0.471685   0.0\n",
       " 0.0377195  0.0\n",
       " 0.101412   0.0\n",
       " 0.133898   0.0\n",
       " 0.0902464  0.0\n",
       " 0.396811   0.0\n",
       " 0.0764967  0.0"
      ]
     },
     "execution_count": 65,
     "metadata": {},
     "output_type": "execute_result"
    }
   ],
   "source": [
    "a"
   ]
  },
  {
   "cell_type": "code",
   "execution_count": 66,
   "metadata": {
    "collapsed": false
   },
   "outputs": [
    {
     "name": "stdout",
     "output_type": "stream",
     "text": [
      "  8.846460 seconds (94.12 M allocations: 1.492 GB, 7.69% gc time)\n"
     ]
    },
    {
     "data": {
      "text/plain": [
       "1000000x2 Array{Float64,2}:\n",
       " 9.94057e-7  0.0\n",
       " 5.41102e-6  0.0\n",
       " 6.84952e-6  0.0\n",
       " 6.99643e-6  0.0\n",
       " 8.15518e-6  0.0\n",
       " 1.00501e-5  0.0\n",
       " 1.26354e-5  0.0\n",
       " 1.43445e-5  0.0\n",
       " 1.47344e-5  0.0\n",
       " 1.54046e-5  0.0\n",
       " 1.66679e-5  0.0\n",
       " 1.73928e-5  0.0\n",
       " 1.74628e-5  0.0\n",
       " ⋮              \n",
       " 0.999991    0.0\n",
       " 0.999991    0.0\n",
       " 0.999992    0.0\n",
       " 0.999993    0.0\n",
       " 0.999994    0.0\n",
       " 0.999996    0.0\n",
       " 0.999996    0.0\n",
       " 0.999996    0.0\n",
       " 0.999997    0.0\n",
       " 0.999998    0.0\n",
       " 1.0         0.0\n",
       " 1.0         0.0"
      ]
     },
     "execution_count": 66,
     "metadata": {},
     "output_type": "execute_result"
    }
   ],
   "source": [
    "#@time quicksort2D(a)\n",
    "@time sortrows(a, by=x->x[1])"
   ]
  },
  {
   "cell_type": "code",
   "execution_count": 67,
   "metadata": {
    "collapsed": false
   },
   "outputs": [
    {
     "name": "stdout",
     "output_type": "stream",
     "text": [
      "  3.039943 seconds (48.04 M allocations: 2.409 GB, 26.42% gc time)\n"
     ]
    },
    {
     "data": {
      "text/plain": [
       "1000000x2 Array{Float64,2}:\n",
       " 1.27218e-6  0.0\n",
       " 1.40103e-6  0.0\n",
       " 3.17222e-6  0.0\n",
       " 5.87567e-6  0.0\n",
       " 6.07431e-6  0.0\n",
       " 6.28246e-6  0.0\n",
       " 6.292e-6    0.0\n",
       " 8.2119e-6   0.0\n",
       " 1.11152e-5  0.0\n",
       " 1.16548e-5  0.0\n",
       " 1.19467e-5  0.0\n",
       " 1.23565e-5  0.0\n",
       " 1.36386e-5  0.0\n",
       " ⋮              \n",
       " 0.999988    0.0\n",
       " 0.999988    0.0\n",
       " 0.999989    0.0\n",
       " 0.999994    0.0\n",
       " 0.999995    0.0\n",
       " 0.999996    0.0\n",
       " 0.999997    0.0\n",
       " 0.999998    0.0\n",
       " 0.999998    0.0\n",
       " 0.999999    0.0\n",
       " 0.999999    0.0\n",
       " 1.0         0.0"
      ]
     },
     "execution_count": 67,
     "metadata": {},
     "output_type": "execute_result"
    }
   ],
   "source": [
    "@time quicksort2D(b)"
   ]
  },
  {
   "cell_type": "code",
   "execution_count": 6,
   "metadata": {
    "collapsed": false
   },
   "outputs": [
    {
     "data": {
      "text/plain": [
       "59-element Array{Float64,1}:\n",
       " 1.0\n",
       " 1.0\n",
       " 1.0\n",
       " 1.3\n",
       " 1.3\n",
       " 1.2\n",
       " 1.1\n",
       " 1.1\n",
       " 1.1\n",
       " 1.2\n",
       " 1.2\n",
       " 1.1\n",
       " 1.2\n",
       " ⋮  \n",
       " 1.0\n",
       " 1.2\n",
       " 1.3\n",
       " 1.3\n",
       " 1.3\n",
       " 1.2\n",
       " 1.3\n",
       " 1.4\n",
       " 1.5\n",
       " 1.2\n",
       " 1.1\n",
       " 1.4"
      ]
     },
     "execution_count": 6,
     "metadata": {},
     "output_type": "execute_result"
    }
   ],
   "source": [
    "#Data import\n",
    "pldata = readdlm(\"mystery_planet.txt\")\n",
    "time_data = pldata[:,1]\n",
    "RV_data = pldata[:,2]\n",
    "err_data = pldata[:,3]"
   ]
  },
  {
   "cell_type": "code",
   "execution_count": 7,
   "metadata": {
    "collapsed": false
   },
   "outputs": [
    {
     "data": {
      "text/plain": [
       "59-element Array{Float64,1}:\n",
       " 3.82196\n",
       " 3.82264\n",
       " 3.82336\n",
       " 5.16632\n",
       " 5.16702\n",
       " 5.16775\n",
       " 0.12242\n",
       " 0.12308\n",
       " 0.12372\n",
       " 1.11653\n",
       " 1.11724\n",
       " 1.11797\n",
       " 9.10185\n",
       " ⋮      \n",
       " 6.7334 \n",
       " 7.73062\n",
       " 1.94048\n",
       " 2.72022\n",
       " 2.7208 \n",
       " 2.72139\n",
       " 3.02461\n",
       " 3.02698\n",
       " 3.03026\n",
       " 5.72624\n",
       " 8.73474\n",
       " 5.1871 "
      ]
     },
     "execution_count": 7,
     "metadata": {},
     "output_type": "execute_result"
    }
   ],
   "source": [
    "#Sort by phase, given period\n",
    "phase = Array(Real,length(time_data))\n",
    "period = 10.\n",
    "phase = mod(time_data,period)"
   ]
  },
  {
   "cell_type": "code",
   "execution_count": 8,
   "metadata": {
    "collapsed": false
   },
   "outputs": [
    {
     "name": "stdout",
     "output_type": "stream",
     "text": [
      "  0.252925 seconds (266.04 k allocations: 12.020 MB)\n"
     ]
    },
    {
     "data": {
      "text/plain": [
       "59x2 Array{Float64,2}:\n",
       " 0.12242   321.0\n",
       " 0.12308   318.4\n",
       " 0.12372   319.2\n",
       " 1.11653   290.6\n",
       " 1.11724   291.0\n",
       " 1.11797   291.7\n",
       " 1.16959    95.0\n",
       " 1.80566   -30.5\n",
       " 1.84867  -237.2\n",
       " 1.94048  -113.1\n",
       " 2.72022  -177.0\n",
       " 2.7208   -170.0\n",
       " 2.72139  -172.8\n",
       " ⋮              \n",
       " 7.00429    68.3\n",
       " 7.16184    12.3\n",
       " 7.18024  -180.8\n",
       " 7.73062  -237.0\n",
       " 7.92941  -221.9\n",
       " 8.10796  -213.6\n",
       " 8.73474  -142.7\n",
       " 8.8737   -227.3\n",
       " 9.10185    90.7\n",
       " 9.1025     91.1\n",
       " 9.10312    87.7\n",
       " 9.16606    46.7"
      ]
     },
     "execution_count": 8,
     "metadata": {},
     "output_type": "execute_result"
    }
   ],
   "source": [
    "phase_data_arr1 = [phase RV_data] #combine arrays\n",
    "@time phase_sorted1 = sortrows(phase_data_arr1, by=x->x[1]) #sort by phase\n",
    "#phase_sorted2 = sort(phase_data_arr,1) #sort by phase"
   ]
  },
  {
   "cell_type": "code",
   "execution_count": 9,
   "metadata": {
    "collapsed": false
   },
   "outputs": [
    {
     "name": "stdout",
     "output_type": "stream",
     "text": [
      "  0.000974 seconds (1.50 k allocations: 30.648 KB)\n"
     ]
    },
    {
     "data": {
      "text/plain": [
       "59x2 Array{Float64,2}:\n",
       " 0.12242   321.0\n",
       " 0.12308   318.4\n",
       " 0.12372   319.2\n",
       " 1.11653   290.6\n",
       " 1.11724   291.0\n",
       " 1.11797   291.7\n",
       " 1.16959    95.0\n",
       " 1.80566   -30.5\n",
       " 1.84867  -237.2\n",
       " 1.94048  -113.1\n",
       " 2.72022  -177.0\n",
       " 2.7208   -170.0\n",
       " 2.72139  -172.8\n",
       " ⋮              \n",
       " 7.00429    68.3\n",
       " 7.16184    12.3\n",
       " 7.18024  -180.8\n",
       " 7.73062  -237.0\n",
       " 7.92941  -221.9\n",
       " 8.10796  -213.6\n",
       " 8.73474  -142.7\n",
       " 8.8737   -227.3\n",
       " 9.10185    90.7\n",
       " 9.1025     91.1\n",
       " 9.10312    87.7\n",
       " 9.16606    46.7"
      ]
     },
     "execution_count": 9,
     "metadata": {},
     "output_type": "execute_result"
    }
   ],
   "source": [
    "phase_data_arr2 = [phase RV_data] #combine arrays\n",
    "@time phase_sorted2 = sortrows(phase_data_arr2, by=x->x[1]) #sort by phase"
   ]
  },
  {
   "cell_type": "code",
   "execution_count": 10,
   "metadata": {
    "collapsed": false
   },
   "outputs": [
    {
     "name": "stdout",
     "output_type": "stream",
     "text": [
      "  0.165595 seconds (151.17 k allocations: 7.161 MB)\n"
     ]
    },
    {
     "data": {
      "text/plain": [
       "59x2 Array{Float64,2}:\n",
       " 0.12242   321.0\n",
       " 0.12308   318.4\n",
       " 0.12372   319.2\n",
       " 1.11653   290.6\n",
       " 1.11724   291.0\n",
       " 1.11797   291.7\n",
       " 1.16959    95.0\n",
       " 1.80566   -30.5\n",
       " 1.84867  -237.2\n",
       " 1.94048  -113.1\n",
       " 2.72022  -177.0\n",
       " 2.7208   -170.0\n",
       " 2.72139  -172.8\n",
       " ⋮              \n",
       " 7.00429    68.3\n",
       " 7.16184    12.3\n",
       " 7.18024  -180.8\n",
       " 7.73062  -237.0\n",
       " 7.92941  -221.9\n",
       " 8.10796  -213.6\n",
       " 8.73474  -142.7\n",
       " 8.8737   -227.3\n",
       " 9.10185    90.7\n",
       " 9.1025     91.1\n",
       " 9.10312    87.7\n",
       " 9.16606    46.7"
      ]
     },
     "execution_count": 10,
     "metadata": {},
     "output_type": "execute_result"
    }
   ],
   "source": [
    "newsorted1 = [phase RV_data] #combine arrays\n",
    "@time quicksort2D(newsorted1)#,1,length(newsorted[:,1]))"
   ]
  },
  {
   "cell_type": "code",
   "execution_count": 11,
   "metadata": {
    "collapsed": false
   },
   "outputs": [
    {
     "name": "stdout",
     "output_type": "stream",
     "text": [
      "  0.000069 seconds (1.21 k allocations: 66.750 KB)\n"
     ]
    },
    {
     "data": {
      "text/plain": [
       "59x2 Array{Float64,2}:\n",
       " 0.12242   321.0\n",
       " 0.12308   318.4\n",
       " 0.12372   319.2\n",
       " 1.11653   290.6\n",
       " 1.11724   291.0\n",
       " 1.11797   291.7\n",
       " 1.16959    95.0\n",
       " 1.80566   -30.5\n",
       " 1.84867  -237.2\n",
       " 1.94048  -113.1\n",
       " 2.72022  -177.0\n",
       " 2.7208   -170.0\n",
       " 2.72139  -172.8\n",
       " ⋮              \n",
       " 7.00429    68.3\n",
       " 7.16184    12.3\n",
       " 7.18024  -180.8\n",
       " 7.73062  -237.0\n",
       " 7.92941  -221.9\n",
       " 8.10796  -213.6\n",
       " 8.73474  -142.7\n",
       " 8.8737   -227.3\n",
       " 9.10185    90.7\n",
       " 9.1025     91.1\n",
       " 9.10312    87.7\n",
       " 9.16606    46.7"
      ]
     },
     "execution_count": 11,
     "metadata": {},
     "output_type": "execute_result"
    }
   ],
   "source": [
    "newsorted2 = [phase RV_data] #combine arrays\n",
    "@time quicksort2D(newsorted2)#,1,length(newsorted[:,1]))"
   ]
  },
  {
   "cell_type": "code",
   "execution_count": 12,
   "metadata": {
    "collapsed": false
   },
   "outputs": [
    {
     "name": "stdout",
     "output_type": "stream",
     "text": [
      "  0.000070 seconds (1.21 k allocations: 66.750 KB)\n"
     ]
    },
    {
     "data": {
      "text/plain": [
       "59x2 Array{Float64,2}:\n",
       " 0.12242   321.0\n",
       " 0.12308   318.4\n",
       " 0.12372   319.2\n",
       " 1.11653   290.6\n",
       " 1.11724   291.0\n",
       " 1.11797   291.7\n",
       " 1.16959    95.0\n",
       " 1.80566   -30.5\n",
       " 1.84867  -237.2\n",
       " 1.94048  -113.1\n",
       " 2.72022  -177.0\n",
       " 2.7208   -170.0\n",
       " 2.72139  -172.8\n",
       " ⋮              \n",
       " 7.00429    68.3\n",
       " 7.16184    12.3\n",
       " 7.18024  -180.8\n",
       " 7.73062  -237.0\n",
       " 7.92941  -221.9\n",
       " 8.10796  -213.6\n",
       " 8.73474  -142.7\n",
       " 8.8737   -227.3\n",
       " 9.10185    90.7\n",
       " 9.1025     91.1\n",
       " 9.10312    87.7\n",
       " 9.16606    46.7"
      ]
     },
     "execution_count": 12,
     "metadata": {},
     "output_type": "execute_result"
    }
   ],
   "source": [
    "newsorted3 = [phase RV_data]\n",
    "@time quicksort2D(newsorted3)#,1,length(newsorted[:,1]))"
   ]
  },
  {
   "cell_type": "code",
   "execution_count": 13,
   "metadata": {
    "collapsed": false
   },
   "outputs": [
    {
     "data": {
      "text/plain": [
       "59x2 Array{Float64,2}:\n",
       " 3.82196  -217.7\n",
       " 3.82264  -221.0\n",
       " 3.82336  -217.8\n",
       " 5.16632  -203.3\n",
       " 5.16702  -204.2\n",
       " 5.16775  -203.6\n",
       " 0.12242   321.0\n",
       " 0.12308   318.4\n",
       " 0.12372   319.2\n",
       " 1.11653   290.6\n",
       " 1.11724   291.0\n",
       " 1.11797   291.7\n",
       " 9.10185    90.7\n",
       " ⋮              \n",
       " 6.7334   -238.4\n",
       " 7.73062  -237.0\n",
       " 1.94048  -113.1\n",
       " 2.72022  -177.0\n",
       " 2.7208   -170.0\n",
       " 2.72139  -172.8\n",
       " 3.02461   379.9\n",
       " 3.02698   382.7\n",
       " 3.03026   386.1\n",
       " 5.72624  -185.9\n",
       " 8.73474  -142.7\n",
       " 5.1871     24.3"
      ]
     },
     "execution_count": 13,
     "metadata": {},
     "output_type": "execute_result"
    }
   ],
   "source": [
    "[phase RV_data]"
   ]
  },
  {
   "cell_type": "code",
   "execution_count": 14,
   "metadata": {
    "collapsed": false
   },
   "outputs": [
    {
     "ename": "LoadError",
     "evalue": "LoadError: UndefVarError: phase_data_arr not defined\nwhile loading In[14], in expression starting on line 1",
     "output_type": "error",
     "traceback": [
      "LoadError: UndefVarError: phase_data_arr not defined\nwhile loading In[14], in expression starting on line 1",
      ""
     ]
    }
   ],
   "source": [
    "plot(phase_data_arr[:,1],phase_data_arr[:,2],\".\")"
   ]
  },
  {
   "cell_type": "code",
   "execution_count": 15,
   "metadata": {
    "collapsed": false
   },
   "outputs": [
    {
     "data": {
      "text/plain": [
       "100000-element Array{Real,1}:\n",
       " 2.58033e6\n",
       " 3.21359e6\n",
       " 3.02553e6\n",
       " 3.14458e6\n",
       " 3.03096e6\n",
       " 3.8313e6 \n",
       " 3.94352e6\n",
       " 3.38432e6\n",
       " 3.59938e6\n",
       " 3.4122e6 \n",
       " 2.62869e6\n",
       " 3.32299e6\n",
       " 2.87204e6\n",
       " ⋮        \n",
       " 3.20805e6\n",
       " 3.20805e6\n",
       " 3.20805e6\n",
       " 3.20805e6\n",
       " 3.20805e6\n",
       " 3.20805e6\n",
       " 3.20805e6\n",
       " 3.20805e6\n",
       " 3.20805e6\n",
       " 3.20805e6\n",
       " 3.20805e6\n",
       " 3.20805e6"
      ]
     },
     "execution_count": 15,
     "metadata": {},
     "output_type": "execute_result"
    }
   ],
   "source": [
    "period = linspace(1,3500,100000)\n",
    "sum = Array(Real,length(period))\n",
    "\n",
    "for (j,P) in enumerate(period)\n",
    "    sum[j] = 0.0\n",
    "    #Sort by phase given period\n",
    "    phase = Array(Real,length(time_data))\n",
    "    phase = mod(time_data,P)\n",
    "    phase_data_arr = [phase RV_data] #combine arrays\n",
    "    phase_sorted = sortrows(phase_data_arr, by=x->x[1]) #sort by phase\n",
    "    for i in 2:length(time_data)\n",
    "        sum[j] += (phase_sorted[i,2]-phase_sorted[i-1,2])*(phase_sorted[i,2]-phase_sorted[i-1,2])\n",
    "    end\n",
    "end\n",
    "sum"
   ]
  },
  {
   "cell_type": "code",
   "execution_count": 16,
   "metadata": {
    "collapsed": false
   },
   "outputs": [
    {
     "data": {
      "image/png": "[encoded data removed]",
      "text/plain": [
       "PyPlot.Figure(PyObject <matplotlib.figure.Figure object at 0x7f96852e3860>)"
      ]
     },
     "metadata": {},
     "output_type": "display_data"
    },
    {
     "data": {
      "text/plain": [
       "1-element Array{Any,1}:\n",
       " PyObject <matplotlib.lines.Line2D object at 0x7f96667d9320>"
      ]
     },
     "execution_count": 16,
     "metadata": {},
     "output_type": "execute_result"
    }
   ],
   "source": [
    "plot(period,log10(sum))"
   ]
  },
  {
   "cell_type": "code",
   "execution_count": 17,
   "metadata": {
    "collapsed": false
   },
   "outputs": [
    {
     "data": {
      "image/png": "[encoded data removed]",
      "text/plain": [
       "PyPlot.Figure(PyObject <matplotlib.figure.Figure object at 0x7f96668317b8>)"
      ]
     },
     "metadata": {},
     "output_type": "display_data"
    },
    {
     "data": {
      "text/plain": [
       "PyObject <matplotlib.collections.PathCollection object at 0x7f9668c56fd0>"
      ]
     },
     "execution_count": 17,
     "metadata": {},
     "output_type": "execute_result"
    }
   ],
   "source": [
    "min_index=indmin(sum)\n",
    "min_per=period[min_index]\n",
    "npts = 2000\n",
    "scatter(period[min_index-npts:min_index+npts],log10(sum[min_index-npts:min_index+npts]))"
   ]
  },
  {
   "cell_type": "code",
   "execution_count": 18,
   "metadata": {
    "collapsed": false
   },
   "outputs": [],
   "source": [
    "P = min_per\n",
    "sum = 0.0\n",
    "#Sort by phase given period\n",
    "phase = Array(Real,length(time_data))\n",
    "phase = mod(time_data,P)\n",
    "phase_data_arr = [phase RV_data] #combine arrays\n",
    "phase_sorted = sortrows(phase_data_arr, by=x->x[1]) #sort by phase\n",
    "for i in 2:length(time_data)\n",
    "    sum += (phase_sorted[i,2]-phase_sorted[i-1,2])*(phase_sorted[i,2]-phase_sorted[i-1,2])\n",
    "end"
   ]
  },
  {
   "cell_type": "code",
   "execution_count": 19,
   "metadata": {
    "collapsed": false
   },
   "outputs": [
    {
     "data": {
      "image/png": "[encoded data removed]",
      "text/plain": [
       "PyPlot.Figure(PyObject <matplotlib.figure.Figure object at 0x7f96667924e0>)"
      ]
     },
     "metadata": {},
     "output_type": "display_data"
    },
    {
     "data": {
      "text/plain": [
       "PyObject <matplotlib.collections.PathCollection object at 0x7f966fd69978>"
      ]
     },
     "execution_count": 19,
     "metadata": {},
     "output_type": "execute_result"
    }
   ],
   "source": [
    "scatter(phase_sorted[:,1],phase_sorted[:,2])"
   ]
  },
  {
   "cell_type": "markdown",
   "metadata": {},
   "source": [
    "### K, $\\varpi, \\gamma$ Analytical Solution"
   ]
  },
  {
   "cell_type": "code",
   "execution_count": 20,
   "metadata": {
    "collapsed": false
   },
   "outputs": [
    {
     "name": "stdout",
     "output_type": "stream",
     "text": [
      "/home/linc/Documents/SCHOOL/598_exoplanets/ExoJulia/Homework/hw2/Andrew_Spencer\n"
     ]
    }
   ],
   "source": [
    "; pwd"
   ]
  },
  {
   "cell_type": "code",
   "execution_count": 21,
   "metadata": {
    "collapsed": false
   },
   "outputs": [
    {
     "ename": "LoadError",
     "evalue": "LoadError: ArgumentError: ExoJulia not found in path\nwhile loading In[21], in expression starting on line 4",
     "output_type": "error",
     "traceback": [
      "LoadError: ArgumentError: ExoJulia not found in path\nwhile loading In[21], in expression starting on line 4",
      ""
     ]
    }
   ],
   "source": [
    "# THIS DOESN'T WORK. WORKING AROUND IT (FOLLOWING CELL)\n",
    "push!(LOAD_PATH, \"/home/linc/Documents/SCHOOL/598_exoplanets/ExoJulia/ExoJulia/\")\n",
    "# import\n",
    "using ExoJulia\n",
    "\n",
    "# Call kepler_solve!()\n",
    "#M = 0.1;\n",
    "#ecc = 0.0;\n",
    "#E = ExoJulia.Orbit.kepler_solve!(M, ecc)"
   ]
  },
  {
   "cell_type": "code",
   "execution_count": 22,
   "metadata": {
    "collapsed": false
   },
   "outputs": [
    {
     "data": {
      "text/plain": [
       "Orbit"
      ]
     },
     "execution_count": 22,
     "metadata": {},
     "output_type": "execute_result"
    }
   ],
   "source": [
    "include(\"/home/linc/Documents/SCHOOL/598_exoplanets/ExoJulia/ExoJulia/Orbit/orbit.jl\")"
   ]
  },
  {
   "cell_type": "code",
   "execution_count": 23,
   "metadata": {
    "collapsed": false
   },
   "outputs": [
    {
     "data": {
      "text/plain": [
       "0.1"
      ]
     },
     "execution_count": 23,
     "metadata": {},
     "output_type": "execute_result"
    }
   ],
   "source": [
    "# Call kepler_solve!()\n",
    "M = 0.1;\n",
    "ecc = 0.0;\n",
    "E = Orbit.kepler_solve!(M, ecc)"
   ]
  },
  {
   "cell_type": "code",
   "execution_count": 24,
   "metadata": {
    "collapsed": false
   },
   "outputs": [
    {
     "data": {
      "text/plain": [
       "f_func (generic function with 1 method)"
      ]
     },
     "execution_count": 24,
     "metadata": {},
     "output_type": "execute_result"
    }
   ],
   "source": [
    "#Functions\n",
    "function f_func(time,ecc,period,time_peri)\n",
    "    M = 2*pi/period*(time-time_peri)\n",
    "    E = Orbit.kepler_solve!(M,ecc)\n",
    "    f = 2*atan(sqrt((1+ecc)/(1-ecc))*tan(E/2))\n",
    "    f   \n",
    "end"
   ]
  },
  {
   "cell_type": "code",
   "execution_count": 25,
   "metadata": {
    "collapsed": false
   },
   "outputs": [
    {
     "data": {
      "text/plain": [
       "0.0"
      ]
     },
     "execution_count": 25,
     "metadata": {},
     "output_type": "execute_result"
    }
   ],
   "source": [
    "#Will loop over these\n",
    "ecc = 0.1\n",
    "time_peri = 0.0"
   ]
  },
  {
   "cell_type": "code",
   "execution_count": 26,
   "metadata": {
    "collapsed": false
   },
   "outputs": [
    {
     "data": {
      "text/plain": [
       "4-element Array{Real,1}:\n",
       " 1.0\n",
       " 1.0\n",
       " 1.0\n",
       " 1.0"
      ]
     },
     "execution_count": 26,
     "metadata": {},
     "output_type": "execute_result"
    }
   ],
   "source": [
    "testarr = Array(Real,4,8)\n",
    "testarr[:,:] = 1.0\n",
    "testarr[:,1]"
   ]
  },
  {
   "cell_type": "code",
   "execution_count": 27,
   "metadata": {
    "collapsed": false
   },
   "outputs": [
    {
     "data": {
      "text/plain": [
       "-40.75528673939226"
      ]
     },
     "execution_count": 27,
     "metadata": {},
     "output_type": "execute_result"
    }
   ],
   "source": [
    "F = Array(Real,4,length(time_data))\n",
    "\n",
    "for i in 1:length(time_data)\n",
    "    F[1,i] = cos(f_func(time_data[i],ecc,P,time_peri))\n",
    "    F[2,i] = sin(f_func(time_data[i],ecc,P,time_peri))\n",
    "    F[3,i] = 1.0\n",
    "    F[4,i] = time_data[i]-time_data[1]\n",
    "end\n",
    "\n",
    "W = zeros(Real,length(time_data),length(time_data))\n",
    "#W[:,:] = 0.0\n",
    "\n",
    "for i in 1:length(time_data)\n",
    "    W[i,i] = (err_data[i])^(-2)\n",
    "end\n",
    "\n",
    "B = RV_data'*W*F'*inv(F*W*F')\n",
    "\n",
    "#B = {h,c,v0,d}\n",
    "h = B[1]\n",
    "c = B[2]\n",
    "v0 = B[3]\n",
    "K = sqrt(h*h + c*c)\n",
    "curlypi = atan(-c/h)\n",
    "gam = v0 - K*ecc*cos(curlypi)"
   ]
  },
  {
   "cell_type": "code",
   "execution_count": 28,
   "metadata": {
    "collapsed": false
   },
   "outputs": [
    {
     "data": {
      "text/plain": [
       "4x59 Array{Real,2}:\n",
       " -0.91697   -0.916983  -0.916996   -0.380286  …    -0.564969     0.802629\n",
       "  0.398955   0.398927   0.398897   -0.924869        0.825112    -0.596479\n",
       "  1.0        1.0        1.0         1.0             1.0          1.0     \n",
       "  0.0        0.00068    0.0014    151.344        2554.91      2741.37    "
      ]
     },
     "execution_count": 28,
     "metadata": {},
     "output_type": "execute_result"
    }
   ],
   "source": [
    "F"
   ]
  },
  {
   "cell_type": "code",
   "execution_count": null,
   "metadata": {
    "collapsed": true
   },
   "outputs": [],
   "source": []
  }
 ],
 "metadata": {
  "kernelspec": {
   "display_name": "Julia 0.4.5",
   "language": "julia",
   "name": "julia-0.4"
  },
  "language_info": {
   "file_extension": ".jl",
   "mimetype": "application/julia",
   "name": "julia",
   "version": "0.4.5"
  }
 },
 "nbformat": 4,
 "nbformat_minor": 0
}
