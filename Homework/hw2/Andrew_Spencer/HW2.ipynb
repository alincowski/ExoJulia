{
 "cells": [
  {
   "cell_type": "code",
   "execution_count": 1,
   "metadata": {
    "collapsed": true
   },
   "outputs": [],
   "source": [
    "using LsqFit\n",
    "using PyPlot"
   ]
  },
  {
   "cell_type": "code",
   "execution_count": 2,
   "metadata": {
    "collapsed": false
   },
   "outputs": [
    {
     "data": {
      "text/plain": [
       "59-element Array{Float64,1}:\n",
       " 1.0\n",
       " 1.0\n",
       " 1.0\n",
       " 1.3\n",
       " 1.3\n",
       " 1.2\n",
       " 1.1\n",
       " 1.1\n",
       " 1.1\n",
       " 1.2\n",
       " 1.2\n",
       " 1.1\n",
       " 1.2\n",
       " ⋮  \n",
       " 1.0\n",
       " 1.2\n",
       " 1.3\n",
       " 1.3\n",
       " 1.3\n",
       " 1.2\n",
       " 1.3\n",
       " 1.4\n",
       " 1.5\n",
       " 1.2\n",
       " 1.1\n",
       " 1.4"
      ]
     },
     "execution_count": 2,
     "metadata": {},
     "output_type": "execute_result"
    }
   ],
   "source": [
    "#Data import\n",
    "pldata = readdlm(\"mystery_planet.txt\")\n",
    "time_data = pldata[:,1]\n",
    "RV_data = pldata[:,2]\n",
    "err_data = pldata[:,3]"
   ]
  },
  {
   "cell_type": "code",
   "execution_count": 7,
   "metadata": {
    "collapsed": false
   },
   "outputs": [
    {
     "data": {
      "text/plain": [
       "find_period (generic function with 2 methods)"
      ]
     },
     "execution_count": 7,
     "metadata": {},
     "output_type": "execute_result"
    }
   ],
   "source": [
    "function find_period(time_data,RV_data,showplots=false)\n",
    "    period = linspace(1,time_data[end]-time_data[1],100000)\n",
    "    sum = Array(Real,length(period))\n",
    "\n",
    "    for (j,P) in enumerate(period)\n",
    "        sum[j] = 0.0\n",
    "        #Sort by phase given period\n",
    "        phase = Array(Real,length(time_data))\n",
    "        phase = mod(time_data,P)\n",
    "        phase_data_arr = [phase RV_data] #combine arrays\n",
    "        phase_sorted = sortrows(phase_data_arr, by=x->x[1]) #sort by phase\n",
    "        for i in 2:length(time_data)\n",
    "            sum[j] += (phase_sorted[i,2]-phase_sorted[i-1,2])*(phase_sorted[i,2]-phase_sorted[i-1,2])\n",
    "        end\n",
    "        \n",
    "    end\n",
    "    \n",
    "    min_index=indmin(sum)\n",
    "    min_per=period[min_index]\n",
    "    \n",
    "    if(showplots)\n",
    "        P = min_per\n",
    "        sum = 0.0\n",
    "        #Sort by phase given period\n",
    "        phase = Array(Real,length(time_data))\n",
    "        phase = mod(time_data,P)\n",
    "        phase_data_arr = [phase RV_data] #combine arrays\n",
    "        phase_sorted = sortrows(phase_data_arr, by=x->x[1]) #sort by phase\n",
    "        for i in 2:length(time_data)\n",
    "            sum += (phase_sorted[i,2]-phase_sorted[i-1,2])*(phase_sorted[i,2]-phase_sorted[i-1,2])\n",
    "        end\n",
    "        scatter(phase_sorted[:,1],phase_sorted[:,2])\n",
    "        else min_per\n",
    "    end\n",
    "\n",
    "end"
   ]
  },
  {
   "cell_type": "code",
   "execution_count": 9,
   "metadata": {
    "collapsed": false
   },
   "outputs": [
    {
     "data": {
      "text/plain": [
       "116.64456535365353"
      ]
     },
     "execution_count": 9,
     "metadata": {},
     "output_type": "execute_result"
    }
   ],
   "source": [
    "find_period(time_data,RV_data)"
   ]
  },
  {
   "cell_type": "code",
   "execution_count": null,
   "metadata": {
    "collapsed": true
   },
   "outputs": [],
   "source": []
  }
 ],
 "metadata": {
  "kernelspec": {
   "display_name": "Julia 0.4.5",
   "language": "julia",
   "name": "julia-0.4"
  },
  "language_info": {
   "file_extension": ".jl",
   "mimetype": "application/julia",
   "name": "julia",
   "version": "0.4.5"
  }
 },
 "nbformat": 4,
 "nbformat_minor": 0
}
