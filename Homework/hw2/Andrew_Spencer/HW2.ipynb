{
 "cells": [
  {
   "cell_type": "code",
   "execution_count": 4,
   "metadata": {
    "collapsed": true
   },
   "outputs": [],
   "source": [
    "# Required packages\n",
    "using LsqFit\n",
    "using PyPlot"
   ]
  },
  {
   "cell_type": "code",
   "execution_count": 5,
   "metadata": {
    "collapsed": false
   },
   "outputs": [
    {
     "data": {
      "text/plain": [
       "59-element Array{Float64,1}:\n",
       " 1.0\n",
       " 1.0\n",
       " 1.0\n",
       " 1.3\n",
       " 1.3\n",
       " 1.2\n",
       " 1.1\n",
       " 1.1\n",
       " 1.1\n",
       " 1.2\n",
       " 1.2\n",
       " 1.1\n",
       " 1.2\n",
       " ⋮  \n",
       " 1.0\n",
       " 1.2\n",
       " 1.3\n",
       " 1.3\n",
       " 1.3\n",
       " 1.2\n",
       " 1.3\n",
       " 1.4\n",
       " 1.5\n",
       " 1.2\n",
       " 1.1\n",
       " 1.4"
      ]
     },
     "execution_count": 5,
     "metadata": {},
     "output_type": "execute_result"
    }
   ],
   "source": [
    "# Data import\n",
    "pldata = readdlm(\"mystery_planet.txt\")\n",
    "time_data = pldata[:,1]\n",
    "RV_data = pldata[:,2]\n",
    "err_data = pldata[:,3]"
   ]
  },
  {
   "cell_type": "markdown",
   "metadata": {},
   "source": [
    "### Functions"
   ]
  },
  {
   "cell_type": "code",
   "execution_count": 14,
   "metadata": {
    "collapsed": false
   },
   "outputs": [
    {
     "data": {
      "text/plain": [
       "find_period (generic function with 2 methods)"
      ]
     },
     "execution_count": 14,
     "metadata": {},
     "output_type": "execute_result"
    }
   ],
   "source": [
    "### Define necessary functions ###\n",
    "\n",
    "function find_period(time_data,RV_data,showplots=false)\n",
    "    ### Finds the period of an RV dataset by minimizing sq residuals\n",
    "    # Showplots option allows outputting useful plots instead of period\n",
    "    \n",
    "    # Linear period grid using 100,000 datapoints spanning 1 sec to the window width\n",
    "    period = linspace(1,time_data[end]-time_data[1],100000)\n",
    "    \n",
    "    # Initiate other necessary arrays\n",
    "    sum = Array(Real,length(period))\n",
    "    phase = Array(Real,length(time_data))\n",
    "\n",
    "    # Loop over all period guesses\n",
    "    for (j,P) in enumerate(period)\n",
    "        sum[j] = 0.0\n",
    "  \n",
    "        # Sort by phase given period\n",
    "        phase = mod(time_data,P)\n",
    "        \n",
    "        # Combine phase & RV data\n",
    "        phase_data_arr = [phase RV_data]\n",
    "        \n",
    "        # Sort by phase\n",
    "        phase_sorted = sort(phase_data_arr,1)\n",
    "        \n",
    "        # Sum sq residuals\n",
    "        for i in 2:length(time_data)\n",
    "            sum[j] += (phase_sorted[i,2]-phase_sorted[i-1,2])*(phase_sorted[i,2]-phase_sorted[i-1,2])\n",
    "        end\n",
    "        \n",
    "    end\n",
    "    \n",
    "    min_index=indmin(sum)\n",
    "    min_per=period[min_index]\n",
    "    \n",
    "    # For output of plots describing fit\n",
    "    if(showplots)\n",
    "        P = min_per\n",
    "        sum0 = 0.0\n",
    "        \n",
    "        # Sort by phase, given period\n",
    "        phase = mod(time_data,P)\n",
    "        \n",
    "        # Combine arrays\n",
    "        phase_data_arr = [phase RV_data]\n",
    "        \n",
    "        # Sort by phase\n",
    "        phase_sorted = sortrows(phase_data_arr, by=x->x[1])\n",
    "        \n",
    "        # Sum sq residuals\n",
    "        for i in 2:length(time_data)\n",
    "            sum0 += (phase_sorted[i,2]-phase_sorted[i-1,2])*(phase_sorted[i,2]-phase_sorted[i-1,2])\n",
    "        end\n",
    "        \n",
    "        # Plot sorted data\n",
    "        plot(phase_sorted[:,1],phase_sorted[:,2],\".\")\n",
    "\n",
    "        # Plot residuals\n",
    "        npts = 2000\n",
    "        plot(period[min_index-npts:min_index+npts],log10(sum[min_index-npts:min_index+npts]),\".\")\n",
    "\n",
    "        else min_per\n",
    "    end\n",
    "\n",
    "end\n",
    "\n",
    "# QUICKSORT FOR A traditional row-based array with multiple columns\n",
    "function quicksort2D(a)\n",
    "    \n",
    "    lena = length(a[:,1])\n",
    "    a0 = zeros(Float64,1,lena)\n",
    "    \n",
    "    if(lena < 2)\n",
    "        return a\n",
    "    end\n",
    "    \n",
    "    if(lena == 2)\n",
    "        if(a[1,1] > a[2,1])\n",
    "            a0 = a[1,:]\n",
    "            a[1,:] = a[2,:]\n",
    "            a[2,:] = a0\n",
    "        end\n",
    "        return a\n",
    "    end\n",
    "         \n",
    "    if(lena > 2)\n",
    "        pivot = a[div(lena,2)]\n",
    "        i = 1\n",
    "        j = lena\n",
    "\n",
    "        while(i <= j)\n",
    "            \n",
    "            while(a[i,1] < pivot)\n",
    "                i = i + 1\n",
    "            end\n",
    "            \n",
    "            while(a[j,1] > pivot)\n",
    "                j = j - 1\n",
    "            end\n",
    "\n",
    "            if(i <= j)\n",
    "                a0 = a[i,:]\n",
    "                a[i,:] = a[j,:]\n",
    "                a[j,:] = a0\n",
    "                i = i + 1\n",
    "                j = j - 1\n",
    "            end\n",
    "        end\n",
    "\n",
    "        # Recursively sort each half\n",
    "        a[1:i,:] = quicksort2D(a[1:i,:])\n",
    "        a[i:end,:] = quicksort2D(a[i:end,:]) \n",
    "\n",
    "    end\n",
    "   \n",
    "    return a\n",
    "    \n",
    "end"
   ]
  },
  {
   "cell_type": "code",
   "execution_count": 13,
   "metadata": {
    "collapsed": false
   },
   "outputs": [
    {
     "name": "stdout",
     "output_type": "stream",
     "text": [
      " 17.995211 seconds (180.06 M allocations: 3.414 GB, 10.05% gc time)\n"
     ]
    },
    {
     "data": {
      "image/png": "[encoded data removed]",
      "text/plain": [
       "PyPlot.Figure(PyObject <matplotlib.figure.Figure object at 0x7f0bd1da58d0>)"
      ]
     },
     "metadata": {},
     "output_type": "display_data"
    },
    {
     "data": {
      "text/plain": [
       "1-element Array{Any,1}:\n",
       " PyObject <matplotlib.lines.Line2D object at 0x7f0bd1db56a0>"
      ]
     },
     "execution_count": 13,
     "metadata": {},
     "output_type": "execute_result"
    }
   ],
   "source": [
    "@time find_period(time_data,RV_data,true)"
   ]
  },
  {
   "cell_type": "code",
   "execution_count": 15,
   "metadata": {
    "collapsed": false
   },
   "outputs": [
    {
     "ename": "LoadError",
     "evalue": "LoadError: BoundsError: attempt to access linspace(1.0,2741.36514,100000)\n  at index [-1999:2001]\nwhile loading In[15], in expression starting on line 155",
     "output_type": "error",
     "traceback": [
      "LoadError: BoundsError: attempt to access linspace(1.0,2741.36514,100000)\n  at index [-1999:2001]\nwhile loading In[15], in expression starting on line 155",
      "",
      " in getindex at /home/linc/.julia/v0.4/PyCall/src/PyCall.jl:228",
      " in pysequence_query at /home/linc/.julia/v0.4/PyCall/src/conversions.jl:717",
      " [inlined code] from /home/linc/.julia/v0.4/PyCall/src/conversions.jl:733",
      " in pytype_query at /home/linc/.julia/v0.4/PyCall/src/conversions.jl:762",
      " in convert at /home/linc/.julia/v0.4/PyCall/src/conversions.jl:782",
      " in pycall at /home/linc/.julia/v0.4/PyCall/src/PyCall.jl:363",
      " in call at /home/linc/.julia/v0.4/PyCall/src/PyCall.jl:372",
      " in close_queued_figs at /home/linc/.julia/v0.4/PyPlot/src/PyPlot.jl:401"
     ]
    }
   ],
   "source": [
    "@time find_period(time_data,RV_data,true)"
   ]
  },
  {
   "cell_type": "code",
   "execution_count": null,
   "metadata": {
    "collapsed": true
   },
   "outputs": [],
   "source": []
  }
 ],
 "metadata": {
  "kernelspec": {
   "display_name": "Julia 0.4.5",
   "language": "julia",
   "name": "julia-0.4"
  },
  "language_info": {
   "file_extension": ".jl",
   "mimetype": "application/julia",
   "name": "julia",
   "version": "0.4.5"
  }
 },
 "nbformat": 4,
 "nbformat_minor": 0
}
