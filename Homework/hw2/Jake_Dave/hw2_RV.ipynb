{
 "cells": [
  {
   "cell_type": "code",
   "execution_count": null,
   "metadata": {
    "collapsed": true
   },
   "outputs": [],
   "source": [
    "# Getting started"
   ]
  },
  {
   "cell_type": "code",
   "execution_count": 2,
   "metadata": {
    "collapsed": false
   },
   "outputs": [
    {
     "data": {
      "text/plain": [
       "3-element Array{ByteString,1}:\n",
       " \"/Applications/Julia-0.4.5.app/Contents/Resources/julia/local/share/julia/site/v0.4\"\n",
       " \"/Applications/Julia-0.4.5.app/Contents/Resources/julia/share/julia/site/v0.4\"      \n",
       " \"../../../ExoJulia/\"                                                                "
      ]
     },
     "execution_count": 2,
     "metadata": {},
     "output_type": "execute_result"
    }
   ],
   "source": [
    "push!(LOAD_PATH, \"../../../ExoJulia/\")"
   ]
  },
  {
   "cell_type": "code",
   "execution_count": null,
   "metadata": {
    "collapsed": false
   },
   "outputs": [],
   "source": [
    "Pkg.add(\"LsqFit\")"
   ]
  },
  {
   "cell_type": "code",
   "execution_count": 3,
   "metadata": {
    "collapsed": false
   },
   "outputs": [
    {
     "name": "stderr",
     "output_type": "stream",
     "text": [
      "//anaconda/lib/python2.7/site-packages/matplotlib/font_manager.py:273: UserWarning: Matplotlib is building the font cache using fc-list. This may take a moment.\n",
      "  warnings.warn('Matplotlib is building the font cache using fc-list. This may take a moment.')\n"
     ]
    }
   ],
   "source": [
    "using ExoJulia\n",
    "using PyPlot\n",
    "using LsqFit"
   ]
  },
  {
   "cell_type": "code",
   "execution_count": 373,
   "metadata": {
    "collapsed": false
   },
   "outputs": [
    {
     "data": {
      "text/plain": [
       "agol_periodogram (generic function with 1 method)"
      ]
     },
     "execution_count": 373,
     "metadata": {},
     "output_type": "execute_result"
    }
   ],
   "source": [
    "include(\"utils.jl\")\n",
    "include(\"orbital_utils.jl\")\n",
    "include(\"rv.jl\")"
   ]
  },
  {
   "cell_type": "markdown",
   "metadata": {},
   "source": [
    "### Read-in Mystery RV data"
   ]
  },
  {
   "cell_type": "code",
   "execution_count": 111,
   "metadata": {
    "collapsed": false
   },
   "outputs": [],
   "source": [
    "numbers = readdlm(\"mystery_planet.txt\");"
   ]
  },
  {
   "cell_type": "code",
   "execution_count": 21,
   "metadata": {
    "collapsed": false
   },
   "outputs": [],
   "source": [
    "time = numbers[:,1];\n",
    "rv = numbers[:,2];\n",
    "err = numbers[:,end];"
   ]
  },
  {
   "cell_type": "code",
   "execution_count": 25,
   "metadata": {
    "collapsed": false
   },
   "outputs": [
    {
     "data": {
      "image/png": "[encoded data removed]",
      "text/plain": [
       "PyPlot.Figure(PyObject <matplotlib.figure.Figure object at 0x317685c50>)"
      ]
     },
     "metadata": {},
     "output_type": "display_data"
    },
    {
     "data": {
      "text/plain": [
       "PyObject <matplotlib.text.Text object at 0x320b2ee90>"
      ]
     },
     "execution_count": 25,
     "metadata": {},
     "output_type": "execute_result"
    }
   ],
   "source": [
    "plot(time, rv, \"o\", ms=2.0)\n",
    "xlabel(\"Time\")\n",
    "ylabel(\"RV\")"
   ]
  },
  {
   "cell_type": "markdown",
   "metadata": {},
   "source": [
    "## Period Fitting"
   ]
  },
  {
   "cell_type": "markdown",
   "metadata": {},
   "source": [
    "### Agol Method"
   ]
  },
  {
   "cell_type": "code",
   "execution_count": 32,
   "metadata": {
    "collapsed": false
   },
   "outputs": [
    {
     "data": {
      "text/plain": [
       "linspace(1.0,365.0,1000)"
      ]
     },
     "execution_count": 32,
     "metadata": {},
     "output_type": "execute_result"
    }
   ],
   "source": [
    "periods = linspace(1.0, 365.0, 1000)"
   ]
  },
  {
   "cell_type": "code",
   "execution_count": 33,
   "metadata": {
    "collapsed": false
   },
   "outputs": [],
   "source": [
    "p = collect(periods);"
   ]
  },
  {
   "cell_type": "code",
   "execution_count": 95,
   "metadata": {
    "collapsed": false
   },
   "outputs": [
    {
     "name": "stdout",
     "output_type": "stream",
     "text": [
      "  "
     ]
    },
    {
     "data": {
      "text/plain": [
       "116.50350350350351"
      ]
     },
     "execution_count": 95,
     "metadata": {},
     "output_type": "execute_result"
    },
    {
     "name": "stdout",
     "output_type": "stream",
     "text": [
      "0.009507 seconds (30.01 k allocations: 8.708 MB)\n"
     ]
    }
   ],
   "source": [
    "@time best_period = agol_periodogram(numbers, p)"
   ]
  },
  {
   "cell_type": "markdown",
   "metadata": {},
   "source": [
    "## RV Fitting"
   ]
  },
  {
   "cell_type": "code",
   "execution_count": 144,
   "metadata": {
    "collapsed": false
   },
   "outputs": [],
   "source": [
    "time_fold = numbers[:,1]; \n",
    "RV_fold = numbers[:,2];\n",
    "err_fold = numbers[:,3];"
   ]
  },
  {
   "cell_type": "code",
   "execution_count": 203,
   "metadata": {
    "collapsed": false
   },
   "outputs": [
    {
     "data": {
      "text/plain": [
       "func1 (generic function with 2 methods)"
      ]
     },
     "execution_count": 203,
     "metadata": {},
     "output_type": "execute_result"
    }
   ],
   "source": [
    "function func1(x, p::Vector)\n",
    "    # p = [h,c,v0]\n",
    "    p[1].*cos(x) .+ p[2].*sin(x) .+ p[3]\n",
    "end"
   ]
  },
  {
   "cell_type": "code",
   "execution_count": 287,
   "metadata": {
    "collapsed": false
   },
   "outputs": [
    {
     "data": {
      "text/plain": [
       "func2 (generic function with 2 methods)"
      ]
     },
     "execution_count": 287,
     "metadata": {},
     "output_type": "execute_result"
    }
   ],
   "source": [
    "function func2(x, p::Vector)\n",
    "    # p = [K, w, ecc, gamma]\n",
    "    #x ==  time, but we want dat f\n",
    "    f = zeros(length(x))\n",
    "    for i=1:length(x)\n",
    "        M = mean_anomaly(best_period, x[i], 0.0)\n",
    "        f[i] = f_from_M!(p[3], M)\n",
    "    end \n",
    "    p[1] .* (cos(p[2] .+ f) .+ p[3] .* cos(p[2])) .+ p[4]\n",
    "end"
   ]
  },
  {
   "cell_type": "code",
   "execution_count": 288,
   "metadata": {
    "collapsed": false
   },
   "outputs": [
    {
     "name": "stdout",
     "output_type": "stream",
     "text": [
      "  0.046463 seconds (149.63 k allocations: 7.949 MB, 9.65% gc time)\n"
     ]
    }
   ],
   "source": [
    "@time fit2 = curve_fit(func2, time_fold, RV_fold, 1.0./err_fold.^2, [400.0, 0.0, 0.1, -1000.]);"
   ]
  },
  {
   "cell_type": "code",
   "execution_count": 305,
   "metadata": {
    "collapsed": false
   },
   "outputs": [
    {
     "name": "stdout",
     "output_type": "stream",
     "text": [
      "  0.085335 seconds (4.47 k allocations: 520.608 KB)\n"
     ]
    }
   ],
   "source": [
    "@time fit1 = curve_fit(func1, time_fold, RV_fold, 1.0./err_fold.^2, [100.0, 0.0, 0.0]);"
   ]
  },
  {
   "cell_type": "code",
   "execution_count": 149,
   "metadata": {
    "collapsed": false
   },
   "outputs": [
    {
     "data": {
      "text/plain": [
       "3-element Array{Float64,1}:\n",
       "  -62.2453\n",
       " -111.192 \n",
       "  -29.0617"
      ]
     },
     "execution_count": 149,
     "metadata": {},
     "output_type": "execute_result"
    }
   ],
   "source": [
    "fit1.param"
   ]
  },
  {
   "cell_type": "code",
   "execution_count": 289,
   "metadata": {
    "collapsed": false
   },
   "outputs": [
    {
     "data": {
      "text/plain": [
       "4-element Array{Float64,1}:\n",
       " 289.144   \n",
       "   0.949377\n",
       "  -0.584578\n",
       "  66.4796  "
      ]
     },
     "execution_count": 289,
     "metadata": {},
     "output_type": "execute_result"
    }
   ],
   "source": [
    "fit_params = fit2.param"
   ]
  },
  {
   "cell_type": "code",
   "execution_count": 297,
   "metadata": {
    "collapsed": false
   },
   "outputs": [
    {
     "data": {
      "text/plain": [
       "3-element Array{Float64,1}:\n",
       " 62.5504\n",
       " 71.3523\n",
       " 47.594 "
      ]
     },
     "execution_count": 297,
     "metadata": {},
     "output_type": "execute_result"
    }
   ],
   "source": [
    "estimate_errors(fit1)"
   ]
  },
  {
   "cell_type": "code",
   "execution_count": 138,
   "metadata": {
    "collapsed": false
   },
   "outputs": [
    {
     "data": {
      "text/plain": [
       "4x4 Array{Float64,2}:\n",
       " 1850.73       -0.793031     1.8264e10   -1.5507e12 \n",
       "   -0.793031    0.237385     1.66066e8   -1.40998e10\n",
       "    1.8264e10   1.66066e8    1.38058e19  -1.17218e21\n",
       "   -1.5507e12  -1.40998e10  -1.17218e21   9.95231e22"
      ]
     },
     "execution_count": 138,
     "metadata": {},
     "output_type": "execute_result"
    }
   ],
   "source": [
    "estimate_covar(fit2)"
   ]
  },
  {
   "cell_type": "code",
   "execution_count": 112,
   "metadata": {
    "collapsed": false
   },
   "outputs": [],
   "source": [
    "numbers[:,1] = mod(numbers[:,1] - numbers[1,1], best_period);"
   ]
  },
  {
   "cell_type": "code",
   "execution_count": 113,
   "metadata": {
    "collapsed": false
   },
   "outputs": [],
   "source": [
    "fastsortrows(numbers, [1]);"
   ]
  },
  {
   "cell_type": "code",
   "execution_count": 114,
   "metadata": {
    "collapsed": false
   },
   "outputs": [
    {
     "data": {
      "text/plain": [
       "59x3 Array{Float64,2}:\n",
       "   0.0      -217.7  1.0\n",
       "   0.00068  -221.0  1.0\n",
       "   0.0014   -217.8  1.0\n",
       "  34.8409   -203.3  1.3\n",
       "  34.8416   -204.2  1.3\n",
       "  34.8423   -203.6  1.2\n",
       "  79.797     321.0  1.1\n",
       "  79.7976    318.4  1.1\n",
       "  79.7983    319.2  1.1\n",
       "  80.7911    290.6  1.2\n",
       "  80.7918    291.0  1.2\n",
       "  80.7925    291.7  1.1\n",
       "  88.7764     90.7  1.2\n",
       "   ⋮                   \n",
       "  25.3589   -238.4  1.0\n",
       "  26.3561   -237.0  1.2\n",
       "  50.566    -113.1  1.3\n",
       " 111.346    -177.0  1.3\n",
       " 111.346    -170.0  1.3\n",
       " 111.347    -172.8  1.2\n",
       "  78.6431    379.9  1.3\n",
       "  78.6455    382.7  1.4\n",
       "  78.6487    386.1  1.5\n",
       " 114.841    -185.9  1.2\n",
       " 108.339    -142.7  1.1\n",
       "  61.7846     24.3  1.4"
      ]
     },
     "execution_count": 114,
     "metadata": {},
     "output_type": "execute_result"
    }
   ],
   "source": [
    "numbers"
   ]
  },
  {
   "cell_type": "code",
   "execution_count": 141,
   "metadata": {
    "collapsed": false
   },
   "outputs": [
    {
     "data": {
      "image/png": "[encoded data removed]",
      "text/plain": [
       "PyPlot.Figure(PyObject <matplotlib.figure.Figure object at 0x32c10b8d0>)"
      ]
     },
     "metadata": {},
     "output_type": "display_data"
    },
    {
     "data": {
      "text/plain": [
       "PyObject <matplotlib.text.Text object at 0x32c645c90>"
      ]
     },
     "execution_count": 141,
     "metadata": {},
     "output_type": "execute_result"
    }
   ],
   "source": [
    "plot(numbers[:,1], numbers[:,2], \"o\", ms=2.5)\n",
    "xlabel(\"Days\")\n",
    "ylabel(\"RV\")"
   ]
  },
  {
   "cell_type": "code",
   "execution_count": 292,
   "metadata": {
    "collapsed": false
   },
   "outputs": [],
   "source": [
    "K = fit_params[1];\n",
    "w = fit_params[2];\n",
    "ecc = fit_params[3]; \n",
    "gamma = fit_params[4];"
   ]
  },
  {
   "cell_type": "code",
   "execution_count": 293,
   "metadata": {
    "collapsed": false
   },
   "outputs": [],
   "source": [
    "vrad_fit = zeros(length(time))\n",
    "for i=1:length(time)\n",
    "    M = mean_anaomoly!(best_period, time[i], time[1])\n",
    "    f = f_from_M!(ecc, M)\n",
    "    vrad_fit[i] = v_rad!(K, w, f, ecc, gamma)\n",
    "    \n",
    "end"
   ]
  },
  {
   "cell_type": "code",
   "execution_count": 285,
   "metadata": {
    "collapsed": false
   },
   "outputs": [
    {
     "data": {
      "text/plain": [
       "fit_to_physical (generic function with 1 method)"
      ]
     },
     "execution_count": 285,
     "metadata": {},
     "output_type": "execute_result"
    }
   ],
   "source": [
    "function fit_to_physical(h::Float64,c::Float64,v0::Float64)\n",
    "    w = atan(-c/h)\n",
    "    K = h / cos(w)\n",
    "    \n",
    "end"
   ]
  },
  {
   "cell_type": "code",
   "execution_count": 294,
   "metadata": {
    "collapsed": false
   },
   "outputs": [
    {
     "data": {
      "image/png": "[encoded data removed]",
      "text/plain": [
       "PyPlot.Figure(PyObject <matplotlib.figure.Figure object at 0x330ba8350>)"
      ]
     },
     "metadata": {},
     "output_type": "display_data"
    },
    {
     "data": {
      "text/plain": [
       "PyObject <matplotlib.text.Text object at 0x330e1a210>"
      ]
     },
     "execution_count": 294,
     "metadata": {},
     "output_type": "execute_result"
    }
   ],
   "source": [
    "plot(numbers[:,1], numbers[:,2], \"o\", ms=5)\n",
    "plot(time_fold, vrad_fit, \"o\")\n",
    "xlabel(\"Days\")\n",
    "ylabel(\"RV\")"
   ]
  },
  {
   "cell_type": "code",
   "execution_count": 290,
   "metadata": {
    "collapsed": true
   },
   "outputs": [],
   "source": [
    "using Optim"
   ]
  },
  {
   "cell_type": "code",
   "execution_count": 307,
   "metadata": {
    "collapsed": false
   },
   "outputs": [
    {
     "data": {
      "text/plain": [
       "lnlike (generic function with 1 method)"
      ]
     },
     "execution_count": 307,
     "metadata": {},
     "output_type": "execute_result"
    }
   ],
   "source": [
    "function lnlike(x, p::Vector)\n",
    "    mod = func2(x, p)\n",
    "    ll = 0.0\n",
    "    for i=1:length(rv)\n",
    "        ll -= 0.5 .* (mod .- rv)^2 ./ err.^2\n",
    "    end \n",
    "end "
   ]
  },
  {
   "cell_type": "code",
   "execution_count": 308,
   "metadata": {
    "collapsed": false
   },
   "outputs": [
    {
     "ename": "LoadError",
     "evalue": "LoadError: MethodError: `lnlike` has no method matching lnlike(::Array{Float64,1})\nClosest candidates are:\n  lnlike(::Any, !Matched::Array{T,1})\nwhile loading In[308], in expression starting on line 1",
     "output_type": "error",
     "traceback": [
      "LoadError: MethodError: `lnlike` has no method matching lnlike(::Array{Float64,1})\nClosest candidates are:\n  lnlike(::Any, !Matched::Array{T,1})\nwhile loading In[308], in expression starting on line 1",
      "",
      " in nelder_mead at /Users/Jake/.julia/v0.4/Optim/src/nelder_mead.jl:74",
      " in optimize at /Users/Jake/.julia/v0.4/Optim/src/optimize.jl:482"
     ]
    }
   ],
   "source": [
    "optimize(lnlike, [400.0, 0.0, 0.1, -1000.], autodiff=true)"
   ]
  },
  {
   "cell_type": "markdown",
   "metadata": {},
   "source": [
    "### Trying an MCMC"
   ]
  },
  {
   "cell_type": "code",
   "execution_count": 301,
   "metadata": {
    "collapsed": false
   },
   "outputs": [
    {
     "name": "stderr",
     "output_type": "stream",
     "text": [
      "INFO: Cloning cache of DataStructures from git://github.com/JuliaLang/DataStructures.jl.git\n",
      "INFO: Cloning cache of Formatting from git://github.com/lindahua/Formatting.jl.git\n",
      "INFO: Cloning cache of ForwardDiff from git://github.com/JuliaDiff/ForwardDiff.jl.git\n",
      "INFO: Cloning cache of Graphs from git://github.com/JuliaLang/Graphs.jl.git\n",
      "INFO: Cloning cache of Lora from git://github.com/JuliaStats/Lora.jl.git\n",
      "INFO: Cloning cache of ReverseDiffSource from git://github.com/JuliaDiff/ReverseDiffSource.jl.git\n",
      "INFO: Installing DataStructures v0.4.3\n",
      "INFO: Installing Formatting v0.1.5\n",
      "INFO: Installing ForwardDiff v0.1.6\n",
      "INFO: Installing Graphs v0.6.0\n",
      "INFO: Installing Lora v0.5.2\n",
      "INFO: Installing ReverseDiffSource v0.2.2\n",
      "INFO: Package database updated\n",
      "INFO: METADATA is out-of-date — you may not have the latest version of Lora\n",
      "INFO: Use `Pkg.update()` to get the latest versions of your packages\n"
     ]
    }
   ],
   "source": [
    "Pkg.add(\"Lora\")"
   ]
  },
  {
   "cell_type": "code",
   "execution_count": 302,
   "metadata": {
    "collapsed": false
   },
   "outputs": [
    {
     "name": "stderr",
     "output_type": "stream",
     "text": [
      "INFO: Precompiling module DataStructures...\n",
      "INFO: Precompiling module ForwardDiff...\n"
     ]
    }
   ],
   "source": [
    "using Lora"
   ]
  },
  {
   "cell_type": "code",
   "execution_count": null,
   "metadata": {
    "collapsed": true
   },
   "outputs": [],
   "source": []
  },
  {
   "cell_type": "markdown",
   "metadata": {},
   "source": [
    "### Matrix Approach"
   ]
  },
  {
   "cell_type": "code",
   "execution_count": 361,
   "metadata": {
    "collapsed": false
   },
   "outputs": [
    {
     "data": {
      "text/plain": [
       "WH_W (generic function with 1 method)"
      ]
     },
     "execution_count": 361,
     "metadata": {},
     "output_type": "execute_result"
    }
   ],
   "source": [
    "function WH_W(err::Array{Float64,1})\n",
    "    # Compose Wright & Howard W matrix\n",
    "    W = zeros(Float64,length(err), length(err))\n",
    "    for i=1:length(err)\n",
    "        W[i,i] = 1./err[i]^2\n",
    "    end \n",
    "    return W\n",
    "end "
   ]
  },
  {
   "cell_type": "code",
   "execution_count": 358,
   "metadata": {
    "collapsed": false
   },
   "outputs": [
    {
     "name": "stdout",
     "output_type": "stream",
     "text": [
      "  0.006121 seconds (2.75 k allocations: 163.008 KB)\n"
     ]
    }
   ],
   "source": [
    "@time W = WH_W(err);"
   ]
  },
  {
   "cell_type": "code",
   "execution_count": 343,
   "metadata": {
    "collapsed": false
   },
   "outputs": [
    {
     "data": {
      "text/plain": [
       "f_from_t (generic function with 1 method)"
      ]
     },
     "execution_count": 343,
     "metadata": {},
     "output_type": "execute_result"
    }
   ],
   "source": [
    "function f_from_t(P::Float64, ecc::Float64, t::Float64, tp::Float64)\n",
    "    f_from_M(ecc, mean_anomaly(P, t, tp))\n",
    "end "
   ]
  },
  {
   "cell_type": "code",
   "execution_count": 360,
   "metadata": {
    "collapsed": false
   },
   "outputs": [
    {
     "data": {
      "text/plain": [
       "WH_F (generic function with 2 methods)"
      ]
     },
     "execution_count": 360,
     "metadata": {},
     "output_type": "execute_result"
    }
   ],
   "source": [
    "function WH_F(P::Float64, ecc::Float64, t::Array{Float64, 1}, tp::Float64; Nplanets::Int=1)\n",
    "    # Compute Wright & Howard F matrix\n",
    "    \n",
    "    # Allocate matrix\n",
    "    F = zeros(Float64, (2*Nplanets+2), length(t))\n",
    "    \n",
    "    # Fill matrix\n",
    "    for i=1:Nplanets\n",
    "        for j=1:length(t)\n",
    "            f = f_from_t(P, ecc, t[j], tp)\n",
    "            F[2*i - 1,j] = cos(f)\n",
    "            F[2*i, j] = sin(f)\n",
    "        end \n",
    "    end \n",
    "    \n",
    "    # \n",
    "    for j=1:length(t)\n",
    "        F[end-1, j] = 1.0\n",
    "        F[end, j] = t[j] - t[1]\n",
    "    end \n",
    "    return F\n",
    "end"
   ]
  },
  {
   "cell_type": "code",
   "execution_count": 348,
   "metadata": {
    "collapsed": false
   },
   "outputs": [
    {
     "data": {
      "text/plain": [
       "4x59 Array{Float64,2}:\n",
       "  0.96572    0.965716   0.965711   -0.210093  …     0.998194     -0.0971979\n",
       " -0.259586  -0.259603  -0.25962    -0.977681       -0.0600714     0.995265 \n",
       "  1.0        1.0        1.0         1.0             1.0           1.0      \n",
       "  0.0        0.00068    0.0014    151.344        2554.91       2741.37     "
      ]
     },
     "execution_count": 348,
     "metadata": {},
     "output_type": "execute_result"
    }
   ],
   "source": [
    "F = WH_F(best_period, 0.1, time, 1.0)"
   ]
  },
  {
   "cell_type": "code",
   "execution_count": 354,
   "metadata": {
    "collapsed": false
   },
   "outputs": [
    {
     "data": {
      "text/plain": [
       "WH_eps (generic function with 1 method)"
      ]
     },
     "execution_count": 354,
     "metadata": {},
     "output_type": "execute_result"
    }
   ],
   "source": [
    "function WH_eps(F::Array{Float64, 2}, W::Array{Float64, 2})\n",
    "    # Compute Wright & Howard epsilon matrix\n",
    "    return inv(F * W * (F'))\n",
    "end "
   ]
  },
  {
   "cell_type": "code",
   "execution_count": 359,
   "metadata": {
    "collapsed": false
   },
   "outputs": [
    {
     "data": {
      "text/plain": [
       "4x4 Array{Float64,2}:\n",
       "  0.0857657     0.000335324  -0.0542203    8.1863e-6 \n",
       "  0.000335324   0.0628552    -0.00516512  -2.22184e-6\n",
       " -0.0542203    -0.00516512    0.115636    -5.73326e-5\n",
       "  8.1863e-6    -2.22184e-6   -5.73326e-5   5.01336e-8"
      ]
     },
     "execution_count": 359,
     "metadata": {},
     "output_type": "execute_result"
    }
   ],
   "source": [
    "WH_eps(F, W)"
   ]
  },
  {
   "cell_type": "code",
   "execution_count": 371,
   "metadata": {
    "collapsed": false
   },
   "outputs": [
    {
     "data": {
      "text/plain": [
       "WH_Beta (generic function with 2 methods)"
      ]
     },
     "execution_count": 371,
     "metadata": {},
     "output_type": "execute_result"
    }
   ],
   "source": [
    "function WH_Beta(RV::Array{Float64, 2}, F::Array{Float64, 2}, W::Array{Float64, 2})\n",
    "    # Compute Wright & Howard Beta vector\n",
    "    return RV * W * (F') * WH_eps(F, W)\n",
    "end "
   ]
  },
  {
   "cell_type": "code",
   "execution_count": 370,
   "metadata": {
    "collapsed": false
   },
   "outputs": [
    {
     "data": {
      "text/plain": [
       "1x4 Array{Float64,2}:\n",
       " 9.83097  297.156  -31.8704  -0.0164657"
      ]
     },
     "execution_count": 370,
     "metadata": {},
     "output_type": "execute_result"
    }
   ],
   "source": [
    "B = WH_Beta(rv', F, W)"
   ]
  },
  {
   "cell_type": "code",
   "execution_count": 382,
   "metadata": {
    "collapsed": false
   },
   "outputs": [
    {
     "data": {
      "text/plain": [
       "rv_forward (generic function with 1 method)"
      ]
     },
     "execution_count": 382,
     "metadata": {},
     "output_type": "execute_result"
    }
   ],
   "source": [
    "function rv_forward(P::Float64, ecc::Float64, tp::Float64, t::Array{Float64,1}, rv::Array{Float64,1}, err::Array{Float64,1}; Nplanets::Int=1)\n",
    "    # Calculates model RV given linear params: [h, c, v0, d, tp]\n",
    "    \n",
    "    # Allocate \n",
    "    rv_mod = zeros(Float64, Nplanets, length(t))\n",
    "    \n",
    "    # Calculate Wright & Howard Beta Vector, B = [h_i, c_i, ..., h_n, c_n, v0, d] for n planets\n",
    "    B = WH_Beta(rv', WH_F(P, ecc, t, tp), WH_W(err))\n",
    "    \n",
    "    # Loop over planets and observations, calculating model rv points\n",
    "    for i=1:Nplanets\n",
    "        for j=1:length(t)\n",
    "            f = f_from_t(P, ecc, t[j], tp)\n",
    "            rv_mod[i,j] = v_rad_lin(B[i,1], f, B[i,2], B[i,end-1], t[j], t[1], B[i,end])\n",
    "        end \n",
    "    end \n",
    "    \n",
    "    return rv_mod, B\n",
    "end "
   ]
  },
  {
   "cell_type": "code",
   "execution_count": 380,
   "metadata": {
    "collapsed": false
   },
   "outputs": [
    {
     "data": {
      "text/plain": [
       "loglike (generic function with 1 method)"
      ]
     },
     "execution_count": 380,
     "metadata": {},
     "output_type": "execute_result"
    }
   ],
   "source": [
    "function loglike(data, model, err)\n",
    "    # Chi^2\n",
    "    ll = 0.0;\n",
    "    for i=1:length(data)\n",
    "        ll -= 0.5 * (data[i] - model[i])^2 / (err[i])^2;\n",
    "    end\n",
    "    return ll\n",
    "end "
   ]
  },
  {
   "cell_type": "code",
   "execution_count": 397,
   "metadata": {
    "collapsed": false
   },
   "outputs": [],
   "source": [
    "ecc = linspace(0.0, 0.99, 1000);\n",
    "tp = linspace(time[1], time[end], 1000);\n",
    "period = best_period;\n",
    "\n",
    "ll_min = -1.0e20;\n",
    "B_best = nothing;\n",
    "ecc_best = nothing;\n",
    "tp_best = nothing;\n",
    "rv_best = nothing;\n",
    "for i=1:length(eccentricity)\n",
    "    for j=1:length(tp)\n",
    "        rv_mod, B = rv_forward(period, ecc[i], tp[j], time, rv, err);\n",
    "        ll = loglike(rv, rv_mod, err);\n",
    "        if ll > ll_min\n",
    "            B_best = B;\n",
    "            ll_min = ll;\n",
    "            ecc_best = ecc[i];\n",
    "            tp_best = tp[j];\n",
    "            rv_best = rv_mod;\n",
    "        end \n",
    "    end \n",
    "end         "
   ]
  },
  {
   "cell_type": "code",
   "execution_count": 398,
   "metadata": {
    "collapsed": false
   },
   "outputs": [
    {
     "data": {
      "text/plain": [
       "0.0981081081081081"
      ]
     },
     "execution_count": 398,
     "metadata": {},
     "output_type": "execute_result"
    }
   ],
   "source": [
    "ecc_best"
   ]
  },
  {
   "cell_type": "code",
   "execution_count": 399,
   "metadata": {
    "collapsed": false
   },
   "outputs": [
    {
     "data": {
      "text/plain": [
       "14125.909607447446"
      ]
     },
     "execution_count": 399,
     "metadata": {},
     "output_type": "execute_result"
    }
   ],
   "source": [
    "tp_best"
   ]
  },
  {
   "cell_type": "code",
   "execution_count": 400,
   "metadata": {
    "collapsed": false
   },
   "outputs": [
    {
     "data": {
      "text/plain": [
       "-4080.5133795929896"
      ]
     },
     "execution_count": 400,
     "metadata": {},
     "output_type": "execute_result"
    }
   ],
   "source": [
    "ll_min"
   ]
  },
  {
   "cell_type": "code",
   "execution_count": 401,
   "metadata": {
    "collapsed": false
   },
   "outputs": [
    {
     "data": {
      "text/plain": [
       "1x4 Array{Float64,2}:\n",
       " -298.998  9.82652  48.6263  0.00940732"
      ]
     },
     "execution_count": 401,
     "metadata": {},
     "output_type": "execute_result"
    }
   ],
   "source": [
    "B_best"
   ]
  },
  {
   "cell_type": "code",
   "execution_count": 402,
   "metadata": {
    "collapsed": false
   },
   "outputs": [
    {
     "data": {
      "image/png": "[encoded data removed]",
      "text/plain": [
       "PyPlot.Figure(PyObject <matplotlib.figure.Figure object at 0x33270d890>)"
      ]
     },
     "metadata": {},
     "output_type": "display_data"
    },
    {
     "data": {
      "text/plain": [
       "PyObject <matplotlib.text.Text object at 0x332cfa950>"
      ]
     },
     "execution_count": 402,
     "metadata": {},
     "output_type": "execute_result"
    }
   ],
   "source": [
    "plot(time_fold, rv_best', \"o\", ms=5)\n",
    "plot(time_fold, rv, \"o\")\n",
    "xlabel(\"Days\")\n",
    "ylabel(\"RV\")"
   ]
  },
  {
   "cell_type": "code",
   "execution_count": 394,
   "metadata": {
    "collapsed": false
   },
   "outputs": [
    {
     "data": {
      "text/plain": [
       "59x1 Array{Float64,2}:\n",
       " -212.315 \n",
       " -212.318 \n",
       " -212.32  \n",
       " -219.742 \n",
       " -219.74  \n",
       " -219.738 \n",
       "  320.679 \n",
       "  320.667 \n",
       "  320.655 \n",
       "  300.805 \n",
       "  300.79  \n",
       "  300.774 \n",
       "   99.9778\n",
       "    ⋮     \n",
       " -225.809 \n",
       " -224.673 \n",
       " -107.519 \n",
       " -175.134 \n",
       " -175.137 \n",
       " -175.14  \n",
       "  354.405 \n",
       "  354.372 \n",
       "  354.325 \n",
       " -188.433 \n",
       " -152.146 \n",
       "   92.0869"
      ]
     },
     "execution_count": 394,
     "metadata": {},
     "output_type": "execute_result"
    }
   ],
   "source": [
    "rv_best'"
   ]
  },
  {
   "cell_type": "code",
   "execution_count": null,
   "metadata": {
    "collapsed": true
   },
   "outputs": [],
   "source": []
  }
 ],
 "metadata": {
  "kernelspec": {
   "display_name": "Julia 0.4.5",
   "language": "julia",
   "name": "julia-0.4"
  },
  "language_info": {
   "file_extension": ".jl",
   "mimetype": "application/julia",
   "name": "julia",
   "version": "0.4.5"
  }
 },
 "nbformat": 4,
 "nbformat_minor": 0
}
