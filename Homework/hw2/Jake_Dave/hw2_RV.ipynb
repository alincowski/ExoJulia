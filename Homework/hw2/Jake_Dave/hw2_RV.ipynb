{
 "cells": [
  {
   "cell_type": "code",
   "execution_count": null,
   "metadata": {
    "collapsed": true
   },
   "outputs": [],
   "source": [
    "# Getting started"
   ]
  },
  {
   "cell_type": "code",
   "execution_count": 1,
   "metadata": {
    "collapsed": false
   },
   "outputs": [
    {
     "data": {
      "text/plain": [
       "3-element Array{ByteString,1}:\n",
       " \"/Applications/Julia-0.4.5.app/Contents/Resources/julia/local/share/julia/site/v0.4\"\n",
       " \"/Applications/Julia-0.4.5.app/Contents/Resources/julia/share/julia/site/v0.4\"      \n",
       " \"../../../ExoJulia/\"                                                                "
      ]
     },
     "execution_count": 1,
     "metadata": {},
     "output_type": "execute_result"
    }
   ],
   "source": [
    "push!(LOAD_PATH, \"../../../ExoJulia/\")"
   ]
  },
  {
   "cell_type": "code",
   "execution_count": null,
   "metadata": {
    "collapsed": false
   },
   "outputs": [],
   "source": [
    "Pkg.add(\"LsqFit\")"
   ]
  },
  {
   "cell_type": "code",
   "execution_count": 2,
   "metadata": {
    "collapsed": false
   },
   "outputs": [
    {
     "name": "stderr",
     "output_type": "stream",
     "text": [
      "//anaconda/lib/python2.7/site-packages/matplotlib/font_manager.py:273: UserWarning: Matplotlib is building the font cache using fc-list. This may take a moment.\n",
      "  warnings.warn('Matplotlib is building the font cache using fc-list. This may take a moment.')\n"
     ]
    }
   ],
   "source": [
    "using ExoJulia\n",
    "using PyPlot\n",
    "using LsqFit"
   ]
  },
  {
   "cell_type": "code",
   "execution_count": 3,
   "metadata": {
    "collapsed": false
   },
   "outputs": [
    {
     "data": {
      "text/plain": [
       "agol_periodogram (generic function with 1 method)"
      ]
     },
     "execution_count": 3,
     "metadata": {},
     "output_type": "execute_result"
    }
   ],
   "source": [
    "include(\"utils.jl\")\n",
    "include(\"orbital_utils.jl\")\n",
    "include(\"rv.jl\")"
   ]
  },
  {
   "cell_type": "markdown",
   "metadata": {},
   "source": [
    "### Read-in Mystery RV data"
   ]
  },
  {
   "cell_type": "code",
   "execution_count": null,
   "metadata": {
    "collapsed": false
   },
   "outputs": [],
   "source": [
    "numbers = readdlm(\"mystery_planet.txt\");"
   ]
  },
  {
   "cell_type": "code",
   "execution_count": null,
   "metadata": {
    "collapsed": false
   },
   "outputs": [],
   "source": [
    "time = numbers[:,1];\n",
    "rv = numbers[:,2];\n",
    "err = numbers[:,end];"
   ]
  },
  {
   "cell_type": "code",
   "execution_count": null,
   "metadata": {
    "collapsed": false
   },
   "outputs": [],
   "source": [
    "plot(time, rv, \"o\", ms=2.0)\n",
    "xlabel(\"Time\")\n",
    "ylabel(\"RV\")"
   ]
  },
  {
   "cell_type": "markdown",
   "metadata": {},
   "source": [
    "## Period Fitting"
   ]
  },
  {
   "cell_type": "markdown",
   "metadata": {},
   "source": [
    "### Agol Method"
   ]
  },
  {
   "cell_type": "code",
   "execution_count": null,
   "metadata": {
    "collapsed": false
   },
   "outputs": [],
   "source": [
    "periods = linspace(1.0, 365.0, 1000)"
   ]
  },
  {
   "cell_type": "code",
   "execution_count": null,
   "metadata": {
    "collapsed": false
   },
   "outputs": [],
   "source": [
    "p = collect(periods);"
   ]
  },
  {
   "cell_type": "code",
   "execution_count": null,
   "metadata": {
    "collapsed": false
   },
   "outputs": [],
   "source": [
    "@time best_period = agol_periodogram(numbers, p)\n",
    "# [time rv err]"
   ]
  },
  {
   "cell_type": "markdown",
   "metadata": {},
   "source": [
    "## RV Fitting"
   ]
  },
  {
   "cell_type": "markdown",
   "metadata": {},
   "source": [
    "### Matrix Approach"
   ]
  },
  {
   "cell_type": "code",
   "execution_count": null,
   "metadata": {
    "collapsed": true
   },
   "outputs": [],
   "source": [
    "using Optim"
   ]
  },
  {
   "cell_type": "code",
   "execution_count": 4,
   "metadata": {
    "collapsed": false
   },
   "outputs": [
    {
     "data": {
      "text/plain": [
       "WH_W (generic function with 1 method)"
      ]
     },
     "execution_count": 4,
     "metadata": {},
     "output_type": "execute_result"
    }
   ],
   "source": [
    "function WH_W(err::Array{Float64,1})\n",
    "    # Compose Wright & Howard  matrix\n",
    "    W = zeros(Float64,length(err), length(err))\n",
    "    for i=1:length(err)\n",
    "        W[i,i] = 1./err[i]^2\n",
    "    end \n",
    "    return W\n",
    "end "
   ]
  },
  {
   "cell_type": "code",
   "execution_count": null,
   "metadata": {
    "collapsed": false
   },
   "outputs": [],
   "source": [
    "@time W = WH_W(err);"
   ]
  },
  {
   "cell_type": "code",
   "execution_count": 5,
   "metadata": {
    "collapsed": false
   },
   "outputs": [
    {
     "data": {
      "text/plain": [
       "f_from_t (generic function with 1 method)"
      ]
     },
     "execution_count": 5,
     "metadata": {},
     "output_type": "execute_result"
    }
   ],
   "source": [
    "function f_from_t(P::Float64, ecc::Float64, t::Float64, tp::Float64)\n",
    "    f_from_M(ecc, mean_anomaly(P, t, tp))\n",
    "end "
   ]
  },
  {
   "cell_type": "code",
   "execution_count": 6,
   "metadata": {
    "collapsed": false
   },
   "outputs": [
    {
     "data": {
      "text/plain": [
       "WH_F (generic function with 1 method)"
      ]
     },
     "execution_count": 6,
     "metadata": {},
     "output_type": "execute_result"
    }
   ],
   "source": [
    "function WH_F(P::Float64, ecc::Float64, t::Array{Float64, 1}, tp::Float64; Nplanets::Int=1)\n",
    "    # Compute Wright & Howard F matrix\n",
    "    \n",
    "    # Allocate matrix\n",
    "    F = zeros(Float64, (2*Nplanets+2), length(t))\n",
    "    \n",
    "    # Fill matrix\n",
    "    for i=1:Nplanets\n",
    "        for j=1:length(t)\n",
    "            f = f_from_t(P, ecc, t[j], tp)\n",
    "            F[2*i - 1,j] = cos(f)\n",
    "            F[2*i, j] = sin(f)\n",
    "        end \n",
    "    end \n",
    "    \n",
    "    # \n",
    "    for j=1:length(t)\n",
    "        F[end-1, j] = 1.0\n",
    "        F[end, j] = t[j] - t[1]\n",
    "    end \n",
    "    return F\n",
    "end"
   ]
  },
  {
   "cell_type": "code",
   "execution_count": null,
   "metadata": {
    "collapsed": false
   },
   "outputs": [],
   "source": [
    "F = WH_F(best_period, 0.1, time, 1.0)"
   ]
  },
  {
   "cell_type": "code",
   "execution_count": 7,
   "metadata": {
    "collapsed": false
   },
   "outputs": [
    {
     "data": {
      "text/plain": [
       "WH_eps (generic function with 1 method)"
      ]
     },
     "execution_count": 7,
     "metadata": {},
     "output_type": "execute_result"
    }
   ],
   "source": [
    "function WH_eps(F::Array{Float64, 2}, W::Array{Float64, 2})\n",
    "    # Compute Wright & Howard epsilon matrix\n",
    "    return inv(F * W * (F'))\n",
    "end "
   ]
  },
  {
   "cell_type": "code",
   "execution_count": null,
   "metadata": {
    "collapsed": false
   },
   "outputs": [],
   "source": [
    "WH_eps(F, W)"
   ]
  },
  {
   "cell_type": "code",
   "execution_count": 8,
   "metadata": {
    "collapsed": false
   },
   "outputs": [
    {
     "data": {
      "text/plain": [
       "WH_Beta (generic function with 1 method)"
      ]
     },
     "execution_count": 8,
     "metadata": {},
     "output_type": "execute_result"
    }
   ],
   "source": [
    "function WH_Beta(RV::Array{Float64, 2}, F::Array{Float64, 2}, W::Array{Float64, 2})\n",
    "    # Compute Wright & Howard Beta vector\n",
    "    return RV * W * (F') * WH_eps(F, W)\n",
    "end "
   ]
  },
  {
   "cell_type": "code",
   "execution_count": null,
   "metadata": {
    "collapsed": false
   },
   "outputs": [],
   "source": [
    "B = WH_Beta(rv', F, W)"
   ]
  },
  {
   "cell_type": "code",
   "execution_count": 9,
   "metadata": {
    "collapsed": false
   },
   "outputs": [
    {
     "data": {
      "text/plain": [
       "rv_forward (generic function with 1 method)"
      ]
     },
     "execution_count": 9,
     "metadata": {},
     "output_type": "execute_result"
    }
   ],
   "source": [
    "function rv_forward(P::Float64, ecc::Float64, tp::Float64, t::Array{Float64,1}, rv::Array{Float64,1}, err::Array{Float64,1}; Nplanets::Int=1)\n",
    "    # Calculates model RV given linear params: [h, c, v0, d, tp]\n",
    "    \n",
    "    # Allocate \n",
    "    rv_mod = zeros(Float64, Nplanets, length(t))\n",
    "    \n",
    "    # Calculate Wright & Howard Beta Vector, B = [h_i, c_i, ..., h_n, c_n, v0, d] for n planets\n",
    "    B = WH_Beta(rv', WH_F(P, ecc, t, tp), WH_W(err))\n",
    "    \n",
    "    # Loop over planets and observations, calculating model rv points\n",
    "    for i=1:Nplanets\n",
    "        for j=1:length(t)\n",
    "            f = f_from_t(P, ecc, t[j], tp)\n",
    "            rv_mod[i,j] = v_rad_lin(B[i,1], f, B[i,2], B[i,end-1], t[j], t[1], B[i,end])\n",
    "        end \n",
    "    end \n",
    "    \n",
    "    return rv_mod, B\n",
    "end "
   ]
  },
  {
   "cell_type": "code",
   "execution_count": 10,
   "metadata": {
    "collapsed": false
   },
   "outputs": [
    {
     "data": {
      "text/plain": [
       "loglike (generic function with 1 method)"
      ]
     },
     "execution_count": 10,
     "metadata": {},
     "output_type": "execute_result"
    }
   ],
   "source": [
    "function loglike(data, model, err)\n",
    "    # Chi^2\n",
    "    ll = 0.0;\n",
    "    for i=1:length(data)\n",
    "        ll -= 0.5 * (data[i] - model[i])^2 / (err[i])^2;\n",
    "    end\n",
    "    return ll\n",
    "end "
   ]
  },
  {
   "cell_type": "markdown",
   "metadata": {},
   "source": [
    "### Grid-search"
   ]
  },
  {
   "cell_type": "code",
   "execution_count": null,
   "metadata": {
    "collapsed": false
   },
   "outputs": [],
   "source": [
    "ecc = linspace(0.0, 0.99, 1000);\n",
    "tp = linspace(time[1], time[end], 1000);\n",
    "period = best_period;\n",
    "\n",
    "ll_min = -1.0e20;\n",
    "B_best = nothing;\n",
    "ecc_best = nothing;\n",
    "tp_best = nothing;\n",
    "rv_best = nothing;\n",
    "for i=1:length(ecc)\n",
    "    for j=1:length(tp)\n",
    "        rv_mod, B = rv_forward(period, ecc[i], tp[j], time, rv, err);\n",
    "        ll = loglike(rv, rv_mod, err);\n",
    "        if ll > ll_min\n",
    "            B_best = B;\n",
    "            ll_min = ll;\n",
    "            ecc_best = ecc[i];\n",
    "            tp_best = tp[j];\n",
    "            rv_best = rv_mod;\n",
    "        end \n",
    "    end \n",
    "end         "
   ]
  },
  {
   "cell_type": "code",
   "execution_count": null,
   "metadata": {
    "collapsed": false
   },
   "outputs": [],
   "source": [
    "ecc_best"
   ]
  },
  {
   "cell_type": "code",
   "execution_count": null,
   "metadata": {
    "collapsed": false
   },
   "outputs": [],
   "source": [
    "function rv_grid(rv_data, time, err; N::Int=1000)    \n",
    "    ecc = linspace(0.0, 0.99, N);\n",
    "    tp = linspace(time[1], time[end], N);\n",
    "    period = best_period;\n",
    "\n",
    "    ll_min = -1.0e20;\n",
    "    B_best = nothing;\n",
    "    ecc_best = nothing;\n",
    "    tp_best = nothing;\n",
    "    rv_best = nothing;\n",
    "    for i=1:length(eccentricity)\n",
    "        for j=1:length(tp)\n",
    "            rv_mod, B = rv_forward(period, ecc[i], tp[j], time, rv, err);\n",
    "            ll = loglike(rv, rv_mod, err);\n",
    "            if ll > ll_min\n",
    "                B_best = B;\n",
    "                ll_min = ll;\n",
    "                ecc_best = ecc[i];\n",
    "                tp_best = tp[j];\n",
    "                rv_best = rv_mod;\n",
    "            end \n",
    "        end \n",
    "    end \n",
    "    \n",
    "end "
   ]
  },
  {
   "cell_type": "code",
   "execution_count": null,
   "metadata": {
    "collapsed": false
   },
   "outputs": [],
   "source": [
    "plot(time_fold, rv_best', \"o\", ms=5)\n",
    "plot(time_fold, rv, \"o\")\n",
    "xlabel(\"Days\")\n",
    "ylabel(\"RV\")"
   ]
  },
  {
   "cell_type": "code",
   "execution_count": 11,
   "metadata": {
    "collapsed": false
   },
   "outputs": [
    {
     "data": {
      "text/plain": [
       "rv_loglike (generic function with 1 method)"
      ]
     },
     "execution_count": 11,
     "metadata": {},
     "output_type": "execute_result"
    }
   ],
   "source": [
    "function rv_loglike(rho)\n",
    "    #rho = [period, ecc, tp]\n",
    "    \n",
    "    # hard bounds\n",
    "    if rho[1] < 0.0\n",
    "        return Inf\n",
    "    end \n",
    "    if rho[2] >= 1.0\n",
    "        return Inf\n",
    "    end \n",
    "    if rho[2] < 0.0 \n",
    "        return Inf\n",
    "    end\n",
    "    \n",
    "    # call forward model \n",
    "    model, B = rv_forward(rho[1], rho[2], rho[3], time, rv, err);\n",
    "    \n",
    "    # Chi^2\n",
    "    return -loglike(rv, model, err);\n",
    "end "
   ]
  },
  {
   "cell_type": "markdown",
   "metadata": {},
   "source": [
    "### Optim `optimize`"
   ]
  },
  {
   "cell_type": "code",
   "execution_count": 12,
   "metadata": {
    "collapsed": true
   },
   "outputs": [],
   "source": [
    "using Optim"
   ]
  },
  {
   "cell_type": "code",
   "execution_count": null,
   "metadata": {
    "collapsed": false
   },
   "outputs": [],
   "source": [
    "p0 = [best_period, 0.0, mean(time)];\n",
    "@time optimum = optimize(rv_loglike, p0, autodiff=true)"
   ]
  },
  {
   "cell_type": "code",
   "execution_count": null,
   "metadata": {
    "collapsed": false
   },
   "outputs": [],
   "source": [
    "MLE = optimum.minimum"
   ]
  },
  {
   "cell_type": "markdown",
   "metadata": {},
   "source": [
    "### `curve_fit()`"
   ]
  },
  {
   "cell_type": "code",
   "execution_count": null,
   "metadata": {
    "collapsed": true
   },
   "outputs": [],
   "source": [
    "numbers = readdlm(\"mystery_planet.txt\");"
   ]
  },
  {
   "cell_type": "code",
   "execution_count": 13,
   "metadata": {
    "collapsed": false
   },
   "outputs": [
    {
     "data": {
      "text/plain": [
       "rv_curve_forward (generic function with 1 method)"
      ]
     },
     "execution_count": 13,
     "metadata": {},
     "output_type": "execute_result"
    }
   ],
   "source": [
    "function rv_curve_forward(t, p::Vector)\n",
    "        \n",
    "    # call forward model \n",
    "    model, B = rv_forward(p[1], p[2], p[3], t, rv, err);\n",
    "        \n",
    "    return reshape(model, length(model))\n",
    "    \n",
    "end"
   ]
  },
  {
   "cell_type": "code",
   "execution_count": null,
   "metadata": {
    "collapsed": false
   },
   "outputs": [],
   "source": [
    "p0 = [best_period, 0.0, mean(time)];\n",
    "@time fit3 = curve_fit(rv_curve_forward, time, rv, 1.0./err.^2, [best_period, 0.0, mean(time)]);"
   ]
  },
  {
   "cell_type": "code",
   "execution_count": null,
   "metadata": {
    "collapsed": false
   },
   "outputs": [],
   "source": [
    "fit3.param"
   ]
  },
  {
   "cell_type": "code",
   "execution_count": 14,
   "metadata": {
    "collapsed": false
   },
   "outputs": [
    {
     "data": {
      "text/plain": [
       "solve_rv (generic function with 1 method)"
      ]
     },
     "execution_count": 14,
     "metadata": {},
     "output_type": "execute_result"
    }
   ],
   "source": [
    "function solve_rv(data::Array{Float64, 2}; p0=[nothing, nothing, nothing], alg::AbstractString=\"cf\")\n",
    "    \"\"\" This function takes a 2D (Nx3) array of RV data, where N is the number of data points with columns\n",
    "    of time, RV, and error, and returns the best fitting period, eccentricity, and time of periastron.\n",
    "    \n",
    "    p0 = [period, ecc, tp]\n",
    "    \"\"\"\n",
    "    \n",
    "    # Unpack RV data (make global?)\n",
    "    time = data[:,1];\n",
    "    rv = data[:,2];\n",
    "    err = data[:,end];\n",
    "    \n",
    "    # Set initial parameters if not specified\n",
    "    p = [0.0, 0.0, 0.0]\n",
    "    if p0[1] == nothing\n",
    "        # Use Agol Periodogram for initial period guess\n",
    "        periods = collect(linspace(minimum(time[2:end] - time[1:end-1]), time[end]-time[1], 10000))\n",
    "        p[1] = agol_periodogram(numbers, periods)\n",
    "    else\n",
    "        p[1] = p0[1]\n",
    "    end \n",
    "    if p0[2] == nothing\n",
    "        # Use random ecc [0,1) for initial guess\n",
    "        p[2] = rand()\n",
    "    else\n",
    "        p[2] = p0[2]\n",
    "    end \n",
    "    if p0[3] == nothing\n",
    "        # Use random time drawn from observed grid\n",
    "        p[3] = rand(time)\n",
    "    else\n",
    "        p[3] = p0[3]\n",
    "    end\n",
    "    \n",
    "    # Run solver using either curve_fit() or optimize()\n",
    "    if alg == \"cf\"\n",
    "        # Use curve_fit() to fit \n",
    "        fit = curve_fit(rv_curve_forward, time, rv, 1.0./err.^2, p);\n",
    "        pbest = fit.param\n",
    "    elseif alg == \"opt\"\n",
    "        # Use optimize to fit\n",
    "        optimum = optimize(rv_loglike, p0, autodiff=true)\n",
    "        pbest = optimum.minimum\n",
    "    else\n",
    "        print(\"Choose alg = 'cf' or 'opt'\")\n",
    "        return \n",
    "    end \n",
    "    \n",
    "    return pbest   \n",
    "end "
   ]
  },
  {
   "cell_type": "code",
   "execution_count": 21,
   "metadata": {
    "collapsed": false
   },
   "outputs": [],
   "source": [
    "numbers = readdlm(\"mystery_planet.txt\");\n",
    "time = numbers[:,1];\n",
    "rv = numbers[:,2];\n",
    "err = numbers[:,end];"
   ]
  },
  {
   "cell_type": "code",
   "execution_count": 24,
   "metadata": {
    "collapsed": false
   },
   "outputs": [
    {
     "name": "stdout",
     "output_type": "stream",
     "text": [
      "  "
     ]
    },
    {
     "data": {
      "text/plain": [
       "3-element Array{Float64,1}:\n",
       "   116.682   \n",
       "     0.399921\n",
       " 15058.2     "
      ]
     },
     "execution_count": 24,
     "metadata": {},
     "output_type": "execute_result"
    },
    {
     "name": "stdout",
     "output_type": "stream",
     "text": [
      "0.007656 seconds (4.30 k allocations: 3.171 MB)\n"
     ]
    }
   ],
   "source": [
    "# testing curve fit\n",
    "@time pbest = solve_rv(numbers, p0 = [116.0, 0.0, mean(time)], alg=\"cf\")"
   ]
  },
  {
   "cell_type": "code",
   "execution_count": 25,
   "metadata": {
    "collapsed": false
   },
   "outputs": [
    {
     "name": "stdout",
     "output_type": "stream",
     "text": [
      "  "
     ]
    },
    {
     "data": {
      "text/plain": [
       "3-element Array{Float64,1}:\n",
       "   116.682  \n",
       "     0.40072\n",
       " 15058.2    "
      ]
     },
     "execution_count": 25,
     "metadata": {},
     "output_type": "execute_result"
    },
    {
     "name": "stdout",
     "output_type": "stream",
     "text": [
      "0.022698 seconds (10.15 k allocations: 7.972 MB)\n"
     ]
    }
   ],
   "source": [
    "# testing optimize\n",
    "@time pbest = solve_rv(numbers, p0 = [116.0, 0.0, mean(time)], alg=\"opt\")"
   ]
  },
  {
   "cell_type": "code",
   "execution_count": null,
   "metadata": {
    "collapsed": true
   },
   "outputs": [],
   "source": []
  }
 ],
 "metadata": {
  "kernelspec": {
   "display_name": "Julia 0.4.5",
   "language": "julia",
   "name": "julia-0.4"
  },
  "language_info": {
   "file_extension": ".jl",
   "mimetype": "application/julia",
   "name": "julia",
   "version": "0.4.5"
  }
 },
 "nbformat": 4,
 "nbformat_minor": 0
}
