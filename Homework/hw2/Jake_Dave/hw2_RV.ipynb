{
 "cells": [
  {
   "cell_type": "code",
   "execution_count": null,
   "metadata": {
    "collapsed": true
   },
   "outputs": [],
   "source": [
    "# Getting started"
   ]
  },
  {
   "cell_type": "code",
   "execution_count": 2,
   "metadata": {
    "collapsed": false
   },
   "outputs": [
    {
     "data": {
      "text/plain": [
       "3-element Array{ByteString,1}:\n",
       " \"/Applications/Julia-0.4.5.app/Contents/Resources/julia/local/share/julia/site/v0.4\"\n",
       " \"/Applications/Julia-0.4.5.app/Contents/Resources/julia/share/julia/site/v0.4\"      \n",
       " \"../../../ExoJulia/\"                                                                "
      ]
     },
     "execution_count": 2,
     "metadata": {},
     "output_type": "execute_result"
    }
   ],
   "source": [
    "push!(LOAD_PATH, \"../../../ExoJulia/\")"
   ]
  },
  {
   "cell_type": "code",
   "execution_count": null,
   "metadata": {
    "collapsed": false
   },
   "outputs": [],
   "source": [
    "Pkg.add(\"LsqFit\")"
   ]
  },
  {
   "cell_type": "code",
   "execution_count": 3,
   "metadata": {
    "collapsed": false
   },
   "outputs": [
    {
     "name": "stderr",
     "output_type": "stream",
     "text": [
      "//anaconda/lib/python2.7/site-packages/matplotlib/font_manager.py:273: UserWarning: Matplotlib is building the font cache using fc-list. This may take a moment.\n",
      "  warnings.warn('Matplotlib is building the font cache using fc-list. This may take a moment.')\n"
     ]
    }
   ],
   "source": [
    "using ExoJulia\n",
    "using PyPlot\n",
    "using LsqFit"
   ]
  },
  {
   "cell_type": "code",
   "execution_count": 19,
   "metadata": {
    "collapsed": false
   },
   "outputs": [
    {
     "data": {
      "text/plain": [
       "agol_periodogram (generic function with 1 method)"
      ]
     },
     "execution_count": 19,
     "metadata": {},
     "output_type": "execute_result"
    }
   ],
   "source": [
    "include(\"utils.jl\")\n",
    "include(\"orbital_utils.jl\")\n",
    "include(\"rv.jl\")"
   ]
  },
  {
   "cell_type": "markdown",
   "metadata": {},
   "source": [
    "### Read-in Mystery RV data"
   ]
  },
  {
   "cell_type": "code",
   "execution_count": 111,
   "metadata": {
    "collapsed": false
   },
   "outputs": [],
   "source": [
    "numbers = readdlm(\"mystery_planet.txt\");"
   ]
  },
  {
   "cell_type": "code",
   "execution_count": 21,
   "metadata": {
    "collapsed": false
   },
   "outputs": [],
   "source": [
    "time = numbers[:,1];\n",
    "rv = numbers[:,2];\n",
    "err = numbers[:,end];"
   ]
  },
  {
   "cell_type": "code",
   "execution_count": 25,
   "metadata": {
    "collapsed": false
   },
   "outputs": [
    {
     "data": {
      "image/png": "[encoded data removed]",
      "text/plain": [
       "PyPlot.Figure(PyObject <matplotlib.figure.Figure object at 0x317685c50>)"
      ]
     },
     "metadata": {},
     "output_type": "display_data"
    },
    {
     "data": {
      "text/plain": [
       "PyObject <matplotlib.text.Text object at 0x320b2ee90>"
      ]
     },
     "execution_count": 25,
     "metadata": {},
     "output_type": "execute_result"
    }
   ],
   "source": [
    "plot(time, rv, \"o\", ms=2.0)\n",
    "xlabel(\"Time\")\n",
    "ylabel(\"RV\")"
   ]
  },
  {
   "cell_type": "markdown",
   "metadata": {},
   "source": [
    "## Period Fitting"
   ]
  },
  {
   "cell_type": "markdown",
   "metadata": {},
   "source": [
    "### Agol Method"
   ]
  },
  {
   "cell_type": "code",
   "execution_count": 32,
   "metadata": {
    "collapsed": false
   },
   "outputs": [
    {
     "data": {
      "text/plain": [
       "linspace(1.0,365.0,1000)"
      ]
     },
     "execution_count": 32,
     "metadata": {},
     "output_type": "execute_result"
    }
   ],
   "source": [
    "periods = linspace(1.0, 365.0, 1000)"
   ]
  },
  {
   "cell_type": "code",
   "execution_count": 33,
   "metadata": {
    "collapsed": false
   },
   "outputs": [],
   "source": [
    "p = collect(periods);"
   ]
  },
  {
   "cell_type": "code",
   "execution_count": 95,
   "metadata": {
    "collapsed": false
   },
   "outputs": [
    {
     "name": "stdout",
     "output_type": "stream",
     "text": [
      "  "
     ]
    },
    {
     "data": {
      "text/plain": [
       "116.50350350350351"
      ]
     },
     "execution_count": 95,
     "metadata": {},
     "output_type": "execute_result"
    },
    {
     "name": "stdout",
     "output_type": "stream",
     "text": [
      "0.009507 seconds (30.01 k allocations: 8.708 MB)\n"
     ]
    }
   ],
   "source": [
    "@time best_period = agol_periodogram(numbers, p)"
   ]
  },
  {
   "cell_type": "markdown",
   "metadata": {},
   "source": [
    "## RV Fitting"
   ]
  },
  {
   "cell_type": "code",
   "execution_count": 87,
   "metadata": {
    "collapsed": false
   },
   "outputs": [
    {
     "data": {
      "text/plain": [
       "func1 (generic function with 1 method)"
      ]
     },
     "execution_count": 87,
     "metadata": {},
     "output_type": "execute_result"
    }
   ],
   "source": [
    "function func1(x, p)\n",
    "    # p = [h,c,v0]\n",
    "    p[1].*cos(x) .+ p[2].*sin(x) .+ p[3]\n",
    "end"
   ]
  },
  {
   "cell_type": "code",
   "execution_count": 89,
   "metadata": {
    "collapsed": false
   },
   "outputs": [
    {
     "data": {
      "text/plain": [
       "func2 (generic function with 1 method)"
      ]
     },
     "execution_count": 89,
     "metadata": {},
     "output_type": "execute_result"
    }
   ],
   "source": [
    "function func2(x, p)\n",
    "    # p = [K, w, ecc, gamma]\n",
    "    p[1] .* (cos(p[2] .+ x) + p[3] .* cos(p[2])) .+ p[4]\n",
    "end"
   ]
  },
  {
   "cell_type": "code",
   "execution_count": null,
   "metadata": {
    "collapsed": true
   },
   "outputs": [],
   "source": []
  },
  {
   "cell_type": "code",
   "execution_count": 129,
   "metadata": {
    "collapsed": false
   },
   "outputs": [
    {
     "name": "stdout",
     "output_type": "stream",
     "text": [
      "  0.000958 seconds (2.14 k allocations: 472.594 KB)\n"
     ]
    }
   ],
   "source": [
    "@time fit2 = curve_fit(func2, time, rv, 1.0./err.^2, [400.0, 0.0, 0.0, 0.0]);"
   ]
  },
  {
   "cell_type": "code",
   "execution_count": 91,
   "metadata": {
    "collapsed": false
   },
   "outputs": [
    {
     "name": "stdout",
     "output_type": "stream",
     "text": [
      "  0.005164 seconds (4.46 k allocations: 520.467 KB)\n"
     ]
    }
   ],
   "source": [
    "@time fit1 = curve_fit(func1, time, rv, 1.0./err.^2, [100.0, 0.0, 0.0]);"
   ]
  },
  {
   "cell_type": "code",
   "execution_count": 92,
   "metadata": {
    "collapsed": false
   },
   "outputs": [
    {
     "data": {
      "text/plain": [
       "3-element Array{Float64,1}:\n",
       "  84.9046 \n",
       "   4.27258\n",
       " -17.5333 "
      ]
     },
     "execution_count": 92,
     "metadata": {},
     "output_type": "execute_result"
    }
   ],
   "source": [
    "fit1.param"
   ]
  },
  {
   "cell_type": "code",
   "execution_count": 130,
   "metadata": {
    "collapsed": false
   },
   "outputs": [
    {
     "data": {
      "text/plain": [
       "4-element Array{Float64,1}:\n",
       "  85.012    \n",
       "  -0.0502798\n",
       "  -0.0500185\n",
       " -13.2865   "
      ]
     },
     "execution_count": 130,
     "metadata": {},
     "output_type": "execute_result"
    }
   ],
   "source": [
    "fit2.param"
   ]
  },
  {
   "cell_type": "code",
   "execution_count": 131,
   "metadata": {
    "collapsed": false
   },
   "outputs": [
    {
     "data": {
      "text/plain": [
       "4-element Array{Float64,1}:\n",
       " 71.974     \n",
       "  0.815139  \n",
       "  6.21635e9 \n",
       "  5.27797e11"
      ]
     },
     "execution_count": 131,
     "metadata": {},
     "output_type": "execute_result"
    }
   ],
   "source": [
    "estimate_errors(fit2)"
   ]
  },
  {
   "cell_type": "code",
   "execution_count": 94,
   "metadata": {
    "collapsed": false
   },
   "outputs": [
    {
     "data": {
      "text/plain": [
       "3x3 Array{Float64,2}:\n",
       " 1785.15      90.3116  -61.2311\n",
       "   90.3116  1679.58    189.417 \n",
       "  -61.2311   189.417   874.461 "
      ]
     },
     "execution_count": 94,
     "metadata": {},
     "output_type": "execute_result"
    }
   ],
   "source": [
    "estimate_covar(fit1)"
   ]
  },
  {
   "cell_type": "code",
   "execution_count": 112,
   "metadata": {
    "collapsed": false
   },
   "outputs": [],
   "source": [
    "numbers[:,1] = mod(numbers[:,1] - numbers[1,1], best_period);"
   ]
  },
  {
   "cell_type": "code",
   "execution_count": 113,
   "metadata": {
    "collapsed": false
   },
   "outputs": [],
   "source": [
    "fastsortrows(numbers, [1]);"
   ]
  },
  {
   "cell_type": "code",
   "execution_count": 114,
   "metadata": {
    "collapsed": false
   },
   "outputs": [
    {
     "data": {
      "text/plain": [
       "59x3 Array{Float64,2}:\n",
       "   0.0      -217.7  1.0\n",
       "   0.00068  -221.0  1.0\n",
       "   0.0014   -217.8  1.0\n",
       "  34.8409   -203.3  1.3\n",
       "  34.8416   -204.2  1.3\n",
       "  34.8423   -203.6  1.2\n",
       "  79.797     321.0  1.1\n",
       "  79.7976    318.4  1.1\n",
       "  79.7983    319.2  1.1\n",
       "  80.7911    290.6  1.2\n",
       "  80.7918    291.0  1.2\n",
       "  80.7925    291.7  1.1\n",
       "  88.7764     90.7  1.2\n",
       "   ⋮                   \n",
       "  25.3589   -238.4  1.0\n",
       "  26.3561   -237.0  1.2\n",
       "  50.566    -113.1  1.3\n",
       " 111.346    -177.0  1.3\n",
       " 111.346    -170.0  1.3\n",
       " 111.347    -172.8  1.2\n",
       "  78.6431    379.9  1.3\n",
       "  78.6455    382.7  1.4\n",
       "  78.6487    386.1  1.5\n",
       " 114.841    -185.9  1.2\n",
       " 108.339    -142.7  1.1\n",
       "  61.7846     24.3  1.4"
      ]
     },
     "execution_count": 114,
     "metadata": {},
     "output_type": "execute_result"
    }
   ],
   "source": [
    "numbers"
   ]
  },
  {
   "cell_type": "code",
   "execution_count": 117,
   "metadata": {
    "collapsed": false
   },
   "outputs": [
    {
     "data": {
      "image/png": "[encoded data removed]",
      "text/plain": [
       "PyPlot.Figure(PyObject <matplotlib.figure.Figure object at 0x32c158690>)"
      ]
     },
     "metadata": {},
     "output_type": "display_data"
    },
    {
     "data": {
      "text/plain": [
       "PyObject <matplotlib.text.Text object at 0x32c3b3b10>"
      ]
     },
     "execution_count": 117,
     "metadata": {},
     "output_type": "execute_result"
    }
   ],
   "source": [
    "plot(numbers[:,1], numbers[:,2], \"o\", ms=2.5)\n",
    "xlabel(\"Days\")\n",
    "ylabel(\"RV\")"
   ]
  },
  {
   "cell_type": "code",
   "execution_count": 123,
   "metadata": {
    "collapsed": false
   },
   "outputs": [],
   "source": [
    "M = zeros(length(time))\n",
    "for i=1:length(time)\n",
    "    M[i] = mean_anaomoly!(best_period, time[i], time[1])\n",
    "end"
   ]
  },
  {
   "cell_type": "code",
   "execution_count": 124,
   "metadata": {
    "collapsed": false
   },
   "outputs": [
    {
     "data": {
      "text/plain": [
       "59-element Array{Float64,1}:\n",
       "   0.0       \n",
       "   3.66733e-5\n",
       "   7.55038e-5\n",
       "   8.1622    \n",
       "   8.16224   \n",
       "   8.16228   \n",
       "  10.5867    \n",
       "  10.5868    \n",
       "  10.5868    \n",
       "  10.6404    \n",
       "  10.6404    \n",
       "  10.6404    \n",
       "  11.071     \n",
       "   ⋮         \n",
       "  95.6154    \n",
       "  95.6692    \n",
       "  96.9749    \n",
       " 100.253     \n",
       " 100.253     \n",
       " 100.253     \n",
       " 111.055     \n",
       " 111.056     \n",
       " 111.056     \n",
       " 119.291     \n",
       " 137.79      \n",
       " 147.845     "
      ]
     },
     "execution_count": 124,
     "metadata": {},
     "output_type": "execute_result"
    }
   ],
   "source": [
    "function fit_to_physical()\n",
    "    \n",
    "end"
   ]
  },
  {
   "cell_type": "code",
   "execution_count": null,
   "metadata": {
    "collapsed": true
   },
   "outputs": [],
   "source": []
  }
 ],
 "metadata": {
  "kernelspec": {
   "display_name": "Julia 0.4.5",
   "language": "julia",
   "name": "julia-0.4"
  },
  "language_info": {
   "file_extension": ".jl",
   "mimetype": "application/julia",
   "name": "julia",
   "version": "0.4.5"
  }
 },
 "nbformat": 4,
 "nbformat_minor": 0
}
