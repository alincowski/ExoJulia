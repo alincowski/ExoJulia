{
 "cells": [
  {
   "cell_type": "code",
   "execution_count": 1,
   "metadata": {
    "collapsed": true
   },
   "outputs": [],
   "source": [
    "# Add relative path to ExoJulia\n",
    "push!(LOAD_PATH, \"../../../ExoJulia/\")\n",
    "\n",
    "# import\n",
    "using ExoJulia"
   ]
  },
  {
   "cell_type": "code",
   "execution_count": 2,
   "metadata": {
    "collapsed": true
   },
   "outputs": [],
   "source": [
    "using LsqFit\n",
    "using PyPlot"
   ]
  },
  {
   "cell_type": "code",
   "execution_count": 34,
   "metadata": {
    "collapsed": false
   },
   "outputs": [
    {
     "data": {
      "text/plain": [
       "M (generic function with 2 methods)"
      ]
     },
     "execution_count": 34,
     "metadata": {},
     "output_type": "execute_result"
    }
   ],
   "source": [
    "# From time to M\n",
    "M(t::Array,t_p::Float64,P::Float64) = (2*pi/P).*(t.-t_p)\n",
    "M(t::Float64,t_p::Float64,P::Float64) = (2*pi/P)*(t-t_p)"
   ]
  },
  {
   "cell_type": "code",
   "execution_count": 31,
   "metadata": {
    "collapsed": false
   },
   "outputs": [
    {
     "data": {
      "text/plain": [
       "EtoF (generic function with 2 methods)"
      ]
     },
     "execution_count": 31,
     "metadata": {},
     "output_type": "execute_result"
    }
   ],
   "source": [
    "#How to convert from E to f\n",
    "EtoF(E::Float64,ecc::Float64) = 2.*atan((((1.+ecc)/(1.-ecc))^(1./2.))*tan(E/2.))\n",
    "EtoF(E::Array,ecc::Float64) = 2.*atan((((1.+ecc)/(1.-ecc))^(1./2.)).*tan(E./2.))"
   ]
  },
  {
   "cell_type": "code",
   "execution_count": 5,
   "metadata": {
    "collapsed": false
   },
   "outputs": [
    {
     "data": {
      "text/plain": [
       "K (generic function with 1 method)"
      ]
     },
     "execution_count": 5,
     "metadata": {},
     "output_type": "execute_result"
    }
   ],
   "source": [
    "K(h::Float64,c::Float64) = sqrt(h*h+c*c)"
   ]
  },
  {
   "cell_type": "code",
   "execution_count": 6,
   "metadata": {
    "collapsed": false
   },
   "outputs": [
    {
     "data": {
      "text/plain": [
       "pomega (generic function with 1 method)"
      ]
     },
     "execution_count": 6,
     "metadata": {},
     "output_type": "execute_result"
    }
   ],
   "source": [
    "pomega(h::Float64,c::Float64) = atand(-c/h)"
   ]
  },
  {
   "cell_type": "code",
   "execution_count": 7,
   "metadata": {
    "collapsed": false
   },
   "outputs": [
    {
     "data": {
      "text/plain": [
       "gamma (generic function with 1 method)"
      ]
     },
     "execution_count": 7,
     "metadata": {},
     "output_type": "execute_result"
    }
   ],
   "source": [
    "gamma(v0::Float64,K::Float64,ecc::Float64,pomega::Float64) = v0-K*ecc*cosd(pomega)"
   ]
  },
  {
   "cell_type": "code",
   "execution_count": 8,
   "metadata": {
    "collapsed": false
   },
   "outputs": [
    {
     "data": {
      "text/plain": [
       "P_guesser (generic function with 1 method)"
      ]
     },
     "execution_count": 8,
     "metadata": {},
     "output_type": "execute_result"
    }
   ],
   "source": [
    "function P_guesser(x_data::Array,y_data::Array)\n",
    "    \n",
    "    #minimum period to look for is distance between data points. Let's put the distances in an array\n",
    "    x_dist=[]\n",
    "    for i=2:size(x_data)[1]\n",
    "        push!(x_dist,x_data[i]-x_data[i-1])\n",
    "    end\n",
    "    \n",
    "    sq_array = []\n",
    "    P_array = []\n",
    "    \n",
    "    for P=mean(x_dist):0.5:maximum(x_data)-minimum(y_data)\n",
    "        \n",
    "        phases = mod(x_data,P)\n",
    "        RV_sort = y_data[sortperm(phases)] \n",
    "        \n",
    "        sq = 0.0\n",
    "        for i=2:size(RV_sort)[1]\n",
    "            sq += (RV_sort[i]-RV_sort[i-1])^2.0\n",
    "        end\n",
    "        \n",
    "        push!(sq_array,sq)\n",
    "        push!(P_array,P)\n",
    "    end\n",
    "    \n",
    "    return P_array[findmin(sq_array)[2]]\n",
    "    \n",
    "end"
   ]
  },
  {
   "cell_type": "code",
   "execution_count": 9,
   "metadata": {
    "collapsed": false
   },
   "outputs": [],
   "source": [
    "data = readdlm(\"mystery_planet.txt\",Float64) ;"
   ]
  },
  {
   "cell_type": "code",
   "execution_count": 10,
   "metadata": {
    "collapsed": false
   },
   "outputs": [],
   "source": [
    "times = data[:,1]\n",
    "RVs = data[:,2]\n",
    "RV_errs = data[:,3] ;"
   ]
  },
  {
   "cell_type": "code",
   "execution_count": 33,
   "metadata": {
    "collapsed": false
   },
   "outputs": [
    {
     "data": {
      "text/plain": [
       "kepler_solve! (generic function with 1 method)"
      ]
     },
     "execution_count": 33,
     "metadata": {},
     "output_type": "execute_result"
    }
   ],
   "source": [
    "function kepler_solve!(Ms::Array{Float64},ecc::Float64)\n",
    "    results = Float64[]\n",
    "    for em in Ms\n",
    "        push!(results,ExoJulia.Orbit.kepler_solve!(em, ecc))\n",
    "    end\n",
    "    return results\n",
    "end"
   ]
  },
  {
   "cell_type": "code",
   "execution_count": 62,
   "metadata": {
    "collapsed": false
   },
   "outputs": [
    {
     "data": {
      "text/plain": [
       "fit_RV (generic function with 1 method)"
      ]
     },
     "execution_count": 62,
     "metadata": {},
     "output_type": "execute_result"
    }
   ],
   "source": [
    "function fit_RV(x_data,y_data,y_err)\n",
    "    \n",
    "    P_guess = P_guesser(x_data,y_data)\n",
    "    \n",
    "    #Because h, c and v0 depend on the data, we'll need to define the function when we fit\n",
    "    \n",
    "    function hcv0(f::Array)\n",
    "        W = diagm(1.0./(y_err.^2.0))\n",
    "        F = hcat(cos(f),sin(f),[1.0 for x in f])'\n",
    "        epsilon = inv(F*W*F')\n",
    "        return y_data'*W*F'*epsilon\n",
    "    end\n",
    "    \n",
    "    function v_rad(t::Array,params) #params are e,t_p,P\n",
    "        if 0 <= params[1] < 1\n",
    "            Es = kepler_solve!(M(t,params[2],params[3]),params[1])\n",
    "            f = EtoF(Es,params[1])\n",
    "            h,c,v0 = hcv0(f)\n",
    "            return h.*cos(f)+c*sin(f).+v0\n",
    "        else\n",
    "            return Inf\n",
    "        end\n",
    "    end\n",
    "    \n",
    "    function get_params(fit_obj::LsqFit.LsqFitResult{Float64}) #returns e,t_p,P,K,pomega,gamma\n",
    "        params = fit_obj.param\n",
    "        ecc = params[1]\n",
    "        teepee = params[2]\n",
    "        per = params[3]\n",
    "        Es = kepler_solve!(M(x_data,teepee,per),ecc)\n",
    "        f = EtoF(Es,ecc)\n",
    "        h,c,v0 = hcv0(f)\n",
    "        kay = K(h,c)\n",
    "        pomeg = pomega(h,c)\n",
    "        gam = gamma(v0,kay,ecc,pomeg)\n",
    "        return ecc,teepee,per,kay,pomeg,gam\n",
    "    end\n",
    "        \n",
    "    p0 = [0.1,x_data[1],P_guess]\n",
    "    return get_params(curve_fit(v_rad,x_data,y_data,(1.0./y_err.^2.0),p0))\n",
    "    \n",
    "end"
   ]
  },
  {
   "cell_type": "code",
   "execution_count": 63,
   "metadata": {
    "collapsed": false
   },
   "outputs": [],
   "source": [
    "result = fit_RV(times,RVs,RV_errs) ;"
   ]
  },
  {
   "cell_type": "code",
   "execution_count": 64,
   "metadata": {
    "collapsed": false
   },
   "outputs": [
    {
     "name": "stdout",
     "output_type": "stream",
     "text": [
      "e = 0.40016612320726774\n",
      "t_p = 13891.356528538307\n",
      "P = 116.68569506349166\n",
      "K = 316.1090092004665\n",
      "pomega = -0.7766860911621005\n",
      "gamma = -51.916669565780765\n"
     ]
    }
   ],
   "source": [
    "param_names = [\"e\",\"t_p\",\"P\",\"K\",\"pomega\",\"gamma\"]\n",
    "for (param,res) in zip(param_names,result)\n",
    "    println(\"$param = $res\")\n",
    "end"
   ]
  },
  {
   "cell_type": "code",
   "execution_count": 66,
   "metadata": {
    "collapsed": false
   },
   "outputs": [
    {
     "data": {
      "text/plain": [
       "eff_func (generic function with 1 method)"
      ]
     },
     "execution_count": 66,
     "metadata": {},
     "output_type": "execute_result"
    }
   ],
   "source": [
    "function eff_func(t,t0::Float64,r0::Float64,sma::Float64,ecc::Float64,t_p::Float64,P::Float64)\n",
    "    Ms = M(t,t_p,P)\n",
    "    M0 = M(t0,t_p,P)\n",
    "    E0 = kepler_solve!(M0,ecc)\n",
    "    E = kepler_solve!(Ms,ecc)\n",
    "    return (sma/r0).*(cos(E.-E0).+1)\n",
    "end"
   ]
  },
  {
   "cell_type": "code",
   "execution_count": 69,
   "metadata": {
    "collapsed": false
   },
   "outputs": [
    {
     "data": {
      "text/plain": [
       "gee_func (generic function with 1 method)"
      ]
     },
     "execution_count": 69,
     "metadata": {},
     "output_type": "execute_result"
    }
   ],
   "source": [
    "function gee_func(t,t0::Float64,r0::Float64,sma::Float64,ecc::Float64,t_p::Float64,P::Float64)\n",
    "    Ms = M(t,t_p,P)\n",
    "    M0 = M(t0,t_p,P)\n",
    "    E0 = kepler_solve!(M0,ecc)\n",
    "    E = kepler_solve!(Ms,ecc)\n",
    "    return (t.-t0).+(P/(2.0*pi)).*(sin(E.-E0)-(E.-E0))\n",
    "end"
   ]
  }
 ],
 "metadata": {
  "kernelspec": {
   "display_name": "Julia 0.4.5",
   "language": "julia",
   "name": "julia-0.4"
  },
  "language_info": {
   "file_extension": ".jl",
   "mimetype": "application/julia",
   "name": "julia",
   "version": "0.4.5"
  }
 },
 "nbformat": 4,
 "nbformat_minor": 0
}
