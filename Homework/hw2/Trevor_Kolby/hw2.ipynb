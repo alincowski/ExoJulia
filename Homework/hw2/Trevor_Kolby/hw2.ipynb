{
 "cells": [
  {
   "cell_type": "code",
   "execution_count": 50,
   "metadata": {
    "collapsed": true
   },
   "outputs": [],
   "source": [
    "using LsqFit"
   ]
  },
  {
   "cell_type": "code",
   "execution_count": 72,
   "metadata": {
    "collapsed": false
   },
   "outputs": [
    {
     "data": {
      "text/plain": [
       "M (generic function with 2 methods)"
      ]
     },
     "execution_count": 72,
     "metadata": {},
     "output_type": "execute_result"
    }
   ],
   "source": [
    "# From time to M\n",
    "M(t::Array,t_p::Float64,P::Float64) = (2*pi/P).*(t.-t_p)\n",
    "M(t::Float64,t_p::Float64,P::Float64) = (2*pi/P)*(t-t_p)"
   ]
  },
  {
   "cell_type": "code",
   "execution_count": 89,
   "metadata": {
    "collapsed": false
   },
   "outputs": [
    {
     "data": {
      "text/plain": [
       "g (generic function with 3 methods)"
      ]
     },
     "execution_count": 89,
     "metadata": {},
     "output_type": "execute_result"
    }
   ],
   "source": [
    "# this should evaluate to zero when E is correct\n",
    "g(E::Array,ecc,m::Array) = E .- ecc.*sin(E) .- m\n",
    "g(E::Float64,ecc,m::Float64) = E - ecc*sin(E) - m"
   ]
  },
  {
   "cell_type": "code",
   "execution_count": 90,
   "metadata": {
    "collapsed": false
   },
   "outputs": [
    {
     "data": {
      "text/plain": [
       "g_prime (generic function with 2 methods)"
      ]
     },
     "execution_count": 90,
     "metadata": {},
     "output_type": "execute_result"
    }
   ],
   "source": [
    "# g'(E)\n",
    "g_prime(E::Float64,ecc) = 1.0 - ecc*cos(E)\n",
    "g_prime(E::Array,ecc) = 1.0 .- ecc.*cos(E)"
   ]
  },
  {
   "cell_type": "code",
   "execution_count": 164,
   "metadata": {
    "collapsed": false
   },
   "outputs": [
    {
     "data": {
      "text/plain": [
       "sign (generic function with 2 methods)"
      ]
     },
     "execution_count": 164,
     "metadata": {},
     "output_type": "execute_result"
    }
   ],
   "source": [
    "#+1 for positive x, -1 for negative, with proper handling of zero division\n",
    "function sign(x::Array)\n",
    "    result = []\n",
    "    for val in x\n",
    "        if val!= 0.0\n",
    "            push!(result,val/abs(val))\n",
    "        else\n",
    "            push!(result,0.0)\n",
    "        end\n",
    "    end\n",
    "    return result\n",
    "end\n",
    "function sign(x::Float64)\n",
    "    if x!= 0.0\n",
    "        return x/abs(x)\n",
    "    else\n",
    "        return 0.0\n",
    "    end\n",
    "end"
   ]
  },
  {
   "cell_type": "code",
   "execution_count": 92,
   "metadata": {
    "collapsed": false
   },
   "outputs": [
    {
     "data": {
      "text/plain": [
       "E0 (generic function with 2 methods)"
      ]
     },
     "execution_count": 92,
     "metadata": {},
     "output_type": "execute_result"
    }
   ],
   "source": [
    "#Best guess at initial E0\n",
    "E0(m::Array) = m .+ 0.85.*sign(sin(m))\n",
    "E0(m::Float64) = m + 0.85*sign(sin(m))"
   ]
  },
  {
   "cell_type": "code",
   "execution_count": 175,
   "metadata": {
    "collapsed": false
   },
   "outputs": [
    {
     "data": {
      "text/plain": [
       "newtons (generic function with 2 methods)"
      ]
     },
     "execution_count": 175,
     "metadata": {},
     "output_type": "execute_result"
    }
   ],
   "source": [
    "#Newtons takes a function, that function's derivative, a guess at the best value to make the \n",
    "#function equal to zero and the parameters to the function. delta can be specified depending\n",
    "#on your machine's precision.\n",
    "\n",
    "function newtons(f::Function,f_prime::Function,E_0::Float64,ecc::Float64,m::Float64;delta=1e-14)\n",
    "    \n",
    "    E_new = E_0\n",
    "    dE = 1.\n",
    "    \n",
    "    while abs(dE)>delta\n",
    "        E_old = E_new\n",
    "        E_new = E_old - (f(E_old,ecc,m)/f_prime(E_old,ecc))\n",
    "        dE = E_new-E_old\n",
    "    end\n",
    "    \n",
    "    return E_new\n",
    "    \n",
    "end\n",
    "\n",
    "function newtons(f::Function,f_prime::Function,E_0::Array,ecc::Float64,m::Array;delta=1e-14)\n",
    "    \n",
    "    E_news = []\n",
    "    counter = 0\n",
    "    for (val,em) in zip(E_0,m)\n",
    "        counter+=1\n",
    "        E_new = val\n",
    "        dE = 1.0\n",
    "        \n",
    "        while abs(dE)>delta\n",
    "            E_old = E_new\n",
    "            E_new = E_old - (f(E_old,ecc,em)/f_prime(E_old,em))\n",
    "            dE = E_new-E_old\n",
    "        end\n",
    "    \n",
    "        push!(E_news,E_new)\n",
    "    end\n",
    "    \n",
    "    return E_news\n",
    "    \n",
    "end"
   ]
  },
  {
   "cell_type": "code",
   "execution_count": 184,
   "metadata": {
    "collapsed": false
   },
   "outputs": [
    {
     "data": {
      "text/plain": [
       "EtoF (generic function with 2 methods)"
      ]
     },
     "execution_count": 184,
     "metadata": {},
     "output_type": "execute_result"
    }
   ],
   "source": [
    "#How to convert from E to f\n",
    "EtoF(E::Float64,ecc::Float64) = 2.*atan((((1.+ecc)/(1.-ecc))^(1./2.))*tan(E/2.))\n",
    "EtoF(E::Array,ecc::Float64) = 2.*atan((((1.+ecc)/(1.-ecc))^(1./2.)).*sin(E./2.)./cos(E./2.))"
   ]
  },
  {
   "cell_type": "code",
   "execution_count": 80,
   "metadata": {
    "collapsed": false
   },
   "outputs": [
    {
     "data": {
      "text/plain": [
       "K (generic function with 1 method)"
      ]
     },
     "execution_count": 80,
     "metadata": {},
     "output_type": "execute_result"
    }
   ],
   "source": [
    "K(h::Float64,c::Float64) = sqrt(h*h+c*c)"
   ]
  },
  {
   "cell_type": "code",
   "execution_count": 81,
   "metadata": {
    "collapsed": false
   },
   "outputs": [
    {
     "data": {
      "text/plain": [
       "pomega (generic function with 1 method)"
      ]
     },
     "execution_count": 81,
     "metadata": {},
     "output_type": "execute_result"
    }
   ],
   "source": [
    "pomega(h::Float64,c::Float64) = atand(-c/h)"
   ]
  },
  {
   "cell_type": "code",
   "execution_count": 95,
   "metadata": {
    "collapsed": false
   },
   "outputs": [
    {
     "data": {
      "text/plain": [
       "gamma (generic function with 1 method)"
      ]
     },
     "execution_count": 95,
     "metadata": {},
     "output_type": "execute_result"
    }
   ],
   "source": [
    "gamma(v0::Float64,K::Float64,ecc::Float64,pomega::Float64) = v0-K*ecc*cosd(pomega)"
   ]
  },
  {
   "cell_type": "code",
   "execution_count": 83,
   "metadata": {
    "collapsed": false
   },
   "outputs": [
    {
     "data": {
      "text/plain": [
       "P_guesser (generic function with 1 method)"
      ]
     },
     "execution_count": 83,
     "metadata": {},
     "output_type": "execute_result"
    }
   ],
   "source": [
    "function P_guesser(x_data::Array,y_data::Array)\n",
    "    \n",
    "    #minimum period to look for is distance between data points. Let's put the distances in an array\n",
    "    x_dist=[]\n",
    "    for i=2:size(x_data)[1]\n",
    "        push!(x_dist,x_data[i]-x_data[i-1])\n",
    "    end\n",
    "    \n",
    "    sq_array = []\n",
    "    P_array = []\n",
    "    \n",
    "    for P=mean(x_dist):0.5:maximum(x_data)-minimum(y_data)\n",
    "        \n",
    "        phases = mod(x_data,P)\n",
    "        RV_sort = y_data[sortperm(phases)] \n",
    "        \n",
    "        sq = 0.0\n",
    "        for i=2:size(RV_sort)[1]\n",
    "            sq += (RV_sort[i]-RV_sort[i-1])^2.0\n",
    "        end\n",
    "        \n",
    "        push!(sq_array,sq)\n",
    "        push!(P_array,P)\n",
    "    end\n",
    "    \n",
    "    return P_array[findmin(sq_array)[2]]\n",
    "    \n",
    "end"
   ]
  },
  {
   "cell_type": "code",
   "execution_count": 84,
   "metadata": {
    "collapsed": false
   },
   "outputs": [],
   "source": [
    "data = readdlm(\"mystery_planet.txt\",Float64) ;"
   ]
  },
  {
   "cell_type": "code",
   "execution_count": 85,
   "metadata": {
    "collapsed": false
   },
   "outputs": [],
   "source": [
    "times = data[:,1]\n",
    "RVs = data[:,2]\n",
    "RV_errs = data[:,3] ;"
   ]
  },
  {
   "cell_type": "code",
   "execution_count": 190,
   "metadata": {
    "collapsed": false
   },
   "outputs": [
    {
     "data": {
      "text/plain": [
       "fit_RV (generic function with 1 method)"
      ]
     },
     "execution_count": 190,
     "metadata": {},
     "output_type": "execute_result"
    }
   ],
   "source": [
    "function fit_RV(x_data,y_data,y_err)\n",
    "    \n",
    "    P_guess = P_guesser(x_data,y_data)\n",
    "    \n",
    "    #Because h, c and v0 depend on the data, we'll need to define the function when we fit\n",
    "    \n",
    "    function hcv0(f::Array)\n",
    "        W = diagm(1.0./(y_err.^2.0))\n",
    "        F = hcat(cos(f),sin(f),[1.0 for x in x_data])'\n",
    "        epsilon = inv(F*W*F')\n",
    "        return y_data'*W*F'*epsilon\n",
    "    end\n",
    "    function hcv0(ecc,P,t_p)\n",
    "        W = diagm(1.0./(y_err.^2.0))\n",
    "        F = hcat([cos(EtoF(newtons(g,g_prime,E0(M(t,t_p,P)),ecc,M(t,t_p,P)),ecc)) for t in x_data],[sin(EtoF(newtons(g,g_prime,E0(M(t,t_p,P)),ecc,M(t,t_p,P)),ecc)) for t in x_data],[1.0 for x in x_data])'\n",
    "        epsilon = inv(F*W*F')\n",
    "        return y_data'*W*F'*epsilon\n",
    "    end\n",
    "    \n",
    "    function v_rad(t::Array,params) #params are e,P,t_p\n",
    "        if 0 <= params[1] < 1\n",
    "            f = EtoF(newtons(g,g_prime,E0(M(t,params[3],params[2])),params[1],M(t,params[3],params[2])),params[1])\n",
    "            h,c,v0 = hcv0(f)\n",
    "            return h.*cos(f)+c*sin(f).+v0\n",
    "        else\n",
    "            return Inf\n",
    "        end\n",
    "    end\n",
    "    function v_rad(t::Float64,params)\n",
    "        if 0.0 <= params[1] < 1.0\n",
    "            f = EtoF(newtons(g,g_prime,E0(M(t,params[3],params[2])),params[1],M(t,params[3],params[2])),params[1])\n",
    "            h,c,v0 = hcv0(params[1],params[2],params[3])\n",
    "            return h*cos(f)+c*sin(f)+v0\n",
    "        else\n",
    "            return Inf\n",
    "        end\n",
    "    end\n",
    "\n",
    "    \n",
    "    p0 = [0.1,P_guess,x_data[1]]\n",
    "    println(sin(newtons(g,g_prime,E0(M([x_data[1],x_data[2]],p0[3],p0[2])),p0[1],M([x_data[1],x_data[2]],p0[3],p0[2]))))\n",
    "    \n",
    "    #scatter(x_data,y_data,y_err)\n",
    "    #scatter(x_data,v_rad(x_data,p0))\n",
    "    \n",
    "end"
   ]
  },
  {
   "cell_type": "code",
   "execution_count": 191,
   "metadata": {
    "collapsed": false
   },
   "outputs": [
    {
     "ename": "LoadError",
     "evalue": "LoadError: MethodError: `sin` has no method matching sin(::Array{Any,1})\nwhile loading In[191], in expression starting on line 1",
     "output_type": "error",
     "traceback": [
      "LoadError: MethodError: `sin` has no method matching sin(::Array{Any,1})\nwhile loading In[191], in expression starting on line 1",
      "",
      " in fit_RV at In[190]:41"
     ]
    }
   ],
   "source": [
    "fit_RV(times,RVs,RV_errs)"
   ]
  },
  {
   "cell_type": "code",
   "execution_count": 189,
   "metadata": {
    "collapsed": false
   },
   "outputs": [
    {
     "data": {
      "text/html": [
       "13 methods for generic function <b>sin</b>:<ul><li> sin(a::<b>Complex{Float16}</b>) at <a href=\"https://github.com/JuliaLang/julia/tree/2ac304dfba75fad148d4070ef4f8a2e400c305bb/base/float16.jl#L151\" target=\"_blank\">float16.jl:151</a><li> sin(z::<b>Complex{T<:Real}</b>) at <a href=\"https://github.com/JuliaLang/julia/tree/2ac304dfba75fad148d4070ef4f8a2e400c305bb/base/complex.jl#L548\" target=\"_blank\">complex.jl:548</a><li> sin(x::<b>Float64</b>) at <a href=\"https://github.com/JuliaLang/julia/tree/2ac304dfba75fad148d4070ef4f8a2e400c305bb/base/math.jl#L137\" target=\"_blank\">math.jl:137</a><li> sin(x::<b>Float32</b>) at <a href=\"https://github.com/JuliaLang/julia/tree/2ac304dfba75fad148d4070ef4f8a2e400c305bb/base/math.jl#L138\" target=\"_blank\">math.jl:138</a><li> sin(a::<b>Float16</b>) at <a href=\"https://github.com/JuliaLang/julia/tree/2ac304dfba75fad148d4070ef4f8a2e400c305bb/base/float16.jl#L150\" target=\"_blank\">float16.jl:150</a><li> sin(x::<b>BigFloat</b>) at <a href=\"https://github.com/JuliaLang/julia/tree/2ac304dfba75fad148d4070ef4f8a2e400c305bb/base/mpfr.jl#L610\" target=\"_blank\">mpfr.jl:610</a><li> sin(x::<b>Real</b>) at <a href=\"https://github.com/JuliaLang/julia/tree/2ac304dfba75fad148d4070ef4f8a2e400c305bb/base/math.jl#L139\" target=\"_blank\">math.jl:139</a><li> sin<i>{Tv,Ti}</i>(A::<b>SparseMatrixCSC{Tv,Ti}</b>) at <a href=\"https://github.com/JuliaLang/julia/tree/2ac304dfba75fad148d4070ef4f8a2e400c305bb/base/sparse/sparsematrix.jl#L648\" target=\"_blank\">sparse/sparsematrix.jl:648</a><li> sin<i>{T<:Number}</i>(::<b>AbstractArray{T<:Number,1}</b>) at <a href=\"https://github.com/JuliaLang/julia/tree/2ac304dfba75fad148d4070ef4f8a2e400c305bb/base/operators.jl#L380\" target=\"_blank\">operators.jl:380</a><li> sin<i>{T<:Number}</i>(::<b>AbstractArray{T<:Number,2}</b>) at <a href=\"https://github.com/JuliaLang/julia/tree/2ac304dfba75fad148d4070ef4f8a2e400c305bb/base/operators.jl#L381\" target=\"_blank\">operators.jl:381</a><li> sin<i>{T<:Number}</i>(::<b>AbstractArray{T<:Number,N}</b>) at <a href=\"https://github.com/JuliaLang/julia/tree/2ac304dfba75fad148d4070ef4f8a2e400c305bb/base/operators.jl#L383\" target=\"_blank\">operators.jl:383</a><li> sin(z::<b>DualNumbers.Dual{T<:Union{Complex{T<:Real},Real}}</b>) at <a href=\"https://github.com/JuliaDiff/DualNumbers.jl/tree/ccc83f8c073ce8f2668141a733b5084674f5b0e3/src/dual.jl#L271\" target=\"_blank\">/Users/trevorzaylen/.julia/v0.4/DualNumbers/src/dual.jl:271</a><li> sin(z::<b>DualNumbers.Dual4{T<:Real}</b>) at <a href=\"https://github.com/JuliaDiff/DualNumbers.jl/tree/ccc83f8c073ce8f2668141a733b5084674f5b0e3/src/dual_n.jl#L154\" target=\"_blank\">/Users/trevorzaylen/.julia/v0.4/DualNumbers/src/dual_n.jl:154</a></ul>"
      ],
      "text/plain": [
       "# 13 methods for generic function \"sin\":\n",
       "sin(a::Complex{Float16}) at float16.jl:151\n",
       "sin(z::Complex{T<:Real}) at complex.jl:548\n",
       "sin(x::Float64) at math.jl:137\n",
       "sin(x::Float32) at math.jl:138\n",
       "sin(a::Float16) at float16.jl:150\n",
       "sin(x::BigFloat) at mpfr.jl:610\n",
       "sin(x::Real) at math.jl:139\n",
       "sin{Tv,Ti}(A::SparseMatrixCSC{Tv,Ti}) at sparse/sparsematrix.jl:648\n",
       "sin{T<:Number}(::AbstractArray{T<:Number,1}) at operators.jl:380\n",
       "sin{T<:Number}(::AbstractArray{T<:Number,2}) at operators.jl:381\n",
       "sin{T<:Number}(::AbstractArray{T<:Number,N}) at operators.jl:383\n",
       "sin(z::DualNumbers.Dual{T<:Union{Complex{T<:Real},Real}}) at /Users/trevorzaylen/.julia/v0.4/DualNumbers/src/dual.jl:271\n",
       "sin(z::DualNumbers.Dual4{T<:Real}) at /Users/trevorzaylen/.julia/v0.4/DualNumbers/src/dual_n.jl:154"
      ]
     },
     "execution_count": 189,
     "metadata": {},
     "output_type": "execute_result"
    }
   ],
   "source": [
    "methods(sin)"
   ]
  },
  {
   "cell_type": "code",
   "execution_count": null,
   "metadata": {
    "collapsed": true
   },
   "outputs": [],
   "source": []
  }
 ],
 "metadata": {
  "kernelspec": {
   "display_name": "Julia 0.4.5",
   "language": "julia",
   "name": "julia-0.4"
  },
  "language_info": {
   "file_extension": ".jl",
   "mimetype": "application/julia",
   "name": "julia",
   "version": "0.4.5"
  }
 },
 "nbformat": 4,
 "nbformat_minor": 0
}
