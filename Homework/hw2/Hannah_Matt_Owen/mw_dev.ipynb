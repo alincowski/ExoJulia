{
 "cells": [
  {
   "cell_type": "code",
   "execution_count": 1,
   "metadata": {
    "collapsed": false
   },
   "outputs": [
    {
     "data": {
      "text/plain": [
       "estimate_period (generic function with 1 method)"
      ]
     },
     "execution_count": 1,
     "metadata": {},
     "output_type": "execute_result"
    }
   ],
   "source": [
    "\"\"\"\n",
    "estimate_period(time, rv, min_p, max_p, num_points)\n",
    "\n",
    "Estimate the orbital period from the Agol method.\n",
    "\"\"\"\n",
    "function estimate_period(time, rv, min_p, max_p, num_points)\n",
    "  period = 0\n",
    "  prev = Inf\n",
    "    for p in linspace(min_p, max_p, num_points)\n",
    "    sum = 0\n",
    "    data_temp = zeros(Float64, length(time), 2)\n",
    "    data_temp[:,1] = mod(time,p)\n",
    "    data_temp[:,2] = rv\n",
    "    sorted = sortrows(data_temp, by=x->x[1])\n",
    "\n",
    "    for i=2:length(time)\n",
    "        sum += (sorted[i,2] - sorted[i-1,2])^2\n",
    "    end\n",
    "\n",
    "    if sum < prev\n",
    "      prev = sum\n",
    "      period = p\n",
    "    end\n",
    "  end\n",
    "  return period\n",
    "end"
   ]
  },
  {
   "cell_type": "code",
   "execution_count": 2,
   "metadata": {
    "collapsed": false
   },
   "outputs": [],
   "source": [
    "data =  readdlm(\"./mystery_planet.txt\");\n",
    "time = data[:,1];\n",
    "rv = data[:,2];\n",
    "err = data[:,3];"
   ]
  },
  {
   "cell_type": "code",
   "execution_count": 3,
   "metadata": {
    "collapsed": false
   },
   "outputs": [
    {
     "data": {
      "text/plain": [
       "116.68166816681668"
      ]
     },
     "execution_count": 3,
     "metadata": {},
     "output_type": "execute_result"
    }
   ],
   "source": [
    "estimate_period(time, rv, 100, 150, 10000)"
   ]
  },
  {
   "cell_type": "code",
   "execution_count": 4,
   "metadata": {
    "collapsed": true
   },
   "outputs": [],
   "source": [
    "using PyPlot"
   ]
  },
  {
   "cell_type": "markdown",
   "metadata": {},
   "source": [
    "## Test our period guessing scheme:"
   ]
  },
  {
   "cell_type": "code",
   "execution_count": null,
   "metadata": {
    "collapsed": false
   },
   "outputs": [],
   "source": [
    "period = 0\n",
    "prev = Inf\n",
    "sumslist = []\n",
    "for p in linspace(0, 1000, 10000)\n",
    "    sums = 0\n",
    "    data_temp = zeros(Float64, length(time), 2)\n",
    "    data_temp[:,1] = mod(time,p)\n",
    "    data_temp[:,2] = rv\n",
    "    sorted = sortrows(data_temp, by=x->x[1])\n",
    "\n",
    "    for i=2:length(time)\n",
    "        sums += (sorted[i,2] - sorted[i-1,2])^2\n",
    "    end\n",
    "    push!(sumslist, sums)\n",
    "    \n",
    "    if sums < prev\n",
    "        prev = sums\n",
    "        period = p\n",
    "    end\n",
    "end\n",
    "println(period)"
   ]
  },
  {
   "cell_type": "code",
   "execution_count": null,
   "metadata": {
    "collapsed": false
   },
   "outputs": [],
   "source": [
    "plot(linspace(0, 1000, 10000), sumslist)\n",
    "yscale(\"log\")"
   ]
  },
  {
   "cell_type": "code",
   "execution_count": null,
   "metadata": {
    "collapsed": false
   },
   "outputs": [],
   "source": [
    "p = 115    \n",
    "sums = 0\n",
    "data_temp = zeros(Float64, length(time), 2)\n",
    "data_temp[:,1] = mod(time,p)\n",
    "data_temp[:,2] = rv\n",
    "sorted = sortrows(data_temp, by=x->x[1])\n",
    "\n",
    "for i=2:length(time)\n",
    "    sums += (sorted[i,2] - sorted[i-1,2])^2\n",
    "    push!(sumslist, sums)\n",
    "end"
   ]
  },
  {
   "cell_type": "code",
   "execution_count": null,
   "metadata": {
    "collapsed": false
   },
   "outputs": [],
   "source": [
    "sorted[1,2]"
   ]
  },
  {
   "cell_type": "code",
   "execution_count": null,
   "metadata": {
    "collapsed": false
   },
   "outputs": [],
   "source": [
    "data_temp"
   ]
  },
  {
   "cell_type": "code",
   "execution_count": null,
   "metadata": {
    "collapsed": true
   },
   "outputs": [],
   "source": []
  }
 ],
 "metadata": {
  "kernelspec": {
   "display_name": "Julia 0.4.5",
   "language": "julia",
   "name": "julia-0.4"
  },
  "language_info": {
   "file_extension": ".jl",
   "mimetype": "application/julia",
   "name": "julia",
   "version": "0.4.5"
  }
 },
 "nbformat": 4,
 "nbformat_minor": 0
}
